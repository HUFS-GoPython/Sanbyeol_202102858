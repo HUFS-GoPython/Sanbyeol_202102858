{
 "cells": [
  {
   "cell_type": "markdown",
   "id": "1994c8d6-485f-4ceb-9fcf-af98f745d81e",
   "metadata": {},
   "source": [
    "# 3주차 복습"
   ]
  },
  {
   "cell_type": "markdown",
   "id": "c3466467-c629-4994-a9c5-02305099524e",
   "metadata": {},
   "source": [
    "## if 중첩조건문 | nested conditional"
   ]
  },
  {
   "cell_type": "code",
   "execution_count": null,
   "id": "79959b3e-bd1b-4714-941b-0943c08c8d9d",
   "metadata": {},
   "outputs": [],
   "source": [
    "- 조건이 여러개일 경우 if 블록안에 또 if블록 생성\n",
    "- 구분은 들여쓰기로 한다. \n",
    "- 그러나 사용을 지양함. (가독성이 좋지 않기 때문)"
   ]
  },
  {
   "cell_type": "code",
   "execution_count": null,
   "id": "67f0a3e9-41a5-442d-bb18-d4da440c9cdf",
   "metadata": {},
   "outputs": [],
   "source": [
    "x = 0\n",
    "y = 4\n",
    "\n",
    "if x == y:\n",
    "    print('BlockA')\n",
    "else:\n",
    "    if x < y:\n",
    "        print('BlockB')\n",
    "    else:\n",
    "        print('BlockC')\n",
    "# 중첩 조건문을 여러개 쓰는것은 가독성이 좋지 않다. "
   ]
  },
  {
   "cell_type": "code",
   "execution_count": null,
   "id": "3d4ce29f-e781-4eeb-ae41-773a22a3efc4",
   "metadata": {},
   "outputs": [],
   "source": [
    "# 효율적으로 나타내기\n",
    "if x == y:\n",
    "    print('BlockA')\n",
    "elif x < y :\n",
    "    print('BlockB')\n",
    "else:\n",
    "    print('BlockC')"
   ]
  },
  {
   "cell_type": "code",
   "execution_count": 3,
   "id": "dce08e2d-5455-4cb2-82a6-ddf7ab61eb80",
   "metadata": {},
   "outputs": [
    {
     "name": "stdin",
     "output_type": "stream",
     "text": [
      "x= 3\n"
     ]
    },
    {
     "name": "stdout",
     "output_type": "stream",
     "text": [
      "A\n"
     ]
    }
   ],
   "source": [
    " # 0 < x < 10 검사하기\n",
    "x = float(input('x='))\n",
    "if x > 0:\n",
    "    if x < 10:\n",
    "        print('A')\n",
    "    else:\n",
    "        print('B')\n",
    "else:\n",
    "    print('C')    "
   ]
  },
  {
   "cell_type": "code",
   "execution_count": 4,
   "id": "33f68d3f-a5b5-4352-a0ec-40ea91a65586",
   "metadata": {},
   "outputs": [
    {
     "name": "stdout",
     "output_type": "stream",
     "text": [
      "A\n"
     ]
    }
   ],
   "source": [
    "# 더 효율적으로 나타내는 방법\n",
    "# 1.논리연산자 사용\n",
    "if (x > 0) and (x < 10): \n",
    "    print('A')\n",
    "else:\n",
    "    print('B')"
   ]
  },
  {
   "cell_type": "code",
   "execution_count": null,
   "id": "3e3d039b-c865-4041-8bf0-85cd638071e6",
   "metadata": {},
   "outputs": [],
   "source": [
    "# 2.\n",
    "if 0 < x <10:\n",
    "    print('A')\n",
    "else:\n",
    "    print('B')\n",
    "# 0 < x <10는 파이썬에서만 사용 가능"
   ]
  },
  {
   "cell_type": "markdown",
   "id": "c869af56-b833-46ee-84e2-35a52e7e86df",
   "metadata": {},
   "source": [
    "## 논리연산자"
   ]
  },
  {
   "cell_type": "code",
   "execution_count": null,
   "id": "a38b2689-718b-423e-b7b4-d7b5c6fc25b7",
   "metadata": {},
   "outputs": [],
   "source": [
    "- 비교연산 조건을 여러번 사용\n",
    "- and,or,not\n",
    "- A and B : A그리고B, A,B 모두 참일때 True, &\n",
    "- A or B : 둘 중 하나만 참이면 True, |\n",
    "- not A : A가 참이면 False, 거짓이면 True ~"
   ]
  },
  {
   "cell_type": "markdown",
   "id": "b2d02cf3-54d0-4107-9e0e-76513a748347",
   "metadata": {},
   "source": [
    "### 1. True/False"
   ]
  },
  {
   "cell_type": "code",
   "execution_count": null,
   "id": "13980b41-2a02-43b9-9ee2-0eb9dd13ba52",
   "metadata": {},
   "outputs": [],
   "source": [
    "a = True\n",
    "# 만약 A가 참이라면을 코드로 하면"
   ]
  },
  {
   "cell_type": "code",
   "execution_count": 10,
   "id": "5b3dfc5a-976d-47ae-a5c1-dfc56ba6a3c4",
   "metadata": {},
   "outputs": [
    {
     "name": "stdout",
     "output_type": "stream",
     "text": [
      "ok\n"
     ]
    }
   ],
   "source": [
    "#잘못된 예\n",
    "a = True\n",
    "if a == True:\n",
    "    print('ok')"
   ]
  },
  {
   "cell_type": "code",
   "execution_count": 9,
   "id": "186812bc-305f-4cb7-9547-8049c8a19173",
   "metadata": {},
   "outputs": [
    {
     "name": "stdout",
     "output_type": "stream",
     "text": [
      "ok\n"
     ]
    }
   ],
   "source": [
    "# 올바른 예\n",
    "a = True\n",
    "if a:\n",
    "    print('ok')"
   ]
  },
  {
   "cell_type": "markdown",
   "id": "742accd4-c5b1-446b-a9ac-7d52886256c6",
   "metadata": {},
   "source": [
    "### in"
   ]
  },
  {
   "cell_type": "code",
   "execution_count": null,
   "id": "da881641-b924-4b5a-8b51-57c630a7eab7",
   "metadata": {},
   "outputs": [],
   "source": [
    "- membership operator\n",
    "- 요소가 안에 포함되어 있는가 검토 or 비슷한 조건문이 여럿일때 사용\n",
    "- A in B = A가 B에 포함되어 있나"
   ]
  },
  {
   "cell_type": "code",
   "execution_count": 15,
   "id": "150fb959-f159-48e2-9313-d5c58f6b55dd",
   "metadata": {},
   "outputs": [
    {
     "name": "stdout",
     "output_type": "stream",
     "text": [
      "자음\n"
     ]
    }
   ],
   "source": [
    "# 모음인지 아닌지 판별 (a,e,i,o,u)\n",
    "letter = 'mountainstar'\n",
    "if letter in ['a','e','i','o','u']: # 한줄에 간결하게\n",
    "    print('모음')\n",
    "else:\n",
    "    print('자음')"
   ]
  },
  {
   "cell_type": "markdown",
   "id": "0d1b1e0a-ecb4-4884-b8dc-027dc7ca3c1f",
   "metadata": {},
   "source": [
    "### 코끼리 연산자"
   ]
  },
  {
   "cell_type": "code",
   "execution_count": null,
   "id": "c09f5fb2-93a7-425c-9e14-74c90df656f5",
   "metadata": {},
   "outputs": [],
   "source": [
    "- walrus operator\n",
    "- :=\n",
    "- 할당과 테스트를 동시에 함."
   ]
  },
  {
   "cell_type": "code",
   "execution_count": 12,
   "id": "f09a417d-0491-412e-821c-7b4ba03a3e33",
   "metadata": {},
   "outputs": [
    {
     "data": {
      "text/plain": [
       "200"
      ]
     },
     "execution_count": 12,
     "metadata": {},
     "output_type": "execute_result"
    }
   ],
   "source": [
    "tweet_limit = 200\n",
    "tweet_string = 'blah' * 50\n",
    "tweet_string\n",
    "len(tweet_string)"
   ]
  },
  {
   "cell_type": "code",
   "execution_count": null,
   "id": "505e6bd7-9422-4d78-b6c1-f30a27fc848c",
   "metadata": {},
   "outputs": [],
   "source": [
    "diff = tweet_limit - len(tweet_string)\n",
    "\n",
    "if diff > 0:\n",
    "    print('가능')\n",
    "else:\n",
    "    print('불가능')"
   ]
  },
  {
   "cell_type": "code",
   "execution_count": null,
   "id": "16b17dcb-205f-46d4-bdd7-71d28eee7c92",
   "metadata": {},
   "outputs": [],
   "source": [
    "# := 사용해서 간단하게\n",
    "if diff := tweet_limit - len(tweet_string) > 0:\n",
    "    print('가능')\n",
    "else:\n",
    "    print('불가능')"
   ]
  },
  {
   "cell_type": "markdown",
   "id": "d8d5dac8-56b5-4dae-88b8-4cf84046c88e",
   "metadata": {},
   "source": [
    "# ch.5 "
   ]
  },
  {
   "cell_type": "markdown",
   "id": "7474806d-7120-4586-ab80-146dd1ca5478",
   "metadata": {},
   "source": [
    "## string | 문자열"
   ]
  },
  {
   "cell_type": "code",
   "execution_count": null,
   "id": "18b96b6f-fad6-4da1-a35d-f2f8b9cbc9a5",
   "metadata": {},
   "outputs": [],
   "source": [
    "- 시스템에서 가장 작은 단위 (차지하느 바이트가 작다.)\n",
    "- 불변적 (imutable)\n",
    "- ',\" 으로 선언\n",
    "# '''(3개),\"\"\" 는 주석\n",
    "- 형변환은 str() 사용"
   ]
  },
  {
   "cell_type": "markdown",
   "id": "639b1e0d-e654-48c1-bd32-0a0126e5c857",
   "metadata": {},
   "source": [
    "### escape character | 이스케이프 문자"
   ]
  },
  {
   "cell_type": "code",
   "execution_count": null,
   "id": "71eaa220-ad24-4b24-b578-8528d7b2f2b0",
   "metadata": {},
   "outputs": [],
   "source": [
    "- 특수한 형태의 문자열 (눈에 보이는 대로 인식되지 않는 문자)\n",
    "- \\ + 형태로 사용 ex) \\n, \\t, \\b, \\',\\\" ........"
   ]
  },
  {
   "cell_type": "code",
   "execution_count": 15,
   "id": "ccb22923-4aa0-4b1a-9ee8-53ae1b8cb848",
   "metadata": {},
   "outputs": [
    {
     "name": "stdout",
     "output_type": "stream",
     "text": [
      "mountain\n",
      "star\n"
     ]
    }
   ],
   "source": [
    "# \\n\n",
    "sent = 'mountain\\nstar'\n",
    "print(sent)"
   ]
  },
  {
   "cell_type": "code",
   "execution_count": 17,
   "id": "caf0deb5-29dc-481c-b945-8226a69802df",
   "metadata": {},
   "outputs": [
    {
     "name": "stdout",
     "output_type": "stream",
     "text": [
      "mountainstar\n"
     ]
    }
   ],
   "source": [
    "#\\b : 백스페이스\n",
    "sent = 'mountain\\bstar'\n",
    "print(sent)"
   ]
  },
  {
   "cell_type": "code",
   "execution_count": 19,
   "id": "c91f0c95-decb-4bd5-bd3c-434f69ad7b39",
   "metadata": {},
   "outputs": [
    {
     "name": "stdout",
     "output_type": "stream",
     "text": [
      "mountain\\nstar\n"
     ]
    }
   ],
   "source": [
    "# \\\\n : \\n 출력\n",
    "sent = 'mountain\\\\nstar'\n",
    "print(sent)"
   ]
  },
  {
   "cell_type": "code",
   "execution_count": 20,
   "id": "4c60c6b4-fb77-45b7-9ef6-b91838ca0b93",
   "metadata": {},
   "outputs": [
    {
     "name": "stdout",
     "output_type": "stream",
     "text": [
      "sent\n"
     ]
    }
   ],
   "source": [
    "# r'' : 다른 스트링을 만드는 것이 아닌 출력의 문제 (?)"
   ]
  },
  {
   "cell_type": "markdown",
   "id": "cbd643d1-01b7-41c8-a9e7-87caed0af8bc",
   "metadata": {},
   "source": [
    "## 연산"
   ]
  },
  {
   "cell_type": "code",
   "execution_count": null,
   "id": "ac2ffc46-a78f-47c5-92e0-4aeb6dfdbfa1",
   "metadata": {},
   "outputs": [],
   "source": [
    "- concatenatation\n",
    "- ''+'' : 공백없이 결합\n",
    "-''*'' : 복제"
   ]
  },
  {
   "cell_type": "code",
   "execution_count": 21,
   "id": "599fb275-3320-4934-b616-5ed01ed52173",
   "metadata": {},
   "outputs": [
    {
     "data": {
      "text/plain": [
       "'starstar'"
      ]
     },
     "execution_count": 21,
     "metadata": {},
     "output_type": "execute_result"
    }
   ],
   "source": [
    "name = 'star'\n",
    "name+name"
   ]
  },
  {
   "cell_type": "code",
   "execution_count": 22,
   "id": "2b325aa4-bfdd-43db-a6ed-71b11b559e77",
   "metadata": {},
   "outputs": [
    {
     "data": {
      "text/plain": [
       "'starstarstar'"
      ]
     },
     "execution_count": 22,
     "metadata": {},
     "output_type": "execute_result"
    }
   ],
   "source": [
    "name*3"
   ]
  },
  {
   "cell_type": "code",
   "execution_count": 23,
   "id": "f4eae4fa-45db-4710-b440-10da419e897c",
   "metadata": {},
   "outputs": [
    {
     "ename": "TypeError",
     "evalue": "'str' object does not support item assignment",
     "output_type": "error",
     "traceback": [
      "\u001b[1;31m---------------------------------------------------------------------------\u001b[0m",
      "\u001b[1;31mTypeError\u001b[0m                                 Traceback (most recent call last)",
      "\u001b[1;32m~\\AppData\\Local\\Temp/ipykernel_8676/870143612.py\u001b[0m in \u001b[0;36m<module>\u001b[1;34m\u001b[0m\n\u001b[0;32m      1\u001b[0m \u001b[1;31m# imnutable\u001b[0m\u001b[1;33m\u001b[0m\u001b[1;33m\u001b[0m\u001b[0m\n\u001b[1;32m----> 2\u001b[1;33m \u001b[0mname\u001b[0m\u001b[1;33m[\u001b[0m\u001b[1;36m1\u001b[0m\u001b[1;33m]\u001b[0m \u001b[1;33m=\u001b[0m \u001b[1;34m'e'\u001b[0m\u001b[1;33m\u001b[0m\u001b[1;33m\u001b[0m\u001b[0m\n\u001b[0m",
      "\u001b[1;31mTypeError\u001b[0m: 'str' object does not support item assignment"
     ]
    }
   ],
   "source": [
    "# imnutable \n",
    "name[1] = 'e'\n",
    "# 에러 "
   ]
  },
  {
   "cell_type": "code",
   "execution_count": 25,
   "id": "5b61e863-2984-4927-a9c9-667ebbf8ca34",
   "metadata": {},
   "outputs": [
    {
     "data": {
      "text/plain": [
       "'s'"
      ]
     },
     "execution_count": 25,
     "metadata": {},
     "output_type": "execute_result"
    }
   ],
   "source": []
  },
  {
   "cell_type": "markdown",
   "id": "6232ef3d-5b8f-470e-8674-6c829bd09d34",
   "metadata": {},
   "source": [
    "## 슬라이싱 : 추출"
   ]
  },
  {
   "cell_type": "code",
   "execution_count": null,
   "id": "1f88ce83-d965-4d03-a77f-f3433f5787b8",
   "metadata": {},
   "outputs": [],
   "source": [
    "- 문자열의 일부분을 떼어내는 작업\n",
    "- 대괄화 사용, 그 안에 오프셋을 지정\n",
    "# 오프셋 : 정해진 자리\n",
    "- 오프셋은 [0] 부터 시작(앞부터)\n",
    "- 거꾸로는 음수로 [-1] 부터 시작\n",
    "- 오프셋은 [시작:끝:스텝] #스텝=1 디폴트 값\n",
    "# 시작은 포함, 끝은 포함하지 않는다."
   ]
  },
  {
   "cell_type": "code",
   "execution_count": 35,
   "id": "284d6b0a-5899-420f-a41d-ac36e0b98ae1",
   "metadata": {},
   "outputs": [
    {
     "data": {
      "text/plain": [
       "'r'"
      ]
     },
     "execution_count": 35,
     "metadata": {},
     "output_type": "execute_result"
    }
   ],
   "source": [
    "name = 'star'\n",
    "name[0] ; name[1] ; name[2] ; name[3]"
   ]
  },
  {
   "cell_type": "code",
   "execution_count": 28,
   "id": "6734d553-d949-4703-989b-3a9f45c3dc31",
   "metadata": {},
   "outputs": [
    {
     "data": {
      "text/plain": [
       "'sta'"
      ]
     },
     "execution_count": 28,
     "metadata": {},
     "output_type": "execute_result"
    }
   ],
   "source": [
    "name[0:3] #[0] 부터 [2]까지 출력"
   ]
  },
  {
   "cell_type": "code",
   "execution_count": 29,
   "id": "57733ab2-4f9a-46a3-952b-3cfcfeeff83a",
   "metadata": {},
   "outputs": [
    {
     "data": {
      "text/plain": [
       "'star'"
      ]
     },
     "execution_count": 29,
     "metadata": {},
     "output_type": "execute_result"
    }
   ],
   "source": [
    "# 처음부터 끝까지 출력\n",
    "name[::]"
   ]
  },
  {
   "cell_type": "code",
   "execution_count": 30,
   "id": "32411550-2c7e-40b1-9d8a-76d067efe9a6",
   "metadata": {},
   "outputs": [
    {
     "data": {
      "text/plain": [
       "'star'"
      ]
     },
     "execution_count": 30,
     "metadata": {},
     "output_type": "execute_result"
    }
   ],
   "source": [
    "# 처음부터 3까지\n",
    "name[:4]"
   ]
  },
  {
   "cell_type": "code",
   "execution_count": 31,
   "id": "0f6e32f0-ca4d-4184-9534-510055c772af",
   "metadata": {},
   "outputs": [
    {
     "data": {
      "text/plain": [
       "'muti'"
      ]
     },
     "execution_count": 31,
     "metadata": {},
     "output_type": "execute_result"
    }
   ],
   "source": [
    "# 처음부터 끝까지 2스텝씩 출력\n",
    "me = 'mountain'\n",
    "me[::2]"
   ]
  },
  {
   "cell_type": "code",
   "execution_count": 32,
   "id": "91e90b19-ec56-4799-a5a6-b6f30aee597c",
   "metadata": {},
   "outputs": [
    {
     "data": {
      "text/plain": [
       "'niatnuom'"
      ]
     },
     "execution_count": 32,
     "metadata": {},
     "output_type": "execute_result"
    }
   ],
   "source": [
    "# 모든 글자를 거꾸로 출력\n",
    "me[::-1]"
   ]
  },
  {
   "cell_type": "markdown",
   "id": "62a54c61-86e5-438c-9418-f722d496d045",
   "metadata": {},
   "source": [
    "### NLTK"
   ]
  },
  {
   "cell_type": "code",
   "execution_count": null,
   "id": "8cb48119-0df8-4d8d-babb-45214144dfb6",
   "metadata": {},
   "outputs": [],
   "source": [
    "- natural language toolkit\n",
    "- 자연어 분석을 위해 교육용으로 배포된 패키지\n",
    "- 내장 함수, 기능들이 추가됨"
   ]
  },
  {
   "cell_type": "code",
   "execution_count": 38,
   "id": "91882ed1-5e83-4d45-9efa-69ccecfd05e9",
   "metadata": {},
   "outputs": [
    {
     "name": "stdout",
     "output_type": "stream",
     "text": [
      "Requirement already satisfied: nltk in c:\\programdata\\anaconda3\\lib\\site-packages (3.6.5)\n",
      "Requirement already satisfied: click in c:\\programdata\\anaconda3\\lib\\site-packages (from nltk) (8.0.3)\n",
      "Requirement already satisfied: joblib in c:\\programdata\\anaconda3\\lib\\site-packages (from nltk) (1.1.0)\n",
      "Requirement already satisfied: regex>=2021.8.3 in c:\\programdata\\anaconda3\\lib\\site-packages (from nltk) (2021.8.3)\n",
      "Requirement already satisfied: tqdm in c:\\programdata\\anaconda3\\lib\\site-packages (from nltk) (4.62.3)\n",
      "Requirement already satisfied: colorama in c:\\programdata\\anaconda3\\lib\\site-packages (from click->nltk) (0.4.4)\n"
     ]
    }
   ],
   "source": [
    "# !pip install nltk 설치"
   ]
  },
  {
   "cell_type": "code",
   "execution_count": 40,
   "id": "1fa85f29-e4a7-42f1-8e27-12d896df3872",
   "metadata": {},
   "outputs": [],
   "source": [
    "import nltk #가져오기"
   ]
  },
  {
   "cell_type": "code",
   "execution_count": 53,
   "id": "77df2811-838d-4d0a-a0d1-48b2ce23f99d",
   "metadata": {},
   "outputs": [
    {
     "data": {
      "text/plain": [
       "True"
      ]
     },
     "execution_count": 53,
     "metadata": {},
     "output_type": "execute_result"
    }
   ],
   "source": [
    "nltk.download('book', quiet = True)"
   ]
  },
  {
   "cell_type": "code",
   "execution_count": 42,
   "id": "c0da6c8e-cd32-4dc0-8470-51751a0c5aff",
   "metadata": {},
   "outputs": [
    {
     "name": "stdout",
     "output_type": "stream",
     "text": [
      "*** Introductory Examples for the NLTK Book ***\n",
      "Loading text1, ..., text9 and sent1, ..., sent9\n",
      "Type the name of the text or sentence to view it.\n",
      "Type: 'texts()' or 'sents()' to list the materials.\n",
      "text1: Moby Dick by Herman Melville 1851\n",
      "text2: Sense and Sensibility by Jane Austen 1811\n",
      "text3: The Book of Genesis\n",
      "text4: Inaugural Address Corpus\n",
      "text5: Chat Corpus\n",
      "text6: Monty Python and the Holy Grail\n",
      "text7: Wall Street Journal\n",
      "text8: Personals Corpus\n",
      "text9: The Man Who Was Thursday by G . K . Chesterton 1908\n"
     ]
    },
    {
     "data": {
      "text/plain": [
       "<Text: Moby Dick by Herman Melville 1851>"
      ]
     },
     "execution_count": 42,
     "metadata": {},
     "output_type": "execute_result"
    }
   ],
   "source": [
    "from nltk import book # 가져오기\n",
    "book.text1"
   ]
  },
  {
   "cell_type": "code",
   "execution_count": 43,
   "id": "56407685-74a4-4730-ae1a-5f2a434224a8",
   "metadata": {},
   "outputs": [
    {
     "data": {
      "text/plain": [
       "['[',\n",
       " 'Moby',\n",
       " 'Dick',\n",
       " 'by',\n",
       " 'Herman',\n",
       " 'Melville',\n",
       " '1851',\n",
       " ']',\n",
       " 'ETYMOLOGY',\n",
       " '.']"
      ]
     },
     "execution_count": 43,
     "metadata": {},
     "output_type": "execute_result"
    }
   ],
   "source": [
    "moby = book.text1\n",
    "moby.tokens[:10] # 토큰에 접근하는 방법\n",
    "# 토큰 : 프로그래밍의 단어 단위 hello world, i'm not a coward.\n",
    " # i'm / i, 'm/ i, am"
   ]
  },
  {
   "cell_type": "code",
   "execution_count": 44,
   "id": "ca186597-2ca8-4a18-aac7-13409bae9e5c",
   "metadata": {},
   "outputs": [
    {
     "data": {
      "text/plain": [
       "260819"
      ]
     },
     "execution_count": 44,
     "metadata": {},
     "output_type": "execute_result"
    }
   ],
   "source": [
    "#1. 길이재기\n",
    "len(moby) # 26만자"
   ]
  },
  {
   "cell_type": "code",
   "execution_count": 45,
   "id": "819356b9-0da4-4187-813a-f9cb4b1096bd",
   "metadata": {},
   "outputs": [
    {
     "data": {
      "text/plain": [
       "19317"
      ]
     },
     "execution_count": 45,
     "metadata": {},
     "output_type": "execute_result"
    }
   ],
   "source": [
    "#2. 중복없이 단어 몇개?\n",
    "len(set(moby)) # 1.9만 자 list > set"
   ]
  },
  {
   "cell_type": "code",
   "execution_count": null,
   "id": "2467ef2a-ca8c-4896-9208-47436619df1e",
   "metadata": {},
   "outputs": [],
   "source": [
    "- list\n",
    " - ['a',a, True] \n",
    " - 순서가 있고, 중복 허용된다.\n",
    " - list()\n",
    "    \n",
    "- set\n",
    " - {'a',2,True}\n",
    "    - 순서없고,중복 허용안됨\n",
    "    - set()\n",
    "    -수학의 집합 개념\n",
    "    - 인뎃싱이 안된다."
   ]
  },
  {
   "cell_type": "code",
   "execution_count": 46,
   "id": "3e90ef6b-dc78-453f-a7ee-0870198fd1ae",
   "metadata": {},
   "outputs": [
    {
     "data": {
      "text/plain": [
       "['kia', 'benz', 'benz']"
      ]
     },
     "execution_count": 46,
     "metadata": {},
     "output_type": "execute_result"
    }
   ],
   "source": [
    "cars = ['kia','benz','benz']\n",
    "cars"
   ]
  },
  {
   "cell_type": "code",
   "execution_count": 47,
   "id": "22272174-396d-4b59-a8d7-8973f61be653",
   "metadata": {},
   "outputs": [
    {
     "data": {
      "text/plain": [
       "{'benz', 'kia'}"
      ]
     },
     "execution_count": 47,
     "metadata": {},
     "output_type": "execute_result"
    }
   ],
   "source": [
    "set(cars)"
   ]
  },
  {
   "cell_type": "code",
   "execution_count": 48,
   "id": "6dfb1373-93b5-4f10-9574-58899838be1d",
   "metadata": {},
   "outputs": [
    {
     "data": {
      "text/plain": [
       "0.07406285585022564"
      ]
     },
     "execution_count": 48,
     "metadata": {},
     "output_type": "execute_result"
    }
   ],
   "source": [
    "# lexcial diversity 얼마나 다양한 단어를 썻는가\n",
    "len(set(moby)) / len(moby)"
   ]
  },
  {
   "cell_type": "code",
   "execution_count": 49,
   "id": "5cafdc72-64e9-403d-8298-2ce462944493",
   "metadata": {},
   "outputs": [
    {
     "data": {
      "text/plain": [
       "['benz', 'benz', 'kia']"
      ]
     },
     "execution_count": 49,
     "metadata": {},
     "output_type": "execute_result"
    }
   ],
   "source": [
    "#정렬\n",
    "sorted(cars) #오름차순"
   ]
  },
  {
   "cell_type": "code",
   "execution_count": 50,
   "id": "ec3f650c-3146-4313-8ef7-a43029cd356d",
   "metadata": {},
   "outputs": [
    {
     "data": {
      "text/plain": [
       "['kia', 'benz', 'benz']"
      ]
     },
     "execution_count": 50,
     "metadata": {},
     "output_type": "execute_result"
    }
   ],
   "source": [
    "sorted(cars, reverse = True) # 내림차순"
   ]
  },
  {
   "cell_type": "code",
   "execution_count": 51,
   "id": "ec137dcc-2f3f-4ae9-8dd0-da8014aa0ed8",
   "metadata": {},
   "outputs": [
    {
     "data": {
      "text/plain": [
       "['.',\n",
       " '1851',\n",
       " 'Dick',\n",
       " 'ETYMOLOGY',\n",
       " 'Herman',\n",
       " 'Melville',\n",
       " 'Moby',\n",
       " '[',\n",
       " ']',\n",
       " 'by']"
      ]
     },
     "execution_count": 51,
     "metadata": {},
     "output_type": "execute_result"
    }
   ],
   "source": [
    "# 문장부호가 먼저,숫자, 대문자, 숫자\n",
    "sorted(set(moby[:10])) # 무비에서 10개를 뽑아서 출력, set로 중복없이하고, 다음 정렬"
   ]
  },
  {
   "cell_type": "code",
   "execution_count": 52,
   "id": "285e2bc9-f720-45d0-927c-812d06b15feb",
   "metadata": {},
   "outputs": [
    {
     "data": {
      "text/plain": [
       "['!', '!', '!', '!', '!', '!', '!', '!', '!', '!']"
      ]
     },
     "execution_count": 52,
     "metadata": {},
     "output_type": "execute_result"
    }
   ],
   "source": [
    "sorted(moby)[:10] # 무비를 정렬하고, 10개를 뽑았다. "
   ]
  },
  {
   "cell_type": "markdown",
   "id": "ae5fceb3-9fa0-48f1-8287-1052ef52b5ee",
   "metadata": {},
   "source": [
    "# 퀴즈"
   ]
  },
  {
   "cell_type": "code",
   "execution_count": null,
   "id": "27f51443-11d1-4039-a2f1-171cd0216fea",
   "metadata": {},
   "outputs": [],
   "source": [
    "# 퀴즈1\n",
    "- text6 가져와서 토큰을 변수에 담고\n",
    "- 중복 없는 셋으로 저장하고 내림차순\n",
    "- 앞에 10개 가져온다.\n",
    "- 단어에 z가 있으면, 대문자로 바꾸시오\n",
    "- z가 없는데 4자 이상이면 끝 글자를 대문자로 바꿔라\n",
    "# z를 대문자로 바꾸는 것 \n"
   ]
  },
  {
   "cell_type": "code",
   "execution_count": 40,
   "id": "719c0506-da79-4398-95d4-6bb0e56ba2c6",
   "metadata": {},
   "outputs": [
    {
     "name": "stdout",
     "output_type": "stream",
     "text": [
      "Zoosh\n",
      "Zoop\n",
      "Zoo\n",
      "Zone\n",
      "Zhiv\n",
      "yourselF\n",
      "yourS\n",
      "youR\n",
      "younG\n"
     ]
    }
   ],
   "source": [
    "from nltk import book # 가져오기\n",
    "text_six = sorted(set(book.text6),reverse = True)[:10] #text6 변수할당, 중복제거, 내림차순 정렬, 10개 뽑기\n",
    "\n",
    "\n",
    "for i in range(len(text_six)):  #text_six의 요소갯수만 큼 반복\n",
    "    if 'z' in text_six[i]:       # 'z'가 있다면\n",
    "        text_z = text_six[i]     # 'z'가 있는 리스트 요소를 text_z에 할당\n",
    "        text_new = text_z.replace('z','Z')      # z 를 Z 로 바꿈 (문자열이여서 가능)\n",
    "        print(text_new)\n",
    "        \n",
    "    elif len(text_six[i]) >= 4:     # z가 없고, 4글자 이상일 때   \n",
    "        text_no_z = list(text_six[i])     # z 가없는 리스타의 요소를 각 문자별로 나누어서 리스트에 할당\n",
    "        text_no_z[-1] = str(text_no_z[-1]).upper() # 마지막 단어를 문자열로 변환 후, 대문자로 변환\n",
    "        text_new = ''.join(text_no_z)              # 위 if 절과 통일시키기 위해 문자열로 변환\n",
    "        print(text_new)\n",
    "        \n",
    " \n"
   ]
  },
  {
   "cell_type": "code",
   "execution_count": 42,
   "id": "3951cb36-b76b-4d8f-b358-0d0378d338c2",
   "metadata": {},
   "outputs": [
    {
     "ename": "SyntaxError",
     "evalue": "invalid syntax (Temp/ipykernel_11308/2463915260.py, line 2)",
     "output_type": "error",
     "traceback": [
      "\u001b[1;36m  File \u001b[1;32m\"C:\\Users\\USER\\AppData\\Local\\Temp/ipykernel_11308/2463915260.py\"\u001b[1;36m, line \u001b[1;32m2\u001b[0m\n\u001b[1;33m    - 주민번호, 휴대폰 번호, 이메일 주소 입력받는다.\u001b[0m\n\u001b[1;37m                                 ^\u001b[0m\n\u001b[1;31mSyntaxError\u001b[0m\u001b[1;31m:\u001b[0m invalid syntax\n"
     ]
    }
   ],
   "source": [
    "# 퀴즈2\n",
    "- 주민번호, 휴대폰 번호, 이메일 주소 입력받는다.\n",
    "- 주민번호, 휴대폰 번호는 숫자만 입력받는다. - 없이\n",
    "- 이메일주소는 아이디만 @등등 없이\n",
    " - 1.'당신은 {}년 {}월 {}일 출생의 {남성/여성}입니다.'\n",
    "    2. 휴대폰 번호 : 000-0000-0000\n",
    "    3. 이메일 주소 : xxx@gmail.com \n",
    "    세 줄 출력 "
   ]
  },
  {
   "cell_type": "code",
   "execution_count": 40,
   "id": "c9b1ccbc-4886-40e2-9039-b3e63be4bd4a",
   "metadata": {},
   "outputs": [
    {
     "name": "stdin",
     "output_type": "stream",
     "text": [
      "주민번호를 입력해주세요: 0001014000000\n",
      "휴대폰 번호를 입력해주세요(-없이): 01034741651\n",
      "이메일을 입력해주세요:  ___________ @ gmail.com :  mountainstar03\n"
     ]
    },
    {
     "name": "stdout",
     "output_type": "stream",
     "text": [
      "\n",
      "1.당신은 1800년 01월 01일 출생의 남성입니다.\n",
      "2.휴대폰 번호 : 010-34741-651\n",
      "3.이메일주소 : mountainstar03@gmail.com\n"
     ]
    }
   ],
   "source": [
    "regist_num = (input('주민번호를 입력해주세요:'))\n",
    "phone_num = (input('휴대폰 번호를 입력해주세요(-없이):'))\n",
    "email = input('이메일을 입력해주세요:  ___________ @ gmail.com : ') \n",
    "\n",
    "\n",
    "if regist_num[6] == '9' or '1' or '3':\n",
    "    gender = '남성'\n",
    "elif regist_num[6] == '0' or '2' or '4':\n",
    "    gender = '여성'\n",
    "    \n",
    "if regist_num[6] == '9' or '0':\n",
    "    year = '18'+ regist_num[:2]\n",
    "elif regist_num[6] == '1' or '2':\n",
    "    year = '19'+ regist_num[:2]\n",
    "else:\n",
    "    year = '20'+ regist_num[:2]\n",
    "\n",
    "month = regist_num[2:4]\n",
    "day = regist_num[4:6]  \n",
    "phone_number = phone_num[:3]+ \"-\" + phone_num[3:8] + \"-\" + phone_num[8:]\n",
    "    \n",
    "print(f'\\n1.당신은 {year}년 {month}월 {day}일 출생의 {gender}입니다.\\n2.휴대폰 번호 : {phone_number}\\n3.이메일주소 : {email}@gmail.com')"
   ]
  },
  {
   "cell_type": "code",
   "execution_count": null,
   "id": "98cb759d-1621-441b-932d-a317ac84cebb",
   "metadata": {},
   "outputs": [],
   "source": [
    "# 퀴즈 : 윤년 구하기\n",
    "-윤년을 구해본다.\n",
    " - 연도를 입력받는다.\n",
    " - 4로 나눠지면 윤년\n",
    " - 100으로 나눠지면 안된다.\n",
    " - 400으로 나눠지면 윤년\n",
    "출력 : '{}년은 윤년입니다.' / -아닙니다. "
   ]
  },
  {
   "cell_type": "code",
   "execution_count": 41,
   "id": "dc5832e3-579a-4ffd-96d0-dbe19f84e762",
   "metadata": {},
   "outputs": [
    {
     "name": "stdin",
     "output_type": "stream",
     "text": [
      "년도를 입력해주세요: 2021\n"
     ]
    },
    {
     "name": "stdout",
     "output_type": "stream",
     "text": [
      "2021은 윤년이 아닙니다.\n"
     ]
    }
   ],
   "source": [
    "year = int(input('년도를 입력해주세요:'))\n",
    "\n",
    "if (year % 4 == 0) and (year % 100 != 0) or (year % 400==0):\n",
    "    print(f'{year}은 윤년입니다.')\n",
    "else :\n",
    "    print(f'{year}은 윤년이 아닙니다.')\n",
    "    "
   ]
  },
  {
   "cell_type": "code",
   "execution_count": null,
   "id": "70a5bce9-bfb3-4af4-a4d0-7c564dfb4153",
   "metadata": {},
   "outputs": [],
   "source": []
  }
 ],
 "metadata": {
  "kernelspec": {
   "display_name": "Python 3 (ipykernel)",
   "language": "python",
   "name": "python3"
  },
  "language_info": {
   "codemirror_mode": {
    "name": "ipython",
    "version": 3
   },
   "file_extension": ".py",
   "mimetype": "text/x-python",
   "name": "python",
   "nbconvert_exporter": "python",
   "pygments_lexer": "ipython3",
   "version": "3.9.7"
  }
 },
 "nbformat": 4,
 "nbformat_minor": 5
}
