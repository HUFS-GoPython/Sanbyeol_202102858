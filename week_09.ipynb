{
 "cells": [
  {
   "cell_type": "markdown",
   "id": "921d5cba-b43a-48e1-b1ce-aaf3c10afbb7",
   "metadata": {},
   "source": [
    "# week 9"
   ]
  },
  {
   "cell_type": "code",
   "execution_count": null,
   "id": "74c7b0e0-89d9-48d3-82d6-32e637a98c6c",
   "metadata": {},
   "outputs": [],
   "source": [
    "##Dictionary\n",
    "- 영어사전\n",
    "  - 단어 : 뜻\n",
    "  - 키 : 값\n",
    "  - 순서가 없다. > 인덱싱 오프셋이 불가능하다\n",
    "  - 그렇다면 자료를 어떻게 찻냐? 단어를 이용해서 : \"키로 값을 찾는다.\"\n",
    "    - 키는 중복이 되지 않는 고유한 값\n",
    "  - 가변 : 수정, 삭제, 추가, 모두 가능\n",
    "  - 타입 : dict\n",
    "  - 형변환 : dixt()\n",
    "  - 중괄호 사용 {}, 콤마로 구분함\n",
    "  - 값에 다양한 자료구조가 올 수 있음\n",
    "      a:1 , a: [1,2,3](리스트도 올수 있다.)"
   ]
  },
  {
   "cell_type": "code",
   "execution_count": 1,
   "id": "32f176a8-7c74-4b4c-98bb-6f5e41ee6a31",
   "metadata": {},
   "outputs": [],
   "source": [
    "empty = dict()\n",
    "empty ={}"
   ]
  },
  {
   "cell_type": "code",
   "execution_count": 2,
   "id": "9d1f7170-5b99-4538-921c-782f6c11f731",
   "metadata": {},
   "outputs": [
    {
     "data": {
      "text/plain": [
       "set"
      ]
     },
     "execution_count": 2,
     "metadata": {},
     "output_type": "execute_result"
    }
   ],
   "source": [
    "# set\n",
    "empty ={}\n",
    "empty = set()\n",
    "type(empty)"
   ]
  },
  {
   "cell_type": "code",
   "execution_count": 3,
   "id": "236b4354-3e31-40cc-8adc-ed4968cdab3d",
   "metadata": {},
   "outputs": [],
   "source": [
    "a= {1,2,3} #set\n",
    "a= {1:'',2:'',3:''} #dict"
   ]
  },
  {
   "cell_type": "code",
   "execution_count": 4,
   "id": "48e1c179-b397-49b5-8111-ebb0a1577417",
   "metadata": {},
   "outputs": [
    {
     "ename": "SyntaxError",
     "evalue": "invalid syntax (Temp/ipykernel_7940/2161598767.py, line 1)",
     "output_type": "error",
     "traceback": [
      "\u001b[1;36m  File \u001b[1;32m\"C:\\Users\\USER\\AppData\\Local\\Temp/ipykernel_7940/2161598767.py\"\u001b[1;36m, line \u001b[1;32m1\u001b[0m\n\u001b[1;33m    b= {'':'', '',''} # 따움표 쓰기 번거롭\u001b[0m\n\u001b[1;37m                 ^\u001b[0m\n\u001b[1;31mSyntaxError\u001b[0m\u001b[1;31m:\u001b[0m invalid syntax\n"
     ]
    }
   ],
   "source": [
    "b= {'':'', '',''} # 따움표 쓰기 번거롭다.\n",
    "b = dict(apple:'a', banana:'b') #따움표 안써도 가능함"
   ]
  },
  {
   "cell_type": "code",
   "execution_count": 4,
   "id": "d67fe208-51e3-4f31-8597-a09395036f3f",
   "metadata": {},
   "outputs": [
    {
     "ename": "SyntaxError",
     "evalue": "invalid syntax (Temp/ipykernel_13100/2786658769.py, line 3)",
     "output_type": "error",
     "traceback": [
      "\u001b[1;36m  File \u001b[1;32m\"C:\\Users\\USER\\AppData\\Local\\Temp/ipykernel_13100/2786658769.py\"\u001b[1;36m, line \u001b[1;32m3\u001b[0m\n\u001b[1;33m    james 202201 경제학과\u001b[0m\n\u001b[1;37m          ^\u001b[0m\n\u001b[1;31mSyntaxError\u001b[0m\u001b[1;31m:\u001b[0m invalid syntax\n"
     ]
    }
   ],
   "source": [
    "# 출석부 딕셔너리 만들기\n",
    "\n",
    "이름, 학번, 학과\n",
    "james 202201 경제학과\n",
    "laura 202203 스페인어과\n",
    "louis 202202 컴공과\n"
   ]
  },
  {
   "cell_type": "code",
   "execution_count": null,
   "id": "73237d61-b282-44ce-8318-2e0d50ccba17",
   "metadata": {},
   "outputs": [],
   "source": [
    "# 내가 코딩한것\n",
    "attendence = {202201 :'james', 202203:'laura',202202:'louis'}"
   ]
  },
  {
   "cell_type": "code",
   "execution_count": null,
   "id": "9fb65492-e80c-4a1a-8051-122952a8262b",
   "metadata": {},
   "outputs": [],
   "source": [
    "# 주의 키의 속성은 중복이 안되어야 한다. : 학번으로 키를 잡아야 한다. "
   ]
  },
  {
   "cell_type": "code",
   "execution_count": 5,
   "id": "9a5b25e2-d645-4027-8207-dc3091ad557e",
   "metadata": {},
   "outputs": [],
   "source": [
    "attendence = {202201: ['james', '경제학과'], 202203 : ['laura','스페인어과'], 202202:['louis','컴공과']}\n",
    "#모범답안"
   ]
  },
  {
   "cell_type": "markdown",
   "id": "4699bd8a-21fb-4e68-b75f-e64b973ba79f",
   "metadata": {},
   "source": [
    "### 형변환하기"
   ]
  },
  {
   "cell_type": "code",
   "execution_count": null,
   "id": "169c0e38-b6d0-4541-b940-80bfd782f309",
   "metadata": {},
   "outputs": [],
   "source": [
    "- key, value가 쌍으로 존재할 때 가능\n",
    "- 튜플이여도 가능하다."
   ]
  },
  {
   "cell_type": "code",
   "execution_count": 11,
   "id": "3a5b9c9c-57f2-4ec0-8d55-c076ea12a741",
   "metadata": {},
   "outputs": [
    {
     "data": {
      "text/plain": [
       "{1: 2, 2: 3, 3: 4}"
      ]
     },
     "execution_count": 11,
     "metadata": {},
     "output_type": "execute_result"
    }
   ],
   "source": [
    "ex1 = [[1,2],[2,3],[3,4]]\n",
    "dict(ex1)"
   ]
  },
  {
   "cell_type": "code",
   "execution_count": 13,
   "id": "630f8ac5-5169-4ef8-8158-bc8b101eda41",
   "metadata": {},
   "outputs": [
    {
     "data": {
      "text/plain": [
       "{1: 3, 2: 3}"
      ]
     },
     "execution_count": 13,
     "metadata": {},
     "output_type": "execute_result"
    }
   ],
   "source": [
    "ex2 = [(1,2),(2,3),(1,3)]\n",
    "dict(ex2)\n",
    "# 키 중복은 안되어서 지워짐"
   ]
  },
  {
   "cell_type": "code",
   "execution_count": 14,
   "id": "65157381-f87c-458f-b0e0-726d5ec50ccf",
   "metadata": {},
   "outputs": [
    {
     "data": {
      "text/plain": [
       "{'a': 'b', 'b': 'c', 'c': 'd'}"
      ]
     },
     "execution_count": 14,
     "metadata": {},
     "output_type": "execute_result"
    }
   ],
   "source": [
    "ex3 = ['ab','bc','cd']\n",
    "dict(ex3)\n",
    "# 두자리까지만, 세자리는 불가능"
   ]
  },
  {
   "cell_type": "markdown",
   "id": "aaca9ef6-db86-4b2f-94e0-498997121149",
   "metadata": {},
   "source": [
    "### 항복조회, 변경, 추가, 삭제"
   ]
  },
  {
   "cell_type": "code",
   "execution_count": 8,
   "id": "08567df2-e680-4541-827f-33dbcd684ea9",
   "metadata": {},
   "outputs": [],
   "source": [
    "\n",
    "pythons = { # 성:이름 \n",
    "     'Chapman': 'Graham',\n",
    "    'Cleese': 'john',\n",
    "    'Idle': 'Eric',\n",
    "    'Jones': 'Terry',\n",
    "    'Palin':'Michael',\n",
    "}\n"
   ]
  },
  {
   "cell_type": "code",
   "execution_count": 9,
   "id": "ba24223a-adf0-4c43-9787-092f951e99b5",
   "metadata": {},
   "outputs": [
    {
     "data": {
      "text/plain": [
       "'john'"
      ]
     },
     "execution_count": 9,
     "metadata": {},
     "output_type": "execute_result"
    }
   ],
   "source": [
    "pythons['Cleese']"
   ]
  },
  {
   "cell_type": "code",
   "execution_count": 10,
   "id": "2e691764-d879-4572-a485-34286010d4b1",
   "metadata": {},
   "outputs": [
    {
     "ename": "KeyError",
     "evalue": "'star'",
     "output_type": "error",
     "traceback": [
      "\u001b[1;31m---------------------------------------------------------------------------\u001b[0m",
      "\u001b[1;31mKeyError\u001b[0m                                  Traceback (most recent call last)",
      "\u001b[1;32m~\\AppData\\Local\\Temp/ipykernel_7940/915077448.py\u001b[0m in \u001b[0;36m<module>\u001b[1;34m\u001b[0m\n\u001b[0;32m      1\u001b[0m \u001b[1;31m# 없는 값이 있으면 오류\u001b[0m\u001b[1;33m\u001b[0m\u001b[1;33m\u001b[0m\u001b[0m\n\u001b[1;32m----> 2\u001b[1;33m \u001b[0mpythons\u001b[0m\u001b[1;33m[\u001b[0m\u001b[1;34m'star'\u001b[0m\u001b[1;33m]\u001b[0m\u001b[1;33m\u001b[0m\u001b[1;33m\u001b[0m\u001b[0m\n\u001b[0m",
      "\u001b[1;31mKeyError\u001b[0m: 'star'"
     ]
    }
   ],
   "source": [
    "# 없는 값이 있으면 오류\n",
    "pythons['star']"
   ]
  },
  {
   "cell_type": "code",
   "execution_count": 12,
   "id": "f5c50057-025b-4a24-b33a-64eba097d04e",
   "metadata": {},
   "outputs": [
    {
     "data": {
      "text/plain": [
       "'James'"
      ]
     },
     "execution_count": 12,
     "metadata": {},
     "output_type": "execute_result"
    }
   ],
   "source": [
    "pythons['Idle'] = 'James'\n",
    "# 값 변경하기 \n",
    "pythons['Idle']"
   ]
  },
  {
   "cell_type": "code",
   "execution_count": 13,
   "id": "2bf8082b-27f5-445e-b41b-81661db57a61",
   "metadata": {},
   "outputs": [
    {
     "data": {
      "text/plain": [
       "'Chloe'"
      ]
     },
     "execution_count": 13,
     "metadata": {},
     "output_type": "execute_result"
    }
   ],
   "source": [
    "pythons[\"Hwa\"] = 'Chloe' \n",
    "# 새로운 값 추가\n",
    "pythons[\"Hwa\"]"
   ]
  },
  {
   "cell_type": "code",
   "execution_count": 18,
   "id": "1691c32d-246d-4c5c-90ee-91271d593290",
   "metadata": {},
   "outputs": [
    {
     "data": {
      "text/plain": [
       "{'Chapman': 'Graham',\n",
       " 'Cleese': 'john',\n",
       " 'Idle': 'James',\n",
       " 'Jones': 'Terry',\n",
       " 'Palin': 'Michael',\n",
       " 'Hwa': 'Chloe',\n",
       " 'Seo': 'jiyoung',\n",
       " 'Ga': 'na'}"
      ]
     },
     "execution_count": 18,
     "metadata": {},
     "output_type": "execute_result"
    }
   ],
   "source": [
    "# 여러 개를 추가할 때 : update\n",
    "# 만약 원래 있던 key 였다면, 마지막의 값을 기준\n",
    "others = {\n",
    "    'Seo': 'jiyoung',\n",
    "    'Ga': 'na'\n",
    "}\n",
    "\n",
    "pythons.update(others)\n",
    "pythons"
   ]
  },
  {
   "cell_type": "code",
   "execution_count": 14,
   "id": "345e56e7-1a81-43fe-87da-5d6c008b74f6",
   "metadata": {},
   "outputs": [
    {
     "data": {
      "text/plain": [
       "True"
      ]
     },
     "execution_count": 14,
     "metadata": {},
     "output_type": "execute_result"
    }
   ],
   "source": [
    "# 예외 없이\n",
    "'Hwa' in pythons# 있는지 없는지 확인하는 방법"
   ]
  },
  {
   "cell_type": "code",
   "execution_count": 15,
   "id": "36007320-7824-45cb-aaa9-083310d2d48d",
   "metadata": {},
   "outputs": [
    {
     "data": {
      "text/plain": [
       "0"
      ]
     },
     "execution_count": 15,
     "metadata": {},
     "output_type": "execute_result"
    }
   ],
   "source": [
    "# get()\n",
    "pythons.get('Hwa') # 없는 키는 none반환, \n",
    "pythons.get('Lee',0)"
   ]
  },
  {
   "cell_type": "code",
   "execution_count": 17,
   "id": "86ebf90f-8572-4775-8921-cd1faa1f564e",
   "metadata": {},
   "outputs": [
    {
     "name": "stdout",
     "output_type": "stream",
     "text": [
      "{'Chapman': 'Graham', 'Cleese': 'john', 'Idle': 'James', 'Jones': 'Terry', 'Palin': 'Michael', 'Hwa': 'Chloe', 'mountain': 'star'}\n",
      "\n",
      "{'mountain': 'star', 'Chapman': 'Graham', 'Cleese': 'john', 'Idle': 'James', 'Jones': 'Terry', 'Palin': 'Michael', 'Hwa': 'Chloe'}\n"
     ]
    }
   ],
   "source": [
    "# py3에서만 가능한 추가 방법\n",
    "new = {\n",
    "    'mountain':'star',\n",
    "    \n",
    "}\n",
    "\n",
    "# new가 뒤에붙는다.\n",
    "print({**pythons, **new})\n",
    "\n",
    "print()\n",
    "# new가 앞에 붙음\n",
    "print({**new, **pythons})"
   ]
  },
  {
   "cell_type": "code",
   "execution_count": 19,
   "id": "8dd81ecc-a6b5-472c-9abc-a45dec2f163b",
   "metadata": {},
   "outputs": [
    {
     "data": {
      "text/plain": [
       "{'Chapman': 'Graham',\n",
       " 'Cleese': 'john',\n",
       " 'Idle': 'James',\n",
       " 'Jones': 'Terry',\n",
       " 'Palin': 'Michael',\n",
       " 'Seo': 'jiyoung',\n",
       " 'Ga': 'na'}"
      ]
     },
     "execution_count": 19,
     "metadata": {},
     "output_type": "execute_result"
    }
   ],
   "source": [
    "# 삭제\n",
    "del pythons['Hwa']\n",
    "pythons"
   ]
  },
  {
   "cell_type": "code",
   "execution_count": 22,
   "id": "37efbf70-c545-4530-af4f-c3fa81f418a9",
   "metadata": {},
   "outputs": [
    {
     "ename": "KeyError",
     "evalue": "'Seo'",
     "output_type": "error",
     "traceback": [
      "\u001b[1;31m---------------------------------------------------------------------------\u001b[0m",
      "\u001b[1;31mKeyError\u001b[0m                                  Traceback (most recent call last)",
      "\u001b[1;32m~\\AppData\\Local\\Temp/ipykernel_7940/2642883623.py\u001b[0m in \u001b[0;36m<module>\u001b[1;34m\u001b[0m\n\u001b[0;32m      1\u001b[0m \u001b[1;31m# 없는 것을 삭제하면 에러 발생\u001b[0m\u001b[1;33m\u001b[0m\u001b[1;33m\u001b[0m\u001b[0m\n\u001b[0;32m      2\u001b[0m \u001b[1;31m# 이럴때 pop()함수 사용 : 값을 반환한 뒤에 삭제\u001b[0m\u001b[1;33m\u001b[0m\u001b[1;33m\u001b[0m\u001b[0m\n\u001b[1;32m----> 3\u001b[1;33m \u001b[0mpythons\u001b[0m\u001b[1;33m.\u001b[0m\u001b[0mpop\u001b[0m\u001b[1;33m(\u001b[0m\u001b[1;34m'Seo'\u001b[0m\u001b[1;33m)\u001b[0m\u001b[1;33m\u001b[0m\u001b[1;33m\u001b[0m\u001b[0m\n\u001b[0m\u001b[0;32m      4\u001b[0m \u001b[0mpythons\u001b[0m\u001b[1;33m\u001b[0m\u001b[1;33m\u001b[0m\u001b[0m\n",
      "\u001b[1;31mKeyError\u001b[0m: 'Seo'"
     ]
    }
   ],
   "source": [
    "# 없는 것을 삭제하면 에러 발생\n",
    "# 이럴때 pop()함수 사용 : 값을 반환한 뒤에 삭제\n",
    "pythons.pop('Seo')\n",
    "pythons"
   ]
  },
  {
   "cell_type": "code",
   "execution_count": 23,
   "id": "7d04f71a-3df0-4e49-86fd-74b3ddebad7b",
   "metadata": {},
   "outputs": [
    {
     "data": {
      "text/plain": [
       "{}"
      ]
     },
     "execution_count": 23,
     "metadata": {},
     "output_type": "execute_result"
    }
   ],
   "source": [
    "# 전체 삭제\n",
    "#1\n",
    "pythons.clear() \n",
    "\n",
    "#2\n",
    "pythons = {} \n"
   ]
  },
  {
   "cell_type": "markdown",
   "id": "a80e3158-20df-40ca-99ac-1920ab029c9a",
   "metadata": {},
   "source": [
    "### 전체조회"
   ]
  },
  {
   "cell_type": "code",
   "execution_count": null,
   "id": "cdec06dc-1f8b-4193-85e3-f1e50cc34b5d",
   "metadata": {},
   "outputs": [],
   "source": [
    "- key()\n",
    "-values()\n",
    "-items()"
   ]
  },
  {
   "cell_type": "code",
   "execution_count": 26,
   "id": "e3a99755-8fe9-4f34-b300-a023ef136dda",
   "metadata": {},
   "outputs": [],
   "source": [
    "\n",
    "pythons = { # 성:이름 \n",
    "     'Chapman': 'Graham',\n",
    "    'Cleese': 'john',\n",
    "    'Idle': 'Eric',\n",
    "    'Jones': 'Terry',\n",
    "    'Palin':'Michael',\n",
    "}\n"
   ]
  },
  {
   "cell_type": "code",
   "execution_count": 27,
   "id": "8ebfc40e-0e51-4f95-95be-f69fc45d0b55",
   "metadata": {},
   "outputs": [
    {
     "data": {
      "text/plain": [
       "dict_keys(['Chapman', 'Cleese', 'Idle', 'Jones', 'Palin'])"
      ]
     },
     "execution_count": 27,
     "metadata": {},
     "output_type": "execute_result"
    }
   ],
   "source": [
    "pythons.keys()"
   ]
  },
  {
   "cell_type": "code",
   "execution_count": 28,
   "id": "8836b724-26f6-47ba-b8dd-d77440b0f70f",
   "metadata": {},
   "outputs": [
    {
     "data": {
      "text/plain": [
       "['Chapman', 'Cleese', 'Idle', 'Jones', 'Palin']"
      ]
     },
     "execution_count": 28,
     "metadata": {},
     "output_type": "execute_result"
    }
   ],
   "source": [
    "list(pythons.keys())"
   ]
  },
  {
   "cell_type": "code",
   "execution_count": 29,
   "id": "523bae84-f873-4ea9-b819-ad26d4348b50",
   "metadata": {},
   "outputs": [
    {
     "data": {
      "text/plain": [
       "dict_values(['Graham', 'john', 'Eric', 'Terry', 'Michael'])"
      ]
     },
     "execution_count": 29,
     "metadata": {},
     "output_type": "execute_result"
    }
   ],
   "source": [
    "pythons.values()"
   ]
  },
  {
   "cell_type": "code",
   "execution_count": 30,
   "id": "ed0084b6-8077-4412-a4dd-a636679bbc8f",
   "metadata": {},
   "outputs": [
    {
     "data": {
      "text/plain": [
       "dict_items([('Chapman', 'Graham'), ('Cleese', 'john'), ('Idle', 'Eric'), ('Jones', 'Terry'), ('Palin', 'Michael')])"
      ]
     },
     "execution_count": 30,
     "metadata": {},
     "output_type": "execute_result"
    }
   ],
   "source": [
    "pythons.items() # (키,값) 튜플 형태로 > 순회할때 많이 씀"
   ]
  },
  {
   "cell_type": "code",
   "execution_count": 31,
   "id": "62a3cc5b-e790-4c86-9d4f-c76587def815",
   "metadata": {},
   "outputs": [
    {
     "name": "stdout",
     "output_type": "stream",
     "text": [
      "Chapman = Graham\n",
      "Cleese = john\n",
      "Idle = Eric\n",
      "Jones = Terry\n",
      "Palin = Michael\n"
     ]
    }
   ],
   "source": [
    "for k,v in pythons.items(): # 리스트 컴프리헨션 가능\n",
    "    print(f'{k} = {v}')"
   ]
  },
  {
   "cell_type": "code",
   "execution_count": 32,
   "id": "7efca9ad-7484-47c5-9011-9208075c754b",
   "metadata": {},
   "outputs": [
    {
     "data": {
      "text/plain": [
       "[('Chapman', 'Graham'),\n",
       " ('Cleese', 'john'),\n",
       " ('Idle', 'Eric'),\n",
       " ('Jones', 'Terry'),\n",
       " ('Palin', 'Michael')]"
      ]
     },
     "execution_count": 32,
     "metadata": {},
     "output_type": "execute_result"
    }
   ],
   "source": [
    "[(k,v) for k,v in pythons.items()]"
   ]
  },
  {
   "cell_type": "code",
   "execution_count": 33,
   "id": "640855de-8bc9-42f6-a493-7b3675cf414e",
   "metadata": {},
   "outputs": [
    {
     "data": {
      "text/plain": [
       "['Chapman', 'Cleese', 'Idle', 'Jones', 'Palin']"
      ]
     },
     "execution_count": 33,
     "metadata": {},
     "output_type": "execute_result"
    }
   ],
   "source": [
    "[k[0] for k in pythons.items()] #items에서는 인덱스 가능 0 = keys, 1=value"
   ]
  },
  {
   "cell_type": "code",
   "execution_count": 34,
   "id": "ddc0dc4c-7baf-4246-84df-e123a88746e4",
   "metadata": {},
   "outputs": [
    {
     "data": {
      "text/plain": [
       "['Chapman', 'Cleese', 'Idle', 'Jones', 'Palin']"
      ]
     },
     "execution_count": 34,
     "metadata": {},
     "output_type": "execute_result"
    }
   ],
   "source": [
    "[k for k in pythons] # key 값만 나옴"
   ]
  },
  {
   "cell_type": "code",
   "execution_count": 35,
   "id": "1d463cb5-daaa-4f55-bf5d-f704eca26c7e",
   "metadata": {},
   "outputs": [],
   "source": [
    "### 퀴즈 : 딕셔너리 만들기\n",
    "animal = 'cat snake monkey ant spider'.split()\n",
    "legs = 4, 0, 2, 4, 8"
   ]
  },
  {
   "cell_type": "code",
   "execution_count": 26,
   "id": "34398069-8988-49e8-bc42-12c11b1fc12c",
   "metadata": {},
   "outputs": [
    {
     "data": {
      "text/plain": [
       "['cat', 'smake', 'monkey', 'ant', 'apider']"
      ]
     },
     "execution_count": 26,
     "metadata": {},
     "output_type": "execute_result"
    }
   ],
   "source": [
    "\"\"\"\n",
    "animal_legs = {}\n",
    "[ k for k in animal]\n",
    "\"\"\"\n"
   ]
  },
  {
   "cell_type": "code",
   "execution_count": 23,
   "id": "60039f01-c89b-426f-8321-406adadc4457",
   "metadata": {},
   "outputs": [
    {
     "data": {
      "text/plain": [
       "{'cat': 4, 'smake': 0, 'monkey': 2, 'ant': 4, 'apider': 8}"
      ]
     },
     "execution_count": 23,
     "metadata": {},
     "output_type": "execute_result"
    }
   ],
   "source": [
    "animal_legs = {}\n",
    "for k in range(len(animal)):\n",
    "    animal_legs[animal[k]] = legs[k]\n",
    "    \n",
    "animal_legs\n",
    "\n",
    "# 모범답안"
   ]
  },
  {
   "cell_type": "code",
   "execution_count": 28,
   "id": "7ea9e17b-b20a-4304-b5b3-c8c4bdcd6c2d",
   "metadata": {},
   "outputs": [],
   "source": [
    "dictionary1 = {}\n",
    "for x,y in zip(animal,legs):\n",
    "    dictionary1[x] = y\n",
    "# 나의방법"
   ]
  },
  {
   "cell_type": "code",
   "execution_count": null,
   "id": "d0e93307-e7cd-4fbe-89e5-db886bd916ad",
   "metadata": {},
   "outputs": [],
   "source": [
    "# 퀴즈 pythons 에서 성:이름, 성 첫글자만,\n",
    "이름은 개수로 이뤄진 튜플(성,이름) 리스트로 반환하기"
   ]
  },
  {
   "cell_type": "code",
   "execution_count": 40,
   "id": "6c3644c1-8b7d-4281-8d02-100032ca65f3",
   "metadata": {},
   "outputs": [],
   "source": [
    "pythons = { # 성:이름 \n",
    "     'Chapman': 'Graham',\n",
    "    'Cleese': 'john',\n",
    "    'Idle': 'Eric',\n",
    "    'Jones': 'Terry',\n",
    "    'Palin':'Michael',\n",
    "}\n"
   ]
  },
  {
   "cell_type": "code",
   "execution_count": null,
   "id": "b3bc1a87-d785-4af6-b145-b63e03b254fe",
   "metadata": {},
   "outputs": [],
   "source": []
  },
  {
   "cell_type": "code",
   "execution_count": null,
   "id": "9b99585a-455e-4b2b-982c-ca386c874968",
   "metadata": {},
   "outputs": [],
   "source": [
    "pythons\n",
    "# 순회한다\n",
    "# 각각의요소 반환 "
   ]
  },
  {
   "cell_type": "code",
   "execution_count": 42,
   "id": "4d132b14-0400-41b5-8700-2626591c0b2f",
   "metadata": {},
   "outputs": [
    {
     "ename": "SyntaxError",
     "evalue": "invalid syntax (Temp/ipykernel_7940/3218661459.py, line 3)",
     "output_type": "error",
     "traceback": [
      "\u001b[1;36m  File \u001b[1;32m\"C:\\Users\\USER\\AppData\\Local\\Temp/ipykernel_7940/3218661459.py\"\u001b[1;36m, line \u001b[1;32m3\u001b[0m\n\u001b[1;33m    new_pythons[k[0][0] = len(pythons[k])\u001b[0m\n\u001b[1;37m                        ^\u001b[0m\n\u001b[1;31mSyntaxError\u001b[0m\u001b[1;31m:\u001b[0m invalid syntax\n"
     ]
    }
   ],
   "source": [
    "# 나의방법\n",
    "new_pythons = {}\n",
    "for k in pythons.keys():\n",
    "    new_pythons[k[][] = len(pythons[k])"
   ]
  },
  {
   "cell_type": "code",
   "execution_count": null,
   "id": "c73b3d2f-1ec6-40b4-92d2-03bb69a1ed9b",
   "metadata": {},
   "outputs": [],
   "source": [
    "# 모범답안\n",
    "print([(k[0][0], len(k[1]))for k in pythons.items()])"
   ]
  },
  {
   "cell_type": "code",
   "execution_count": null,
   "id": "5e888ae0-3769-415c-816f-91bc3b8e49d4",
   "metadata": {},
   "outputs": [],
   "source": [
    "# 모범답안\n",
    "[(k[0],len(v)) for k,v in pythons.items()]"
   ]
  },
  {
   "cell_type": "code",
   "execution_count": 43,
   "id": "6acc7459-ece3-4d45-aae6-c7ce61d33480",
   "metadata": {},
   "outputs": [
    {
     "ename": "SyntaxError",
     "evalue": "invalid syntax (Temp/ipykernel_7940/4094743699.py, line 2)",
     "output_type": "error",
     "traceback": [
      "\u001b[1;36m  File \u001b[1;32m\"C:\\Users\\USER\\AppData\\Local\\Temp/ipykernel_7940/4094743699.py\"\u001b[1;36m, line \u001b[1;32m2\u001b[0m\n\u001b[1;33m    - 할당 b =a\u001b[0m\n\u001b[1;37m         ^\u001b[0m\n\u001b[1;31mSyntaxError\u001b[0m\u001b[1;31m:\u001b[0m invalid syntax\n"
     ]
    }
   ],
   "source": [
    "### 복제\n",
    "- 할당 b =a\n",
    "- 얕은 복사 c = a.copy()\n",
    "- 깊은 복사"
   ]
  },
  {
   "cell_type": "code",
   "execution_count": 44,
   "id": "beef1141-113f-4eda-b395-4fb7ec28e5c1",
   "metadata": {},
   "outputs": [
    {
     "data": {
      "text/plain": [
       "({1: 45, 2: 2, 3: 3}, {1: 45, 2: 2, 3: 3})"
      ]
     },
     "execution_count": 44,
     "metadata": {},
     "output_type": "execute_result"
    }
   ],
   "source": [
    "a = {1:1, 2:2, 3:3}\n",
    "b =a\n",
    "a[1] = 45\n",
    "a,b"
   ]
  },
  {
   "cell_type": "code",
   "execution_count": 45,
   "id": "b85fb124-769a-48f0-a80a-cbc8c0a97ce5",
   "metadata": {},
   "outputs": [
    {
     "data": {
      "text/plain": [
       "({1: 45, 2: 2, 3: 3}, {1: 45, 2: 2, 3: 3})"
      ]
     },
     "execution_count": 45,
     "metadata": {},
     "output_type": "execute_result"
    }
   ],
   "source": [
    "c = a.copy()\n",
    "a[2] == 22\n",
    "a,c\n",
    "# 얕은 복사"
   ]
  },
  {
   "cell_type": "code",
   "execution_count": 37,
   "id": "8ecf3570-44fe-4bb9-9fe7-b289b8f5a92d",
   "metadata": {},
   "outputs": [
    {
     "data": {
      "text/plain": [
       "({1: [100, 2, 3], 2: [2, 3, 4]}, {1: [100, 2, 3], 2: [2, 3, 4]})"
      ]
     },
     "execution_count": 37,
     "metadata": {},
     "output_type": "execute_result"
    }
   ],
   "source": [
    "a = {1: [1,2,3], 2:[2,3,4]}\n",
    "d = a.copy()\n",
    "a[1][0] = 100\n",
    "a,d\n",
    "# 얕은 복사의 문제 : 가변객체에 대해 참조가됨"
   ]
  },
  {
   "cell_type": "code",
   "execution_count": 39,
   "id": "b1686efb-7d50-4fe1-b542-469a29d78c00",
   "metadata": {},
   "outputs": [
    {
     "data": {
      "text/plain": [
       "({1: [100, 999, 3], 2: [2, 3, 4]}, {1: [100, 999, 3], 2: [2, 3, 4]})"
      ]
     },
     "execution_count": 39,
     "metadata": {},
     "output_type": "execute_result"
    }
   ],
   "source": [
    "import copy\n",
    "e = copy.deepcopy(a)\n",
    "a[1][1] = 999\n",
    "a,e\n",
    "# 깊은 복사 변하지 않는다."
   ]
  },
  {
   "cell_type": "code",
   "execution_count": null,
   "id": "0fb6207d-b646-49fb-b2d4-cf224ed25a7e",
   "metadata": {},
   "outputs": [],
   "source": [
    "### 비교\n",
    "같다 다르만 된다.\n",
    "크다 작다 불가능"
   ]
  },
  {
   "cell_type": "code",
   "execution_count": null,
   "id": "f3125146-87fe-4f11-8aee-80facbb26938",
   "metadata": {},
   "outputs": [],
   "source": [
    "a != b"
   ]
  },
  {
   "cell_type": "code",
   "execution_count": null,
   "id": "012ebde3-9cee-444a-88eb-ab06ea971b91",
   "metadata": {},
   "outputs": [],
   "source": [
    "### 퀴즈\n",
    "1. 두 리스트로 하나의 딕셔너리 생성\n",
    "2. 명왕성 = pluto 추가하기\n",
    "3. '성'으로 끝나지 않는 키 삭제하기 \n",
    "4. sorted 이용해서 값 정렬하기, 1)key, 2)value"
   ]
  },
  {
   "cell_type": "code",
   "execution_count": 47,
   "id": "6a54c578-1b0e-41f6-89c5-cf0d60164c44",
   "metadata": {},
   "outputs": [],
   "source": [
    "solar_kor = '태양 수성 금성 지구 화성 목성 토성 천황성 해왕성'.split()\n",
    "solar_eng = 'sun mercury venus earth mars jupiter saturn uranus neptune'.split()"
   ]
  },
  {
   "cell_type": "code",
   "execution_count": 52,
   "id": "6c98dee1-5658-4a19-a362-8f8a0d6c49e9",
   "metadata": {},
   "outputs": [
    {
     "ename": "RuntimeError",
     "evalue": "dictionary changed size during iteration",
     "output_type": "error",
     "traceback": [
      "\u001b[1;31m---------------------------------------------------------------------------\u001b[0m",
      "\u001b[1;31mRuntimeError\u001b[0m                              Traceback (most recent call last)",
      "\u001b[1;32m~\\AppData\\Local\\Temp/ipykernel_7940/2857990556.py\u001b[0m in \u001b[0;36m<module>\u001b[1;34m\u001b[0m\n\u001b[0;32m      5\u001b[0m     \u001b[0msolar\u001b[0m\u001b[1;33m[\u001b[0m\u001b[0msolar_kor\u001b[0m\u001b[1;33m[\u001b[0m\u001b[0mk\u001b[0m\u001b[1;33m]\u001b[0m\u001b[1;33m]\u001b[0m \u001b[1;33m=\u001b[0m \u001b[0msolar_eng\u001b[0m\u001b[1;33m[\u001b[0m\u001b[0mk\u001b[0m\u001b[1;33m]\u001b[0m\u001b[1;33m\u001b[0m\u001b[1;33m\u001b[0m\u001b[0m\n\u001b[0;32m      6\u001b[0m \u001b[1;33m\u001b[0m\u001b[0m\n\u001b[1;32m----> 7\u001b[1;33m \u001b[1;32mfor\u001b[0m \u001b[0mj\u001b[0m \u001b[1;32min\u001b[0m \u001b[0msolar\u001b[0m\u001b[1;33m.\u001b[0m\u001b[0mkeys\u001b[0m\u001b[1;33m(\u001b[0m\u001b[1;33m)\u001b[0m\u001b[1;33m:\u001b[0m\u001b[1;33m\u001b[0m\u001b[1;33m\u001b[0m\u001b[0m\n\u001b[0m\u001b[0;32m      8\u001b[0m     \u001b[1;32mif\u001b[0m \u001b[0mj\u001b[0m \u001b[1;33m!=\u001b[0m \u001b[1;34m\"성\"\u001b[0m\u001b[1;33m:\u001b[0m\u001b[1;33m\u001b[0m\u001b[1;33m\u001b[0m\u001b[0m\n\u001b[0;32m      9\u001b[0m         \u001b[1;32mdel\u001b[0m \u001b[0msolar\u001b[0m\u001b[1;33m[\u001b[0m\u001b[0mj\u001b[0m\u001b[1;33m]\u001b[0m\u001b[1;33m\u001b[0m\u001b[1;33m\u001b[0m\u001b[0m\n",
      "\u001b[1;31mRuntimeError\u001b[0m: dictionary changed size during iteration"
     ]
    }
   ],
   "source": [
    "# 나의 풀이\n",
    "\n",
    "solar= {}\n",
    "for k in range (len(solar_kor)):\n",
    "    solar[solar_kor[k]] = solar_eng[k]\n",
    "\n",
    "for j in solar.keys():\n",
    "    if j != \"성\":\n",
    "        del solar[j]\n",
    "        \n",
    "solar\n"
   ]
  },
  {
   "cell_type": "code",
   "execution_count": 49,
   "id": "0e5afe4a-c6cd-46ac-b90f-01224052dc66",
   "metadata": {},
   "outputs": [
    {
     "data": {
      "text/plain": [
       "{'수성': 'mercury',\n",
       " '금성': 'venus',\n",
       " '화성': 'mars',\n",
       " '목성': 'jupiter',\n",
       " '토성': 'saturn',\n",
       " '천황성': 'uranus',\n",
       " '해왕성': 'neptune',\n",
       " '명왕성': 'pluto'}"
      ]
     },
     "execution_count": 49,
     "metadata": {},
     "output_type": "execute_result"
    }
   ],
   "source": [
    "#모범답안\n",
    "\n",
    "system = {}\n",
    "for k,v in zip(solar_kor, solar_eng):\n",
    "    system[k]=v\n",
    "    \n",
    "system['명왕성'] = 'pluto'\n",
    "\n",
    "dict([(k,system[k]) for k in system if k.endswith('성')])"
   ]
  },
  {
   "cell_type": "code",
   "execution_count": null,
   "id": "7602e385-ae6f-485e-92b1-0527b6f6dffe",
   "metadata": {},
   "outputs": [],
   "source": [
    "# 딕컴 사용\n",
    "{}"
   ]
  },
  {
   "cell_type": "markdown",
   "id": "5424f6de-5217-40cb-8f82-b89a416ac0b7",
   "metadata": {},
   "source": [
    "### 딕셔너리 컴프리헨션"
   ]
  },
  {
   "cell_type": "code",
   "execution_count": 67,
   "id": "eab92c2c-f786-4354-b94f-17402ad0ccc3",
   "metadata": {},
   "outputs": [
    {
     "data": {
      "text/plain": [
       "{'a': 1, 'p': 2, 'l': 1, 'e': 1}"
      ]
     },
     "execution_count": 67,
     "metadata": {},
     "output_type": "execute_result"
    }
   ],
   "source": [
    "letter = 'apple'\n",
    "# a :1, p:2\n",
    "\n",
    "{ch: letter.count(ch) for ch in letter}"
   ]
  },
  {
   "cell_type": "code",
   "execution_count": 68,
   "id": "c3b6d7cb-58f2-48ae-b9af-ddf3e52c18d8",
   "metadata": {},
   "outputs": [],
   "source": [
    "# 단어의 모음세기\n",
    "vowels = 'aeiou'\n",
    "word = 'onomatopoeia'\n",
    "\n",
    "#word순회\n",
    "#vowels 순회\n"
   ]
  },
  {
   "cell_type": "code",
   "execution_count": 82,
   "id": "7520de53-c4bf-4836-ae5a-57e248abd3b8",
   "metadata": {},
   "outputs": [
    {
     "data": {
      "text/plain": [
       "{'a': 0, 'e': 0, 'i': 0, 'o': 0, 'u': 0}"
      ]
     },
     "execution_count": 82,
     "metadata": {},
     "output_type": "execute_result"
    }
   ],
   "source": [
    "# 나의 풀이\n",
    "{v : vowels.count('ch') for v in vowels}"
   ]
  },
  {
   "cell_type": "code",
   "execution_count": 83,
   "id": "ea19d3a9-0514-448a-932d-8936bef78de4",
   "metadata": {},
   "outputs": [
    {
     "data": {
      "text/plain": [
       "{'a': 2, 'e': 1, 'i': 1, 'o': 4}"
      ]
     },
     "execution_count": 83,
     "metadata": {},
     "output_type": "execute_result"
    }
   ],
   "source": [
    "# 모범답안\n",
    "{v:word.count(v) for v in vowels if v in word}"
   ]
  },
  {
   "cell_type": "code",
   "execution_count": null,
   "id": "0389b6df-c1de-4f7e-bac8-0f08ed5572f3",
   "metadata": {},
   "outputs": [],
   "source": [
    "# word 순회하기 \n",
    "{w:word.count(w) for w in set(word) if w in vowels}"
   ]
  },
  {
   "cell_type": "markdown",
   "id": "79d2423c-63b0-4dbb-a98f-d5b89ac80633",
   "metadata": {},
   "source": [
    "### sorting"
   ]
  },
  {
   "cell_type": "code",
   "execution_count": null,
   "id": "1a780fb8-65c8-4970-be7f-c3af1143bcaa",
   "metadata": {},
   "outputs": [],
   "source": [
    "sorted(system) # 하면 키만 가져온다 , 리스트로 바뀌어서"
   ]
  },
  {
   "cell_type": "code",
   "execution_count": null,
   "id": "2734b31c-282a-4d9f-8a57-c8265e4b3969",
   "metadata": {},
   "outputs": [],
   "source": [
    " sorted(system.item(), key=fx) # vlaue를 기준을 정렬"
   ]
  },
  {
   "cell_type": "code",
   "execution_count": null,
   "id": "9ea5f029-18ca-440a-98c4-d0990e55a648",
   "metadata": {},
   "outputs": [],
   "source": [
    "def fx(x):\n",
    "    return x[1]"
   ]
  },
  {
   "cell_type": "code",
   "execution_count": null,
   "id": "d2ed8034-025d-465e-ba3e-8128a5b34e58",
   "metadata": {},
   "outputs": [],
   "source": [
    "sorted(system.item(), key = lambda x: ㅌ[0]) #람다, 익명 함수 "
   ]
  },
  {
   "cell_type": "code",
   "execution_count": null,
   "id": "0f3fa840-3962-4a40-a142-188de24bb6ef",
   "metadata": {},
   "outputs": [],
   "source": [
    "#### c추가 \n",
    "\n",
    "empty = set() #해서 선언"
   ]
  },
  {
   "cell_type": "code",
   "execution_count": null,
   "id": "6be2af30-2909-4cd1-bfa8-d6fd0e73eef3",
   "metadata": {},
   "outputs": [],
   "source": [
    "a = {1,2,3}\n"
   ]
  },
  {
   "cell_type": "code",
   "execution_count": null,
   "id": "862207b7-0250-4612-bb56-bde3c05be4ca",
   "metadata": {},
   "outputs": [],
   "source": [
    "a= set((1, 2, 3)) # 선언,형변환 "
   ]
  },
  {
   "cell_type": "code",
   "execution_count": null,
   "id": "4e12d8db-1564-4613-af34-14fffb16dd9e",
   "metadata": {},
   "outputs": [],
   "source": [
    "# 추가\n",
    "a.add(4)"
   ]
  },
  {
   "cell_type": "code",
   "execution_count": null,
   "id": "6435f015-7aa3-4786-b2e9-1f73fa23e2d1",
   "metadata": {},
   "outputs": [],
   "source": [
    "# 삭제\n",
    "a.removw(4)"
   ]
  },
  {
   "cell_type": "code",
   "execution_count": 86,
   "id": "7efb065f-ddb0-4870-be26-3cc6405d4858",
   "metadata": {},
   "outputs": [],
   "source": [
    "# 퀴즈 \n",
    "drinks = {\n",
    "    'martini':{'vodka','vermouth'},\n",
    "    'black russian':{'vodka','kahlua'},\n",
    "    'whilte russian':{'cream','kahlua','vodka'},\n",
    "    'screwdriver':{'orange juice','vodka'}\n",
    "}\n",
    "\n",
    "# 보드카가 포함된 술 출력하기\n",
    "# 보드카는 있지만, 크림과 vermouth가 없는 술 출력하기"
   ]
  },
  {
   "cell_type": "code",
   "execution_count": 91,
   "id": "6dfa14ae-0cf0-488c-a717-b25b9664b564",
   "metadata": {},
   "outputs": [
    {
     "ename": "AttributeError",
     "evalue": "'str' object has no attribute 'values'",
     "output_type": "error",
     "traceback": [
      "\u001b[1;31m---------------------------------------------------------------------------\u001b[0m",
      "\u001b[1;31mAttributeError\u001b[0m                            Traceback (most recent call last)",
      "\u001b[1;32m~\\AppData\\Local\\Temp/ipykernel_13100/719736374.py\u001b[0m in \u001b[0;36m<module>\u001b[1;34m\u001b[0m\n\u001b[0;32m      1\u001b[0m \u001b[0mvodka_drinks\u001b[0m \u001b[1;33m=\u001b[0m \u001b[1;33m{\u001b[0m\u001b[1;33m}\u001b[0m\u001b[1;33m\u001b[0m\u001b[1;33m\u001b[0m\u001b[0m\n\u001b[0;32m      2\u001b[0m \u001b[1;32mfor\u001b[0m \u001b[0mdrink\u001b[0m \u001b[1;32min\u001b[0m \u001b[0mdrinks\u001b[0m\u001b[1;33m:\u001b[0m\u001b[1;33m\u001b[0m\u001b[1;33m\u001b[0m\u001b[0m\n\u001b[1;32m----> 3\u001b[1;33m     \u001b[1;32mif\u001b[0m \u001b[1;33m(\u001b[0m\u001b[1;34m'vodka'\u001b[0m\u001b[1;33m,\u001b[0m\u001b[1;33m)\u001b[0m \u001b[1;32min\u001b[0m \u001b[0mdrink\u001b[0m\u001b[1;33m.\u001b[0m\u001b[0mvalues\u001b[0m\u001b[1;33m(\u001b[0m\u001b[1;33m)\u001b[0m\u001b[1;33m:\u001b[0m\u001b[1;33m\u001b[0m\u001b[1;33m\u001b[0m\u001b[0m\n\u001b[0m\u001b[0;32m      4\u001b[0m         \u001b[0mvodka_drinks\u001b[0m\u001b[1;33m.\u001b[0m\u001b[0mupdate\u001b[0m\u001b[1;33m(\u001b[0m\u001b[0mdrink\u001b[0m\u001b[1;33m)\u001b[0m\u001b[1;33m\u001b[0m\u001b[1;33m\u001b[0m\u001b[0m\n\u001b[0;32m      5\u001b[0m \u001b[0mprint\u001b[0m\u001b[1;33m(\u001b[0m\u001b[0mdrink\u001b[0m\u001b[1;33m)\u001b[0m\u001b[1;33m\u001b[0m\u001b[1;33m\u001b[0m\u001b[0m\n",
      "\u001b[1;31mAttributeError\u001b[0m: 'str' object has no attribute 'values'"
     ]
    }
   ],
   "source": [
    "# 나의 풀이\n",
    "vodka_drinks = {}\n",
    "for drink in drinks:\n",
    "    if ('vodka',) in drink.values():\n",
    "        vodka_drinks.update(drink)\n",
    "print(drink)"
   ]
  },
  {
   "cell_type": "code",
   "execution_count": 101,
   "id": "aaba4152-4f59-4dfa-b7f4-729dbc12673a",
   "metadata": {},
   "outputs": [
    {
     "name": "stdout",
     "output_type": "stream",
     "text": [
      "{'martini': {'vermouth', 'vodka'}}\n",
      "{'black russian': {'kahlua', 'vodka'}}\n",
      "{'whilte russian': {'kahlua', 'vodka', 'cream'}}\n",
      "{'screwdriver': {'vodka', 'orange juice'}}\n"
     ]
    }
   ],
   "source": [
    "# 모범답안\n",
    "vodka_drinks = {}\n",
    "for k,v in drinks.items():\n",
    "    if 'vodka' in v:\n",
    "        vodka_drinks = {k:v}\n",
    "        print(vodka_drinks)\n"
   ]
  },
  {
   "cell_type": "code",
   "execution_count": null,
   "id": "6aef31a1-6a6f-4f3b-bb09-4138bec1a1af",
   "metadata": {},
   "outputs": [],
   "source": [
    "# set 을 활용해서 바꿔라\n",
    "for k,v in drinks.items():\n",
    "    if 'vodka' in v and not ('cream' in v or 'vermouth' in v):\n",
    "        print(k)"
   ]
  },
  {
   "cell_type": "code",
   "execution_count": null,
   "id": "3848c4be-2705-4665-9c43-8a771d7d1da6",
   "metadata": {},
   "outputs": [],
   "source": [
    "# set활용"
   ]
  },
  {
   "cell_type": "code",
   "execution_count": null,
   "id": "c179df5f-d351-45df-b3f7-59724bec48bd",
   "metadata": {},
   "outputs": [],
   "source": [
    "a= {1,2,3}\n",
    "b = {2,3,4}\n",
    "\n",
    "\n",
    "# 교집합 \\ intersection\n",
    "a.intersection(b)\n",
    "a&b\n",
    "\n",
    "# 합집합 \\ union\n",
    "a.union(b)\n",
    "a | b\n",
    "\n",
    "# 차집합 \\ difference\n",
    "a.difference(b)\n",
    "a-b , b-a"
   ]
  },
  {
   "cell_type": "code",
   "execution_count": null,
   "id": "3808978a-db0f-42f1-b1ba-d023ce0f88e4",
   "metadata": {},
   "outputs": [],
   "source": [
    "# 모범답안\n",
    "\n",
    "for k,v in drinks.items():\n",
    "    if 'vodka' in v and not v & {'cream','vermouth'}:\n",
    "        print(k)"
   ]
  },
  {
   "cell_type": "code",
   "execution_count": 102,
   "id": "59a01e4b-e8c9-4f6e-863c-ad541597c754",
   "metadata": {},
   "outputs": [
    {
     "data": {
      "text/plain": [
       "{0, 1, 2, 3, 4}"
      ]
     },
     "execution_count": 102,
     "metadata": {},
     "output_type": "execute_result"
    }
   ],
   "source": [
    "# 셋 컴프리헨션\n",
    "{s for s in range(5)}"
   ]
  },
  {
   "cell_type": "code",
   "execution_count": 104,
   "id": "4790187a-9932-4431-b534-9276ba1f9102",
   "metadata": {},
   "outputs": [
    {
     "data": {
      "text/plain": [
       "frozenset({1, 2})"
      ]
     },
     "execution_count": 104,
     "metadata": {},
     "output_type": "execute_result"
    }
   ],
   "source": [
    "#frozenset 가변을 바꾸는것\n",
    "set([1,2])\n",
    "frozenset([1,2])"
   ]
  },
  {
   "cell_type": "code",
   "execution_count": null,
   "id": "e95d6487-e3d6-4998-ad4a-66833058490b",
   "metadata": {},
   "outputs": [],
   "source": [
    "### 프로젝트 \n",
    "- 과제를 해결\n",
    "- 수업시간에 퀴즈 30분동안 랜덤으로 코드 설명을 시킬 것이다. \n",
    "-수요일 자정"
   ]
  },
  {
   "cell_type": "code",
   "execution_count": null,
   "id": "5204e1b7-ae3e-477b-a92d-345413aa727a",
   "metadata": {
    "tags": []
   },
   "outputs": [],
   "source": [
    "!pip install pylint \n",
    "!pylint example.py\n",
    "\n",
    "\n",
    "\n",
    "!pip install pydocstyle\n",
    "!pydocstyle example.py"
   ]
  },
  {
   "cell_type": "code",
   "execution_count": null,
   "id": "c53c8177-9bf0-4bde-bb38-15487380c186",
   "metadata": {},
   "outputs": [],
   "source": [
    "제출은 팀장만\n",
    "랜덤으로 발표시키기, 점수는 개인에게 부여\n"
   ]
  }
 ],
 "metadata": {
  "kernelspec": {
   "display_name": "Python 3 (ipykernel)",
   "language": "python",
   "name": "python3"
  },
  "language_info": {
   "codemirror_mode": {
    "name": "ipython",
    "version": 3
   },
   "file_extension": ".py",
   "mimetype": "text/x-python",
   "name": "python",
   "nbconvert_exporter": "python",
   "pygments_lexer": "ipython3",
   "version": "3.9.7"
  }
 },
 "nbformat": 4,
 "nbformat_minor": 5
}
