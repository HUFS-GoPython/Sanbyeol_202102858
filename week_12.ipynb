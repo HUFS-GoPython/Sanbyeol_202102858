{
 "cells": [
  {
   "cell_type": "markdown",
   "id": "189083a2-86fc-4a55-bbf6-7775a0d0a8d4",
   "metadata": {},
   "source": [
    "# Week 12"
   ]
  },
  {
   "cell_type": "markdown",
   "id": "34f7e6df-156f-43db-918c-9a611a929d22",
   "metadata": {},
   "source": [
    "### 매직 메소드"
   ]
  },
  {
   "cell_type": "code",
   "execution_count": null,
   "id": "dffc5267-d5f1-44f8-9810-edab513df074",
   "metadata": {},
   "outputs": [],
   "source": [
    "- special method\n",
    "- __<name>__\n",
    "- str, repr\n"
   ]
  },
  {
   "cell_type": "code",
   "execution_count": 6,
   "id": "1b8fe45f-426f-4dcf-82bd-8f7c7a953ece",
   "metadata": {},
   "outputs": [],
   "source": [
    "class Customer(object): \n",
    "    def __init__(self, name):\n",
    "        self.name = name\n",
    "    \n",
    "    def __str__(self): #오버라이딩\n",
    "        #print()함수로 나온 출력값을 변경하는 것\n",
    "        return self.name\n",
    "    \n",
    "    def __repr__(self):\n",
    "        #설정을 안하면 __str__과 동일함.\n",
    "        # 인스턴스를 출력하는 방식 => 사용자가 이해하는 객체의 모습을 표현 \n",
    "        return f'Customer({self.name})' ###커스터머하고, 객체이름이 나오도록 할려면 어떻게? Customer(객체이름)\n",
    "        \n",
    "c = Customer('kim')"
   ]
  },
  {
   "cell_type": "code",
   "execution_count": 7,
   "id": "9861a496-86c3-47d8-9618-99f73cd0a2af",
   "metadata": {},
   "outputs": [
    {
     "data": {
      "text/plain": [
       "Customer(kim)"
      ]
     },
     "execution_count": 7,
     "metadata": {},
     "output_type": "execute_result"
    }
   ],
   "source": [
    "c"
   ]
  },
  {
   "cell_type": "code",
   "execution_count": 8,
   "id": "f4f2f4fd-8dd4-4475-b9db-2727e8d30aca",
   "metadata": {},
   "outputs": [
    {
     "name": "stdout",
     "output_type": "stream",
     "text": [
      "kim\n"
     ]
    }
   ],
   "source": [
    "print(c)"
   ]
  },
  {
   "cell_type": "code",
   "execution_count": 9,
   "id": "84ba0a50-3de4-47eb-8bc1-6113d89b3295",
   "metadata": {},
   "outputs": [
    {
     "data": {
      "text/plain": [
       "'Customer(kim)'"
      ]
     },
     "execution_count": 9,
     "metadata": {},
     "output_type": "execute_result"
    }
   ],
   "source": [
    "repr(c)"
   ]
  },
  {
   "cell_type": "code",
   "execution_count": 10,
   "id": "5dab1473-7f0d-4c61-a233-56caf9a4cee9",
   "metadata": {},
   "outputs": [
    {
     "data": {
      "text/plain": [
       "'kim'"
      ]
     },
     "execution_count": 10,
     "metadata": {},
     "output_type": "execute_result"
    }
   ],
   "source": [
    "str(c)"
   ]
  },
  {
   "cell_type": "markdown",
   "id": "e1afb1b5-9c45-43e0-bfa4-2aaf6b28addf",
   "metadata": {},
   "source": [
    "### NamedTuple, DataClass"
   ]
  },
  {
   "cell_type": "code",
   "execution_count": null,
   "id": "5b8b38c8-bf84-474f-ae79-f6d239d27965",
   "metadata": {},
   "outputs": [],
   "source": [
    "\n",
    "- 객체보다 효율적임 (간단한 속성만 가진 클래스일 경우)\n",
    "- 딕셔너리의 키처럼 사용 가능하다 \n",
    "- 불변객체"
   ]
  },
  {
   "cell_type": "code",
   "execution_count": 12,
   "id": "4d151a89-42db-458e-b47e-c80cf892cfff",
   "metadata": {},
   "outputs": [
    {
     "data": {
      "text/plain": [
       "('lee', 44)"
      ]
     },
     "execution_count": 12,
     "metadata": {},
     "output_type": "execute_result"
    }
   ],
   "source": [
    "from collections import namedtuple\n",
    "\n",
    "Customer = namedtuple('Customer', 'name age') #변수는 공백으로 구분\n",
    "a = Customer('lee', 44)\n",
    "a.name, a.age"
   ]
  },
  {
   "cell_type": "code",
   "execution_count": 15,
   "id": "9f79bf1a-c8fb-46ca-b2d9-924e5f6114f7",
   "metadata": {},
   "outputs": [
    {
     "data": {
      "text/plain": [
       "('hong', 88)"
      ]
     },
     "execution_count": 15,
     "metadata": {},
     "output_type": "execute_result"
    }
   ],
   "source": [
    "from dataclasses import dataclass\n",
    "# 파이선 3.7이상에서만 가능 \n",
    "\n",
    "@dataclass\n",
    "class Customer2:\n",
    "    name: str\n",
    "    age: int\n",
    "    \n",
    "b = Customer2('hong',88)\n",
    "b.name, b.age"
   ]
  },
  {
   "cell_type": "code",
   "execution_count": null,
   "id": "61fa9f3d-4305-485c-8105-070c892dd7e6",
   "metadata": {},
   "outputs": [],
   "source": [
    "### 함수 II\n",
    "- *, **\n",
    "- 일급객체\n",
    "- 내부함수, 클로저\n",
    "- 익명함수\n",
    "- 제너레이터\n",
    "- 재귀함수"
   ]
  },
  {
   "cell_type": "markdown",
   "id": "211b31d7-6d9e-4412-bbf3-7f7d5ddc60b9",
   "metadata": {},
   "source": [
    "### asterisk : *"
   ]
  },
  {
   "cell_type": "code",
   "execution_count": 16,
   "id": "97232b93-e807-43c2-aa43-05c9618b841c",
   "metadata": {},
   "outputs": [
    {
     "name": "stdout",
     "output_type": "stream",
     "text": [
      "(1, 2, 3, 4, 5, 6)\n"
     ]
    }
   ],
   "source": [
    "def print_arg(*args): #별표의 기능은 : 1. 여러개의 인자가 들어왔을때 하나로 묶어준다. > 패킹 : 무한대로 받기 가능\n",
    "    print(args)\n",
    "    \n",
    "    \n",
    "print_arg(1,2,3,4,5,6)"
   ]
  },
  {
   "cell_type": "code",
   "execution_count": 17,
   "id": "3543f530-2c2d-4265-a0b6-34ea224deb6f",
   "metadata": {},
   "outputs": [
    {
     "name": "stdout",
     "output_type": "stream",
     "text": [
      "1 2 3 4 5 6\n"
     ]
    }
   ],
   "source": [
    "def print_arg(*args): #별표의 기능은 : 여러개의 인자가 들어왔을때 하나로 묶어준다. > 패킹 : 무한대로 받기 가능\n",
    "    print(*args) #2. 언패킹 : 여러자료를 하나씩 풀어서 설명\n",
    "    \n",
    "    \n",
    "print_arg(1,2,3,4,5,6)"
   ]
  },
  {
   "cell_type": "code",
   "execution_count": 18,
   "id": "675a64f1-ac08-4e3b-a1a4-c44f6d5675f6",
   "metadata": {},
   "outputs": [
    {
     "name": "stdout",
     "output_type": "stream",
     "text": [
      "1 2\n",
      "optional\n"
     ]
    }
   ],
   "source": [
    "def print_more(num1, num2, *args):\n",
    "    print(num1, num2)\n",
    "    print(*args, 'optional')\n",
    "    \n",
    "print_more(1,2)"
   ]
  },
  {
   "cell_type": "code",
   "execution_count": 19,
   "id": "2c9ac797-54c1-4f82-8819-8cec37908b44",
   "metadata": {},
   "outputs": [
    {
     "name": "stdout",
     "output_type": "stream",
     "text": [
      "0 1 2 3 4 5 6 7 8 9\n"
     ]
    }
   ],
   "source": [
    "empty = list(range(10))\n",
    "print(*empty) # 리스트반환이 아니라, 하나씩 각각 풀어서 출력한다."
   ]
  },
  {
   "cell_type": "code",
   "execution_count": 21,
   "id": "5ede1d0f-91f1-4da0-beb5-5a3fdbe887c6",
   "metadata": {},
   "outputs": [
    {
     "name": "stdout",
     "output_type": "stream",
     "text": [
      "(0, 3, 5)\n",
      "(2, 4, 6)\n"
     ]
    }
   ],
   "source": [
    "# 행렬, 테이블 데이터 경우 \n",
    "matrix = [\n",
    "    [0,2],\n",
    "    [3,4],\n",
    "    [5,6]\n",
    "]\n",
    "\n",
    "\n",
    "# 1,3,4 / 2,4,6 (열만 타고 샆다라면?)\n",
    "for item in zip(*matrix):\n",
    "    print(item)"
   ]
  },
  {
   "cell_type": "code",
   "execution_count": 22,
   "id": "f364be5d-a2f4-430a-8bdd-9a5dc7cec5ac",
   "metadata": {},
   "outputs": [
    {
     "name": "stdout",
     "output_type": "stream",
     "text": [
      "(1, 3, 5)\n",
      "(2, 4, 6)\n"
     ]
    }
   ],
   "source": [
    "for item in zip([1,2],[3,4],[5,6]):\n",
    "    print(item)\n",
    "    \n",
    "# 집의기능"
   ]
  },
  {
   "cell_type": "code",
   "execution_count": 27,
   "id": "b9ffcc27-8474-439f-9925-41fbd46cdd93",
   "metadata": {},
   "outputs": [
    {
     "name": "stdout",
     "output_type": "stream",
     "text": [
      "0\n",
      "1\n",
      "2\n",
      "3\n"
     ]
    }
   ],
   "source": [
    "# 키워드 전용 인수 선언 시 사용\n",
    "def print_data(data, *, start,end):\n",
    "    for item in data[start:end]:\n",
    "        print(item)\n",
    "        \n",
    "print_data(empty,start=0, end=4)\n",
    "#print_data(empty,0,1)   "
   ]
  },
  {
   "cell_type": "code",
   "execution_count": 29,
   "id": "91ec8a9c-a3fc-4ca7-a5dc-a45c934c1503",
   "metadata": {},
   "outputs": [
    {
     "name": "stdout",
     "output_type": "stream",
     "text": [
      "{'wine': 'crianza', 'drink': 'water'}\n"
     ]
    }
   ],
   "source": [
    "def print_kargs(**kargs): # 키:값 => 딕셔너리로 반환\n",
    "    print(kargs)\n",
    "    #print(**kags) #언팩킹은 불가능\n",
    "    \n",
    "print_kargs(wine = 'crianza', drink = 'water')"
   ]
  },
  {
   "cell_type": "code",
   "execution_count": 30,
   "id": "20110ae6-adaa-4b4a-86b3-a6ddb6d7e778",
   "metadata": {},
   "outputs": [
    {
     "name": "stdout",
     "output_type": "stream",
     "text": [
      "{'wine': 'a', 'drink': 'water'}\n",
      "{'wine': 'crianza', 'drink': 'water'}\n",
      "{'wine': 'siraz', 'drink': 'water'}\n"
     ]
    }
   ],
   "source": [
    "for wine in ['a','crianza','siraz']:\n",
    "    print_kargs(wine=wine, drink='water')"
   ]
  },
  {
   "cell_type": "code",
   "execution_count": null,
   "id": "3176f5c7-0de3-48f4-8df5-d185e5dd8513",
   "metadata": {},
   "outputs": [],
   "source": [
    "def print_all(num1,num2, *args, **kargs):\n",
    "    print(num1,num2)\n",
    "    print(sum(args))\n",
    "    print(kargs)\n",
    "    \n",
    "print_all(1,2,3,4,5,6, num1=4, num2 =4) #> 에러 발생"
   ]
  },
  {
   "cell_type": "code",
   "execution_count": 31,
   "id": "c8368ea8-27cd-49e5-9aa7-2edabed6bb65",
   "metadata": {},
   "outputs": [
    {
     "name": "stdout",
     "output_type": "stream",
     "text": [
      "1 2\n",
      "18\n",
      "{'num': 4}\n"
     ]
    }
   ],
   "source": [
    "def print_all(num1,num2, *args, **kargs):\n",
    "    print(num1,num2)\n",
    "    print(sum(args))\n",
    "    print(kargs)\n",
    "    \n",
    "print_all(1,2,3,4,5,6, num=4) # 자료형을 많이 넣을 수 있다.\n"
   ]
  },
  {
   "cell_type": "code",
   "execution_count": 33,
   "id": "00953da5-84cf-4e90-bbf1-b6c22949db40",
   "metadata": {},
   "outputs": [],
   "source": [
    "# 딕셔너리 조언\n",
    "a = {1:'a',2:'b'}\n",
    "b = {2:'c',3:'d'}\n",
    "c = {**a, **b}"
   ]
  },
  {
   "cell_type": "code",
   "execution_count": null,
   "id": "949f136f-77cf-4a4f-ab1d-69e44c867cbc",
   "metadata": {},
   "outputs": [],
   "source": []
  }
 ],
 "metadata": {
  "kernelspec": {
   "display_name": "Python 3 (ipykernel)",
   "language": "python",
   "name": "python3"
  },
  "language_info": {
   "codemirror_mode": {
    "name": "ipython",
    "version": 3
   },
   "file_extension": ".py",
   "mimetype": "text/x-python",
   "name": "python",
   "nbconvert_exporter": "python",
   "pygments_lexer": "ipython3",
   "version": "3.9.7"
  }
 },
 "nbformat": 4,
 "nbformat_minor": 5
}
