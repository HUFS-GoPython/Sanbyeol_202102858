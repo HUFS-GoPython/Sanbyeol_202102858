{
 "cells": [
  {
   "cell_type": "markdown",
   "id": "9796dff3-4ae2-4e98-bbff-adfe3e9d5bd2",
   "metadata": {},
   "source": [
    "# week 11"
   ]
  },
  {
   "cell_type": "markdown",
   "id": "ef295625-aa21-4adf-88ea-e672585f6934",
   "metadata": {},
   "source": [
    "### 객체"
   ]
  },
  {
   "cell_type": "code",
   "execution_count": null,
   "id": "6dff7717-0e8c-4bcc-8c8c-e7bd7b89c6a1",
   "metadata": {},
   "outputs": [],
   "source": [
    "\n",
    "- 상속 (inheritance)\n",
    "\n",
    "(클래스는 코드 재사용 용이)\n",
    "\n",
    "- 재사용할때, 클래스 A,B가 있는데, 아주 비슷한 경우가 있다. \n",
    "  - A의 대부분을 쓰고, 나머지를 추가, 변경하고 싶다. \n",
    "  - 부모의 모든 속성을 그대로 가져와서 쓰겠다. \n",
    "> 반복되는 부분을 가져오겠다. 물려받겠다. \n",
    "- A <- B : A는 부모, 슈퍼, 베이스 클래스 ,B는 자식,서브, derived 클래스라 함\n",
    "- 자식클래스는 부모 클래스를 구체화한다.\n",
    "- is-a 관계 : Car is-a Vehicle(포함된다)"
   ]
  },
  {
   "cell_type": "markdown",
   "id": "00e80afc-30d2-45e5-8bb9-92259140753a",
   "metadata": {},
   "source": [
    "# 상속 사용 방법"
   ]
  },
  {
   "cell_type": "code",
   "execution_count": 1,
   "id": "b063f546-55f7-48da-a37b-1f8f9f533300",
   "metadata": {},
   "outputs": [],
   "source": [
    "class Vehicle: #부모클래스\n",
    "    def __init__(self, speed):\n",
    "        self.speed = speed\n",
    "        \n",
    "    def go(self):\n",
    "        print(f'{self.speed}의 속도로 달린다.')\n",
    "        \n",
    "#child\n",
    "class Car(Vehicle): # 자식 클래스\n",
    "    pass\n",
    "\n",
    "\n",
    "\n",
    "# 아무것도 설정을 안하면 부모것만\n",
    "# 설정하면, 자식만\n",
    "# 설정해서, 부모것도 같이 가지고 오고 싶다면, super()로 가지고 온다. "
   ]
  },
  {
   "cell_type": "code",
   "execution_count": 3,
   "id": "d1e0602b-c995-4e2c-9246-e4bca90cece5",
   "metadata": {},
   "outputs": [],
   "source": [
    "car = Car('20km/h')"
   ]
  },
  {
   "cell_type": "code",
   "execution_count": 4,
   "id": "cce82d91-cab2-4633-9f5b-515f2a470728",
   "metadata": {},
   "outputs": [
    {
     "name": "stdout",
     "output_type": "stream",
     "text": [
      "20km/h의 속도로 달린다.\n"
     ]
    }
   ],
   "source": [
    "car.go()\n",
    "\n",
    "#부모의 메소드를 따른다. "
   ]
  },
  {
   "cell_type": "markdown",
   "id": "4943d491-292f-472a-b964-0e6ae98ea016",
   "metadata": {},
   "source": [
    "### 변수 추가변경"
   ]
  },
  {
   "cell_type": "code",
   "execution_count": 6,
   "id": "cf808ccf-49ed-404f-b14c-79a9c13fc832",
   "metadata": {},
   "outputs": [],
   "source": [
    "class Car(Vehicle): # 자식 클래스\n",
    "    def __init__(self,speed,brand):\n",
    "        #speed == 부모\n",
    "        super().__init__(speed)#괄호 안에 ,부모에게 가져올 것은 선택적으로 작성\n",
    "        #brand == 자식\n",
    "        self.brand = brand # 나의 고유한 특성이 된다. "
   ]
  },
  {
   "cell_type": "code",
   "execution_count": 8,
   "id": "c3165a2b-ee17-447c-8f04-cf54faaf2fdc",
   "metadata": {},
   "outputs": [
    {
     "data": {
      "text/plain": [
       "'kia'"
      ]
     },
     "execution_count": 8,
     "metadata": {},
     "output_type": "execute_result"
    }
   ],
   "source": [
    "car2 = Car('20km/h','kia')\n",
    "car2.brand"
   ]
  },
  {
   "cell_type": "code",
   "execution_count": 9,
   "id": "c77690a5-1d4c-44c1-ba62-1ac0bb5732b7",
   "metadata": {},
   "outputs": [
    {
     "ename": "AttributeError",
     "evalue": "'Vehicle' object has no attribute 'brand'",
     "output_type": "error",
     "traceback": [
      "\u001b[1;31m---------------------------------------------------------------------------\u001b[0m",
      "\u001b[1;31mAttributeError\u001b[0m                            Traceback (most recent call last)",
      "\u001b[1;32m~\\AppData\\Local\\Temp/ipykernel_4952/2184005269.py\u001b[0m in \u001b[0;36m<module>\u001b[1;34m\u001b[0m\n\u001b[0;32m      1\u001b[0m \u001b[0mv\u001b[0m \u001b[1;33m=\u001b[0m \u001b[0mVehicle\u001b[0m\u001b[1;33m(\u001b[0m\u001b[1;34m'33km/h'\u001b[0m\u001b[1;33m)\u001b[0m\u001b[1;33m\u001b[0m\u001b[1;33m\u001b[0m\u001b[0m\n\u001b[1;32m----> 2\u001b[1;33m \u001b[0mv\u001b[0m\u001b[1;33m.\u001b[0m\u001b[0mbrand\u001b[0m\u001b[1;33m\u001b[0m\u001b[1;33m\u001b[0m\u001b[0m\n\u001b[0m",
      "\u001b[1;31mAttributeError\u001b[0m: 'Vehicle' object has no attribute 'brand'"
     ]
    }
   ],
   "source": [
    "v = Vehicle('33km/h')\n",
    "v.brand\n",
    "# 부모는 브랜드가 없다고 나온다. "
   ]
  },
  {
   "cell_type": "markdown",
   "id": "2eafada8-c50f-4b61-8ea3-1efda55142f0",
   "metadata": {},
   "source": [
    "### 메소드 추가, 변경"
   ]
  },
  {
   "cell_type": "code",
   "execution_count": 18,
   "id": "fd052b5d-6e27-47fb-aebe-03ba9470beb8",
   "metadata": {},
   "outputs": [],
   "source": [
    "class Car(Vehicle): # 자식 클래스\n",
    "    def __init__(self,speed,brand):\n",
    "        super().__init__(speed)#괄호 안에 ,부모에게 가져올 것은 선택적으로 작성\n",
    "        self.brand = brand # 나의 고유한 특성이 된다. \n",
    "        \n",
    "    #오바라이드 : 재정의 \n",
    "    def go(self):\n",
    "        #부모의 go도 함께 가져가고 싶다면?\n",
    "        super().go()\n",
    "        print(f'차종 {self.brand}의 속도 {self.speed}')\n",
    "    \n",
    "    # 메소드 추가\n",
    "    def stop(self):\n",
    "        pass\n",
    "    \n",
    "    \n",
    "# 메소드 있는거를 바꾸겠다면, 차이들거를 먼저 바꿈,\n",
    "# 부모거를 바꾸고 싶다면, super"
   ]
  },
  {
   "cell_type": "code",
   "execution_count": 16,
   "id": "64a66faf-9513-460c-8743-dbf5c8dd4f81",
   "metadata": {},
   "outputs": [
    {
     "name": "stdout",
     "output_type": "stream",
     "text": [
      "33km/h의 속도로 달린다.\n",
      "차종 mini의 속도 33km/h\n"
     ]
    }
   ],
   "source": [
    "car3 = Car('33km/h','mini')\n",
    "car3.go()"
   ]
  },
  {
   "cell_type": "markdown",
   "id": "2aeafb50-0734-41d7-b8e9-af43ca89ca17",
   "metadata": {},
   "source": [
    "# 실습"
   ]
  },
  {
   "cell_type": "code",
   "execution_count": 19,
   "id": "e66fbceb-19ec-4f00-8dc7-c3b0d35aad56",
   "metadata": {},
   "outputs": [
    {
     "ename": "NameError",
     "evalue": "name 'person' is not defined",
     "output_type": "error",
     "traceback": [
      "\u001b[1;31m---------------------------------------------------------------------------\u001b[0m",
      "\u001b[1;31mNameError\u001b[0m                                 Traceback (most recent call last)",
      "\u001b[1;32m~\\AppData\\Local\\Temp/ipykernel_4952/2665838634.py\u001b[0m in \u001b[0;36m<module>\u001b[1;34m\u001b[0m\n\u001b[0;32m      5\u001b[0m \u001b[1;33m\u001b[0m\u001b[0m\n\u001b[0;32m      6\u001b[0m \u001b[1;31m#_____________________-\u001b[0m\u001b[1;33m\u001b[0m\u001b[1;33m\u001b[0m\u001b[0m\n\u001b[1;32m----> 7\u001b[1;33m \u001b[1;32mclass\u001b[0m \u001b[0mDoctor\u001b[0m\u001b[1;33m(\u001b[0m\u001b[0mperson\u001b[0m\u001b[1;33m)\u001b[0m\u001b[1;33m:\u001b[0m \u001b[1;31m#Dr.pablo\u001b[0m\u001b[1;33m\u001b[0m\u001b[1;33m\u001b[0m\u001b[0m\n\u001b[0m\u001b[0;32m      8\u001b[0m     \u001b[1;32mdef\u001b[0m \u001b[0mDoctor\u001b[0m\u001b[1;33m(\u001b[0m\u001b[0mself\u001b[0m\u001b[1;33m)\u001b[0m\u001b[1;33m:\u001b[0m\u001b[1;33m\u001b[0m\u001b[1;33m\u001b[0m\u001b[0m\n\u001b[0;32m      9\u001b[0m         \u001b[0msuper\u001b[0m\u001b[1;33m.\u001b[0m\u001b[0mgo\u001b[0m\u001b[1;33m(\u001b[0m\u001b[1;33m)\u001b[0m\u001b[1;33m\u001b[0m\u001b[1;33m\u001b[0m\u001b[0m\n",
      "\u001b[1;31mNameError\u001b[0m: name 'person' is not defined"
     ]
    }
   ],
   "source": [
    "class Person:\n",
    "    def __init__(self, name):\n",
    "        self.name = name #여기서출력하면 pablo가\n",
    "        print(f'{name}')\n",
    "        \n",
    "#_____________________-\n",
    "class Doctor(person): #Dr.pablo\n",
    "    def Doctor(self):\n",
    "        super.go()\n",
    "        print(f'이름은 Dr.{name}입니다.')\n",
    "    \n",
    "\"\"\"\n",
    "class Male(person): #Mr.pablo\n",
    "    pass\n",
    "\n",
    "\n",
    "class Female(person): # Mrs. pablo\n",
    "    pass\n",
    "\"\"\"\n"
   ]
  },
  {
   "cell_type": "code",
   "execution_count": null,
   "id": "421fdda5-4263-43fc-8687-dd7cbc18cbd5",
   "metadata": {},
   "outputs": [],
   "source": [
    "name1 = Person('pable')"
   ]
  },
  {
   "cell_type": "code",
   "execution_count": null,
   "id": "d83ee35d-bc04-4ba7-9a38-d5e63561f748",
   "metadata": {},
   "outputs": [],
   "source": [
    "\n",
    "#모범 답안 \n",
    "class Person:\n",
    "    def __init__(self, name):\n",
    "        self.name = name #여기서출력하면 pablo가\n",
    "        print(f'{name}')\n",
    "        \n",
    "#_____________________-\n",
    "class Doctor(person): #Dr.pablo\n",
    "    def __init__(self,name):\n",
    "        super().__init__('Doctor'+name)\n",
    "     \n",
    "    \n",
    "\"\"\"\n",
    "class Male(person): #Mr.pablo\n",
    "    pass\n",
    "\n",
    "\n",
    "class Female(person): # Mrs. pablo\n",
    "    pass\n",
    "\"\"\"\n"
   ]
  },
  {
   "cell_type": "code",
   "execution_count": null,
   "id": "d47165dd-df8f-4153-b854-8576a11a42df",
   "metadata": {},
   "outputs": [],
   "source": [
    "### 다중상속 \n",
    "- 부모가 여러명일때 문제, \n",
    "1) method resolution drder(MRO)\n",
    "2) Animal <- Horse\n",
    "          <- Donkey \n",
    "                 <- Mule (동키의 속성이 더 강하다.)\n",
    "                 <- Hinny (홀스의 속성이 더 강하다.)"
   ]
  },
  {
   "cell_type": "code",
   "execution_count": 21,
   "id": "c8f9cbfa-fc13-4606-97b2-6a12988c6693",
   "metadata": {},
   "outputs": [],
   "source": [
    "class Animal:\n",
    "    def says(self):\n",
    "        return '동물이 운다.'\n",
    "    \n",
    "\n",
    "#자식\n",
    "class Horse(Animal):\n",
    "    def says(self):\n",
    "        return '히히힝'\n",
    "    \n",
    "class Donkey(Animal):\n",
    "    def says(self):\n",
    "        return '히이호'\n",
    "    \n",
    "#손주\n",
    "class Mule(Donkey, Horse):\n",
    "    pass\n",
    "class Hinny(Horse, Donkey):\n",
    "    pass\n",
    "\n",
    "#다중 상속 문제, 가까운 순서대로 써준다, 오버라이딩 안하면 부모꺼 따른다. "
   ]
  },
  {
   "cell_type": "code",
   "execution_count": 22,
   "id": "0537c32a-7bcd-4de6-a13a-48c2f4463c3d",
   "metadata": {},
   "outputs": [
    {
     "data": {
      "text/plain": [
       "'히이호'"
      ]
     },
     "execution_count": 22,
     "metadata": {},
     "output_type": "execute_result"
    }
   ],
   "source": [
    "m = Mule()\n",
    "m.says()"
   ]
  },
  {
   "cell_type": "code",
   "execution_count": 23,
   "id": "63bd6629-fd9a-4044-86b0-8616b1b20a08",
   "metadata": {},
   "outputs": [
    {
     "data": {
      "text/plain": [
       "'히히힝'"
      ]
     },
     "execution_count": 23,
     "metadata": {},
     "output_type": "execute_result"
    }
   ],
   "source": [
    "Hinny().says()"
   ]
  },
  {
   "cell_type": "code",
   "execution_count": 24,
   "id": "29d10c28-033d-4f4c-936e-1207cefbe47d",
   "metadata": {},
   "outputs": [
    {
     "data": {
      "text/plain": [
       "[__main__.Mule, __main__.Donkey, __main__.Horse, __main__.Animal, object]"
      ]
     },
     "execution_count": 24,
     "metadata": {},
     "output_type": "execute_result"
    }
   ],
   "source": [
    "Mule.mro() #상속 거쳐 올라가기 "
   ]
  },
  {
   "cell_type": "code",
   "execution_count": null,
   "id": "a1e8e815-fb73-419b-a3d5-071d9affb525",
   "metadata": {},
   "outputs": [],
   "source": [
    "#할머니는 잊혀짐 \n",
    "\n",
    "class Animal:\n",
    "    def says(self):\n",
    "        return '동물이 운다.'\n",
    "    \n",
    "\n",
    "#자식\n",
    "class Horse(Animal):\n",
    "    def says(self):\n",
    "        super().says() #할머니 다시 기억할려면\n",
    "        return '히히힝'\n",
    "    \n",
    "class Donkey(Animal):\n",
    "    def says(self):\n",
    "        return '히이호'\n",
    "    \n",
    "#손주\n",
    "class Mule(Donkey, Horse):\n",
    "    pass\n",
    "class Hinny(Horse, Donkey):\n",
    "    pass"
   ]
  },
  {
   "cell_type": "code",
   "execution_count": null,
   "id": "430d467a-0d56-423c-81b5-c481d6ba5832",
   "metadata": {},
   "outputs": [],
   "source": [
    "# 다형성\n",
    "- 형태는 다르지만 같은 기능을 할 수 있다. \n",
    "- 객체가 다른데도 같은 메소드를 가지고 있으면, 기능 수행할 수 있다. "
   ]
  },
  {
   "cell_type": "code",
   "execution_count": 25,
   "id": "274553de-3e1a-4a13-9230-df27eae68389",
   "metadata": {},
   "outputs": [
    {
     "name": "stdout",
     "output_type": "stream",
     "text": [
      "히이호\n",
      "히이호\n",
      "동물이 운다.\n"
     ]
    }
   ],
   "source": [
    "for animal in [Mule(), Donkey(), Animal()]:\n",
    "    print(animal.says())"
   ]
  },
  {
   "cell_type": "code",
   "execution_count": 26,
   "id": "799897f3-962e-4956-8749-5270b1267c84",
   "metadata": {},
   "outputs": [
    {
     "data": {
      "text/plain": [
       "'히이호'"
      ]
     },
     "execution_count": 26,
     "metadata": {},
     "output_type": "execute_result"
    }
   ],
   "source": [
    "#\n",
    "a = Mule() #객체 생성 \n",
    "a.says()"
   ]
  },
  {
   "cell_type": "code",
   "execution_count": 27,
   "id": "2d9172ae-34cc-492e-8e93-8a2536eed494",
   "metadata": {},
   "outputs": [
    {
     "data": {
      "text/plain": [
       "__main__.Mule"
      ]
     },
     "execution_count": 27,
     "metadata": {},
     "output_type": "execute_result"
    }
   ],
   "source": [
    "Mule #해도 안나옴"
   ]
  },
  {
   "cell_type": "markdown",
   "id": "0f612c0e-475b-497c-8e83-be33daf9f34e",
   "metadata": {},
   "source": [
    "### 메서드 타입"
   ]
  },
  {
   "cell_type": "code",
   "execution_count": null,
   "id": "5a650f7c-f046-41f7-962f-f92193c3b5bc",
   "metadata": {},
   "outputs": [],
   "source": [
    "- instance 인스턴스 메서드 : 지금 우리가 쓰고 있는 \n",
    "  - self가 1번 인자\n",
    "  - 객체 생성 -> 사용가능\n",
    "- 클래스 메서드\n",
    "  - 객체를 생성하지 않아도 사용 가능\n",
    "  - 클래스에 접근하는 메서드\n",
    "  - # 붕어빵이 아무리 많이 만들어져도 바귀지 않는다..\n",
    "\n",
    "- 정적 메서드\n",
    "  - 객체를 생성하지 않고, 접근 가능\n",
    "  - 클래스랑 전혀 상관없기 때문에 접근 가능한 것\n",
    "  - 내용이나 기능이 비슷해서 클래스 내에 묶어 둠 \n",
    "  \n",
    "- 추상 메서드 \n",
    "  - 추상클래스 abstract 이름만 존재하는 클래스 \n",
    "  - 설계도 역할 : \n",
    "  - 상속하는 자식 클래스 => 반드시 구현해야 하는 메소드를 정의한다. "
   ]
  },
  {
   "cell_type": "code",
   "execution_count": null,
   "id": "8d8fa8cd-2d66-480e-be6a-f2fdaffd1c28",
   "metadata": {},
   "outputs": [],
   "source": [
    "class A:\n",
    "    cnt = 0\n",
    "    \n",
    "    def move(self):\n",
    "        return cnt"
   ]
  },
  {
   "cell_type": "code",
   "execution_count": null,
   "id": "87474cb8-bb53-4265-a9af-6542bc2ecd16",
   "metadata": {},
   "outputs": [],
   "source": [
    "A().move() # 오류발생 > 이럴때 어떻게 > "
   ]
  },
  {
   "cell_type": "code",
   "execution_count": 28,
   "id": "562dbc21-928e-49cb-8e00-c6b0a0557821",
   "metadata": {},
   "outputs": [],
   "source": [
    "class A:\n",
    "    cnt = 0\n",
    "    \n",
    "    @classmethod\n",
    "    def move(cls):\n",
    "        return cls.cnt"
   ]
  },
  {
   "cell_type": "code",
   "execution_count": 29,
   "id": "30b21d58-c879-4e58-8cef-e7f8d3bae9d7",
   "metadata": {},
   "outputs": [
    {
     "data": {
      "text/plain": [
       "0"
      ]
     },
     "execution_count": 29,
     "metadata": {},
     "output_type": "execute_result"
    }
   ],
   "source": [
    "A().move() #바로 접근 가능 "
   ]
  },
  {
   "cell_type": "code",
   "execution_count": null,
   "id": "a539c74f-2bbd-4aa9-b830-def3752d06a3",
   "metadata": {},
   "outputs": [],
   "source": [
    "# class 에 접근한다? 무스의미\n",
    "\n",
    "class Person:\n",
    "    def __init__(self, name, age):\n",
    "        self.name = name\n",
    "        self.age = age\n",
    "        \n",
    "    @classmethod    \n",
    "    def tuple_object(cls):\n",
    "        pass\n",
    "    \n",
    "name = 'kim'\n",
    "age = 24\n",
    "p = person(name,age)\n",
    "\n",
    "info = name,age\n",
    "Person.tuple_object(info) #p 객체 생성하게"
   ]
  },
  {
   "cell_type": "code",
   "execution_count": 31,
   "id": "cf3a8219-eb9a-4a1a-84f2-f11e7fb4f5df",
   "metadata": {},
   "outputs": [
    {
     "data": {
      "text/plain": [
       "<__main__.Person at 0x23a1dad0fa0>"
      ]
     },
     "execution_count": 31,
     "metadata": {},
     "output_type": "execute_result"
    }
   ],
   "source": [
    "class Person:\n",
    "    def __init__(self, name, age):\n",
    "        self.name = name\n",
    "        self.age = age\n",
    "        \n",
    "    @classmethod    \n",
    "    def tuple_object(cls, args):\n",
    "        return cls(args[0],args[1]) #Pserson()이 구현되는 방법과 비슷하다.\n",
    "        \n",
    "    \n",
    "name = 'kim'\n",
    "age = 24\n",
    "p = Person(name,age)\n",
    "\n",
    "info = name,age\n",
    "Person.tuple_object(info) #p 객체 생성하게"
   ]
  },
  {
   "cell_type": "code",
   "execution_count": 32,
   "id": "929cdcc9-3d86-4bdc-b87c-69153a487f4e",
   "metadata": {},
   "outputs": [
    {
     "data": {
      "text/plain": [
       "'kim'"
      ]
     },
     "execution_count": 32,
     "metadata": {},
     "output_type": "execute_result"
    }
   ],
   "source": [
    "p.name"
   ]
  },
  {
   "cell_type": "code",
   "execution_count": 33,
   "id": "4b3d1a1e-4f9a-41d2-ab6e-4c75494ea363",
   "metadata": {},
   "outputs": [
    {
     "ename": "NameError",
     "evalue": "name 'self' is not defined",
     "output_type": "error",
     "traceback": [
      "\u001b[1;31m---------------------------------------------------------------------------\u001b[0m",
      "\u001b[1;31mNameError\u001b[0m                                 Traceback (most recent call last)",
      "\u001b[1;32m~\\AppData\\Local\\Temp/ipykernel_4952/1978672662.py\u001b[0m in \u001b[0;36m<module>\u001b[1;34m\u001b[0m\n\u001b[1;32m----> 1\u001b[1;33m \u001b[1;32mclass\u001b[0m \u001b[0mA\u001b[0m\u001b[1;33m:\u001b[0m\u001b[1;33m\u001b[0m\u001b[1;33m\u001b[0m\u001b[0m\n\u001b[0m\u001b[0;32m      2\u001b[0m     \u001b[0mself\u001b[0m\u001b[1;33m.\u001b[0m\u001b[0mcnt\u001b[0m \u001b[1;33m=\u001b[0m \u001b[1;36m0\u001b[0m\u001b[1;33m\u001b[0m\u001b[1;33m\u001b[0m\u001b[0m\n",
      "\u001b[1;32m~\\AppData\\Local\\Temp/ipykernel_4952/1978672662.py\u001b[0m in \u001b[0;36mA\u001b[1;34m()\u001b[0m\n\u001b[0;32m      1\u001b[0m \u001b[1;32mclass\u001b[0m \u001b[0mA\u001b[0m\u001b[1;33m:\u001b[0m\u001b[1;33m\u001b[0m\u001b[1;33m\u001b[0m\u001b[0m\n\u001b[1;32m----> 2\u001b[1;33m     \u001b[0mself\u001b[0m\u001b[1;33m.\u001b[0m\u001b[0mcnt\u001b[0m \u001b[1;33m=\u001b[0m \u001b[1;36m0\u001b[0m\u001b[1;33m\u001b[0m\u001b[1;33m\u001b[0m\u001b[0m\n\u001b[0m",
      "\u001b[1;31mNameError\u001b[0m: name 'self' is not defined"
     ]
    }
   ],
   "source": [
    "class A:\n",
    "    # 붕어빵 몇개?\n",
    "    cnt = 0\n",
    "    \n",
    "    # cont += 1\n",
    "    \n",
    "    @classmethod\n",
    "    def count(cls):\n",
    "        return f'객체 수: {cls.cnt}'\n",
    "    \n",
    "    \n",
    "    \n",
    "A()\n",
    "A()\n",
    "A()\n",
    "A.count() #4\n",
    "    \n",
    "    \n",
    "    \n",
    "    \n",
    "#붕어빵을 몇개찍어냈는지, 객체로 접근하면 모르고, 클래스로 접근해야 알 수 있다 .\n"
   ]
  },
  {
   "cell_type": "code",
   "execution_count": 34,
   "id": "09434bff-078e-4577-ba86-f3a8b787b418",
   "metadata": {},
   "outputs": [
    {
     "data": {
      "text/plain": [
       "'객체 수: 3'"
      ]
     },
     "execution_count": 34,
     "metadata": {},
     "output_type": "execute_result"
    }
   ],
   "source": [
    "# 모범 답안\n",
    "class A:\n",
    "    # 붕어빵 몇개?\n",
    "    cnt = 0\n",
    "    \n",
    "    def __init__(self):\n",
    "        A.cnt += 1\n",
    "        \n",
    "    # cont += 1\n",
    "    \n",
    "    @classmethod\n",
    "    def count(cls):\n",
    "        #cls.cnt += 1\n",
    "        return f'객체 수: {cls.cnt}'\n",
    "    \n",
    "    \n",
    "    \n",
    "A()\n",
    "A()\n",
    "A()\n",
    "A.count() #4\n",
    "    \n"
   ]
  },
  {
   "cell_type": "code",
   "execution_count": null,
   "id": "df38621d-b624-4cfa-9e8e-2f2a2b92740b",
   "metadata": {},
   "outputs": [],
   "source": [
    "# 정적메서드 \n",
    "class Coyote:\n",
    "    @staticmethod\n",
    "    def says(): #self 없음\n",
    "        print('hi')"
   ]
  }
 ],
 "metadata": {
  "kernelspec": {
   "display_name": "Python 3 (ipykernel)",
   "language": "python",
   "name": "python3"
  },
  "language_info": {
   "codemirror_mode": {
    "name": "ipython",
    "version": 3
   },
   "file_extension": ".py",
   "mimetype": "text/x-python",
   "name": "python",
   "nbconvert_exporter": "python",
   "pygments_lexer": "ipython3",
   "version": "3.9.7"
  }
 },
 "nbformat": 4,
 "nbformat_minor": 5
}
