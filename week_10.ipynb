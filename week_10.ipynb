{
 "cells": [
  {
   "cell_type": "markdown",
   "id": "348a9681-2484-45a5-b575-59b4ab166700",
   "metadata": {},
   "source": [
    "# week 10 .객체와 클래스"
   ]
  },
  {
   "cell_type": "code",
   "execution_count": null,
   "id": "7a9fc190-7c3c-4fa3-b0cb-190988c67a6c",
   "metadata": {},
   "outputs": [],
   "source": [
    "\n",
    "- object (객체) \n",
    "- 객체 지향 프로그래밍\n",
    "- 속성과 행동을 가지는 개념, 실존하는 물체(?) ex) 자동차, 강아지, 꽃 thing,\n",
    "  자동차의 속성 : 브랜드, 색, 속도, 모델 > 변수\n",
    "    강아지의 속성: 이름, 종, 색, 속도, 모델\n",
    "   자동차의 행동 : 가다, 서다, 회전 ,주차 > 메소드(함수)\n",
    "   강아지의 행동 : 뛰다, 짖다, 자다, 핥다\n",
    "    \n",
    "- 객체를 지향한다 :\n",
    "    편의점 프로그램이라면 '고객이 편의점에서 과자를 샀다'\n",
    "    > (객체지향 = 쪼갠다)\n",
    "    > 고객> 사람, 편의점, 과자>판매하는 물건\n",
    "     고객 : 이름 / 물건 사다, 돈을 내다\n",
    "     편의점 : 재고, 수익 / 팔다, 수익을 남기다, 물건 등록\n",
    "     물건 : 이름,브랜드, 가격 / X\n",
    "        \n",
    "        (행동은 때에 따라 없을 수 있다. 필요에 따라서 판단 )\n",
    "    > 상호작용으로 코드를 구성하는 것\n",
    "- 객체를 구현하는 것이 클래스 , 프로그램은 클래스로 감"
   ]
  },
  {
   "cell_type": "code",
   "execution_count": null,
   "id": "655784db-185c-4306-a8d4-c59cc55fb609",
   "metadata": {},
   "outputs": [],
   "source": [
    "###1. 클래스 이름 짓기"
   ]
  },
  {
   "cell_type": "code",
   "execution_count": null,
   "id": "f4391851-f306-4efe-ba75-39354ef64f57",
   "metadata": {},
   "outputs": [],
   "source": [
    "- 첫글자 대문자\n",
    "- nice car > Nice_car(X)\n",
    "-NiceCar (카멜 표기법으로 사용)\n",
    "\n",
    "- 정의부, 선언부\n",
    "- 정의부 = 붕어빵 틀\n",
    "- 선언부 = 붕어빵"
   ]
  },
  {
   "cell_type": "code",
   "execution_count": 2,
   "id": "b9dc245d-6b6b-4442-b3dd-4317d0cc06ad",
   "metadata": {},
   "outputs": [
    {
     "data": {
      "text/plain": [
       "<__main__.Car at 0x1db4005ad00>"
      ]
     },
     "execution_count": 2,
     "metadata": {},
     "output_type": "execute_result"
    }
   ],
   "source": [
    "# 정의부\n",
    "class Car: #객체\n",
    "    pass\n",
    "\n",
    "#선언부\n",
    "my_car = Car()\n",
    "my_car #instance == 붕어빵\n"
   ]
  },
  {
   "cell_type": "code",
   "execution_count": 3,
   "id": "a98e0289-7513-48ac-a210-946299736f5e",
   "metadata": {},
   "outputs": [],
   "source": [
    "my_car.name = 'bmw'\n",
    "my_car.color = 'white'"
   ]
  },
  {
   "cell_type": "code",
   "execution_count": 5,
   "id": "ff18ee0e-0676-45cb-8066-ee7ab6ef11be",
   "metadata": {},
   "outputs": [
    {
     "data": {
      "text/plain": [
       "'bmw'"
      ]
     },
     "execution_count": 5,
     "metadata": {},
     "output_type": "execute_result"
    }
   ],
   "source": [
    "my_car.name"
   ]
  },
  {
   "cell_type": "code",
   "execution_count": 8,
   "id": "182f0e01-f731-4155-8bf6-2c8a327b2272",
   "metadata": {},
   "outputs": [],
   "source": [
    "class Car:\n",
    "    #1. \n",
    "    name = 'BMW'"
   ]
  },
  {
   "cell_type": "code",
   "execution_count": 9,
   "id": "aba3de18-bbeb-495c-8aff-02eeadebb331",
   "metadata": {},
   "outputs": [],
   "source": [
    "yout_car = Car()"
   ]
  },
  {
   "cell_type": "code",
   "execution_count": 10,
   "id": "5833dd77-9133-47d2-ad78-bd732a270e40",
   "metadata": {},
   "outputs": [
    {
     "data": {
      "text/plain": [
       "'BMW'"
      ]
     },
     "execution_count": 10,
     "metadata": {},
     "output_type": "execute_result"
    }
   ],
   "source": [
    "yout_car.name"
   ]
  },
  {
   "cell_type": "code",
   "execution_count": 12,
   "id": "eed27b0b-d805-404c-a703-206ffec5dd8f",
   "metadata": {},
   "outputs": [],
   "source": [
    "#2. \n",
    "class Car:\n",
    "    def __init__(self,name): # 속성 초기화 함수\n",
    "        # 객체 만들때 들어가는 값으로 이름을 설정하고싶다.\n",
    "        self.name = name # 이클래스에서 계속 name으로 가져갈것\n",
    "       # self == instance: 나 자신, 인스턴스 자신 "
   ]
  },
  {
   "cell_type": "code",
   "execution_count": 13,
   "id": "049a3e43-a713-46fa-81f8-8ffddf123aa1",
   "metadata": {},
   "outputs": [],
   "source": [
    "her_car = Car(name = '현대')"
   ]
  },
  {
   "cell_type": "code",
   "execution_count": 14,
   "id": "f949a35b-2e91-40b1-befb-92f4abb144a0",
   "metadata": {},
   "outputs": [
    {
     "data": {
      "text/plain": [
       "'현대'"
      ]
     },
     "execution_count": 14,
     "metadata": {},
     "output_type": "execute_result"
    }
   ],
   "source": [
    "her_car.name"
   ]
  },
  {
   "cell_type": "code",
   "execution_count": null,
   "id": "fa22ef6f-b9c9-4042-a950-9d8b8eab356e",
   "metadata": {},
   "outputs": [],
   "source": [
    "# 차에 속성 추가하기. 모델, 색"
   ]
  },
  {
   "cell_type": "code",
   "execution_count": 18,
   "id": "28e0168f-f26a-493b-9a18-866b664444c9",
   "metadata": {},
   "outputs": [
    {
     "data": {
      "text/plain": [
       "'red'"
      ]
     },
     "execution_count": 18,
     "metadata": {},
     "output_type": "execute_result"
    }
   ],
   "source": [
    "# 내가 한것 \n",
    "class Car:\n",
    "    def __init__(self,model,color):\n",
    "        self.model = model\n",
    "        self.color = color\n",
    "        \n",
    "my_car = Car(model = 'SUV',color = 'red') # 변수이름 쓰지 않아도, Car('kia','SUV') 해도 가능 \n",
    "my_car.model\n",
    "my_car.color"
   ]
  },
  {
   "cell_type": "code",
   "execution_count": 20,
   "id": "62348094-3848-400a-b0ea-9e5ed219ed84",
   "metadata": {},
   "outputs": [],
   "source": [
    "class Car:\n",
    "    def __init__(self,model,color):\n",
    "        self.model = model\n",
    "        self.color = color\n",
    "       \n",
    "    def drive(self):\n",
    "        print('차가 갑니다.')\n",
    "    \n",
    "    def stop(self):\n",
    "        print('차가 섭니다.')"
   ]
  },
  {
   "cell_type": "code",
   "execution_count": 21,
   "id": "a68d9088-4f3f-4904-a3c8-31f66073b690",
   "metadata": {},
   "outputs": [],
   "source": [
    "her_car = Car('SUV','red')"
   ]
  },
  {
   "cell_type": "code",
   "execution_count": 23,
   "id": "34033dc8-a401-4be0-ac72-ee851fc150e2",
   "metadata": {},
   "outputs": [
    {
     "name": "stdout",
     "output_type": "stream",
     "text": [
      "차가 섭니다.\n"
     ]
    }
   ],
   "source": [
    "her_car.stop()"
   ]
  },
  {
   "cell_type": "code",
   "execution_count": 5,
   "id": "c00aada9-2349-49d4-a3e9-94e60481d1c1",
   "metadata": {},
   "outputs": [],
   "source": [
    "#퀴즈\n",
    "\n",
    "class Car:\n",
    "    def __init__(self,name,model = None,color='black'):\n",
    "        self.model = model\n",
    "        # None == 없음  > 나중에 원하는 것으로 넣을수 있음\n",
    "        self.color = color\n",
    "        self.name = name\n",
    "        \n",
    "       \n",
    "    def drive(self):\n",
    "        print(f'{self.name}가 출발합니다.')\n",
    "        # 차이름가 출발합니다. \n",
    "        # slef.name vs self \n",
    "        \n",
    "    def stop(self):\n",
    "        print('차가 섭니다.')\n",
    "        \n",
    "    def change_color(self):\n",
    "        self.color = 'gray'\n",
    "        # 2. 그레이로 바꾼다. \n",
    "        # 3. 컬러를 받아서 그걸로 지정하게\n",
    "        # self.color = color\n",
    "        \n",
    "        # 4. 컬러가 들어오면 그 값으로 설정, 아니면 블랙으로 설정\n",
    "        # 5. model을 생성할 때 안넣어도 되게 설정하기 "
   ]
  },
  {
   "cell_type": "code",
   "execution_count": 6,
   "id": "02989e7f-e44f-4d8e-b7f3-600ec2a05c61",
   "metadata": {},
   "outputs": [
    {
     "name": "stdout",
     "output_type": "stream",
     "text": [
      "mountainastar가 출발합니다.\n"
     ]
    }
   ],
   "source": [
    "# 복습\n",
    "my_car = Car(name = 'mountainastar',model = 'SUV',color = 'red')\n",
    "new_car = Car(name = 'mountainastar',model = 'SUV')\n",
    "\n",
    "new_car.color\n",
    "my_car.color\n",
    "my_car.drive()\n",
    "\n",
    "my_car.change_color()\n",
    "my_car.color\n",
    "my_car.change_color()\n",
    "\n",
    "my_car.change_color()\n",
    "my_car.color # 색상을 바꾸고, 출력하는 방법"
   ]
  },
  {
   "cell_type": "markdown",
   "id": "cc4b45a5-7fd1-400d-8acf-62fc877e514e",
   "metadata": {},
   "source": [
    "### 2. 캡슐화, 정보은닉"
   ]
  },
  {
   "cell_type": "code",
   "execution_count": null,
   "id": "0f85e7a9-3c38-4769-ae46-4f6d5482e40a",
   "metadata": {},
   "outputs": [],
   "source": [
    "- public > private\n",
    "- getter,setter"
   ]
  },
  {
   "cell_type": "code",
   "execution_count": 11,
   "id": "1ed944b7-6046-41f1-9948-d93c6d4921d8",
   "metadata": {},
   "outputs": [
    {
     "data": {
      "text/plain": [
       "'red'"
      ]
     },
     "execution_count": 11,
     "metadata": {},
     "output_type": "execute_result"
    }
   ],
   "source": [
    "class Fruit:\n",
    "    color = 'red'\n",
    "    \n",
    "kiwi = Fruit()\n",
    "kiwi.color"
   ]
  },
  {
   "cell_type": "code",
   "execution_count": 82,
   "id": "6ca979d3-87bb-45c9-9749-4464684357a1",
   "metadata": {},
   "outputs": [],
   "source": [
    "Fruit.color = 'black'"
   ]
  },
  {
   "cell_type": "code",
   "execution_count": 83,
   "id": "f45a0348-ae80-419f-9d25-6f6e6838866c",
   "metadata": {},
   "outputs": [
    {
     "data": {
      "text/plain": [
       "'black'"
      ]
     },
     "execution_count": 83,
     "metadata": {},
     "output_type": "execute_result"
    }
   ],
   "source": [
    "apple = Fruit()\n",
    "apple.color\n",
    "# 너무 쉽게 정보를 바꾸어버린다. "
   ]
  },
  {
   "cell_type": "code",
   "execution_count": null,
   "id": "c37a1fc7-604a-4ddc-b6b2-1fe271a39e71",
   "metadata": {},
   "outputs": [],
   "source": [
    "### 1 .get, set\n",
    "- getter : 클래스 내 객체 변수 반환 \n",
    "- setter : == 변수 설정 "
   ]
  },
  {
   "cell_type": "code",
   "execution_count": 16,
   "id": "c437f518-5b06-43bc-9585-c1cfa636c1bf",
   "metadata": {},
   "outputs": [],
   "source": [
    "class Car:\n",
    "    def __init__(self,input_name):\n",
    "        self.name = input_name\n",
    "        \n",
    "    def get_name(self):\n",
    "        # 변수 반환\n",
    "        return self.name\n",
    "    \n",
    "    def set_name(self, input_name):\n",
    "        self.name = input_name\n",
    "        \n",
    "c = Car('name1')"
   ]
  },
  {
   "cell_type": "code",
   "execution_count": 17,
   "id": "eeb679d5-8060-4ad1-91ae-8a9602f2a4d9",
   "metadata": {},
   "outputs": [
    {
     "data": {
      "text/plain": [
       "'name1'"
      ]
     },
     "execution_count": 17,
     "metadata": {},
     "output_type": "execute_result"
    }
   ],
   "source": [
    "c.get_name()"
   ]
  },
  {
   "cell_type": "code",
   "execution_count": 18,
   "id": "b6c579c6-56b9-4c5e-9a11-c25a8b3c6e4b",
   "metadata": {},
   "outputs": [
    {
     "data": {
      "text/plain": [
       "'name2'"
      ]
     },
     "execution_count": 18,
     "metadata": {},
     "output_type": "execute_result"
    }
   ],
   "source": [
    "c.set_name('name2')\n",
    "c.name"
   ]
  },
  {
   "cell_type": "code",
   "execution_count": 92,
   "id": "eb31477a-f209-4804-8490-c21c913dcf8b",
   "metadata": {},
   "outputs": [
    {
     "data": {
      "text/plain": [
       "'name_1'"
      ]
     },
     "execution_count": 92,
     "metadata": {},
     "output_type": "execute_result"
    }
   ],
   "source": [
    "# 파이썬 스러운 방법 \n",
    "class Car:\n",
    "    def __init__(self,input_name):\n",
    "        self.hidden_name = input_name\n",
    "        \n",
    "    def get_name(self):\n",
    "        # 변수 반환\n",
    "        return self.hidden_name\n",
    "    \n",
    "    def set_name(self, inut_name):\n",
    "        self.hidden_name = input_name\n",
    "        \n",
    "    name = property(get_name, set_name)\n",
    "    \n",
    "d = Car('name_1')\n",
    "d.name"
   ]
  },
  {
   "cell_type": "code",
   "execution_count": 93,
   "id": "f38315ae-3ba7-40a8-89be-2ab19fc33cf4",
   "metadata": {},
   "outputs": [],
   "source": [
    "class Car:\n",
    "    def __init__(self,input_name):\n",
    "        self.hidden_name = input_name\n",
    "        \n",
    "    @property# decorater   \n",
    "    def name(self):\n",
    "        # 변수 반환\n",
    "        return self.hidden_name\n",
    "    \n",
    "    @name.setter\n",
    "    def name(self, inut_name):\n",
    "        self.hidden_name = input_name"
   ]
  },
  {
   "cell_type": "code",
   "execution_count": 94,
   "id": "62ae5e64-7579-4ce4-bb3a-fe5d656b4d97",
   "metadata": {},
   "outputs": [
    {
     "data": {
      "text/plain": [
       "'name a'"
      ]
     },
     "execution_count": 94,
     "metadata": {},
     "output_type": "execute_result"
    }
   ],
   "source": [
    "e = Car('name a')\n",
    "e.name"
   ]
  },
  {
   "cell_type": "code",
   "execution_count": 95,
   "id": "8c0c109b-8960-40ca-9a2b-d5da6a92b3fb",
   "metadata": {},
   "outputs": [
    {
     "data": {
      "text/plain": [
       "'name a'"
      ]
     },
     "execution_count": 95,
     "metadata": {},
     "output_type": "execute_result"
    }
   ],
   "source": [
    "e.hidden_name"
   ]
  },
  {
   "cell_type": "code",
   "execution_count": null,
   "id": "120ac311-d24a-4994-9b1a-43fbe3a340c3",
   "metadata": {},
   "outputs": [],
   "source": [
    "####완전 접근 하지 못하게 하는 방법\n",
    "\n",
    "class Car:\n",
    "    def __init__(self,input_name):\n",
    "        self.__name = input_name\n",
    "        \n",
    "    @property# decorater   \n",
    "    def name(self):\n",
    "        # 변수 반환\n",
    "        return self.__name\n",
    "    \n",
    "    @name.setter\n",
    "    def name(self, inut_name):\n",
    "        self.___name = input_name\n",
    "        \n",
    "        \n",
    "# __ 변수명 사용"
   ]
  },
  {
   "cell_type": "code",
   "execution_count": 96,
   "id": "4c692f7b-99b6-4bdf-864c-06107c2de550",
   "metadata": {},
   "outputs": [
    {
     "ename": "NameError",
     "evalue": "name 'f' is not defined",
     "output_type": "error",
     "traceback": [
      "\u001b[1;31m---------------------------------------------------------------------------\u001b[0m",
      "\u001b[1;31mNameError\u001b[0m                                 Traceback (most recent call last)",
      "\u001b[1;32m~\\AppData\\Local\\Temp/ipykernel_14116/2294445030.py\u001b[0m in \u001b[0;36m<module>\u001b[1;34m\u001b[0m\n\u001b[1;32m----> 1\u001b[1;33m \u001b[0mf\u001b[0m\u001b[1;33m.\u001b[0m \u001b[0mCar\u001b[0m\u001b[1;33m(\u001b[0m\u001b[1;34m'name b'\u001b[0m\u001b[1;33m)\u001b[0m\u001b[1;33m\u001b[0m\u001b[1;33m\u001b[0m\u001b[0m\n\u001b[0m\u001b[0;32m      2\u001b[0m \u001b[0mf\u001b[0m\u001b[1;33m.\u001b[0m\u001b[0m__name\u001b[0m\u001b[1;33m\u001b[0m\u001b[1;33m\u001b[0m\u001b[0m\n",
      "\u001b[1;31mNameError\u001b[0m: name 'f' is not defined"
     ]
    }
   ],
   "source": [
    "f. Car('name b')\n",
    "f.__name\n",
    "# 접근 불가능"
   ]
  },
  {
   "cell_type": "code",
   "execution_count": 100,
   "id": "ad51b371-fff1-4b05-882b-4c919e2409b3",
   "metadata": {},
   "outputs": [
    {
     "data": {
      "text/plain": [
       "10"
      ]
     },
     "execution_count": 100,
     "metadata": {},
     "output_type": "execute_result"
    }
   ],
   "source": [
    "class Circle:\n",
    "    def __init__(self,radius):\n",
    "        self.radius = radius\n",
    "        \n",
    "    def parameter(self):\n",
    "        return self.radius *2 \n",
    "    \n",
    "ex = Circle(5)\n",
    "ex.parameter()"
   ]
  },
  {
   "cell_type": "code",
   "execution_count": 99,
   "id": "fbf403a4-3dde-4965-88ec-9917f79e0f05",
   "metadata": {},
   "outputs": [
    {
     "data": {
      "text/plain": [
       "38"
      ]
     },
     "execution_count": 99,
     "metadata": {},
     "output_type": "execute_result"
    }
   ],
   "source": [
    "ex.radius = 19\n",
    "ex.parameter()"
   ]
  },
  {
   "cell_type": "code",
   "execution_count": null,
   "id": "f00b5e62-7fa4-4ef4-863f-dc6e68ca8f0a",
   "metadata": {},
   "outputs": [],
   "source": [
    "### 퀴즈\n",
    "- 메모장, 메무 구현하기\n",
    "- 메모장 \n",
    "  - 속성 : 제목, 페이지 번호, 메모\n",
    "    - 행동 : 메모 추가하다, 메모 삭제하다, 페이지 번호 확인하다. \n",
    "- 메모\n",
    "  - 속성 : 글귀\n",
    "  - 행동 : 쓰다. 지우다\n",
    "\n",
    "사람이 하는 행동(사용)\n",
    "메모를 쓰고, \n",
    "메모장에 추가하고\n",
    "페이지 번호가 늘어난다.\n",
    "메모를 삭제하면\n",
    "페이지 번호가 줄어든다.\n",
    "메모장의 제목만 은닉"
   ]
  },
  {
   "cell_type": "code",
   "execution_count": null,
   "id": "2942e62f-fc5b-46d2-8fb1-cbbd638302c2",
   "metadata": {},
   "outputs": [],
   "source": [
    "class Notebook:\n",
    "    def __init__(self,title,page,text):\n",
    "        self.__tilte = title\n",
    "        self.page = None\n",
    "        self.text = None\n",
    "     \n",
    "    # action: 메모 추가하다.\n",
    "    def write(self):\n",
    "        self.text = text\n",
    "        \n",
    "    def delete(self):\n",
    "        def text\n",
    "        \n",
    "\n",
    "\n",
    "\n",
    "\n",
    "\n",
    "\n",
    "\n",
    "class Note:"
   ]
  },
  {
   "cell_type": "code",
   "execution_count": 6,
   "id": "548cd6cb-d214-4e57-80d8-a79bc19eb8ce",
   "metadata": {},
   "outputs": [
    {
     "name": "stdout",
     "output_type": "stream",
     "text": [
      "Note\n",
      "제주도 가고싶다\n",
      "1페이지\n",
      "\n"
     ]
    },
    {
     "ename": "ValueError",
     "evalue": "list.remove(x): x not in list",
     "output_type": "error",
     "traceback": [
      "\u001b[1;31m---------------------------------------------------------------------------\u001b[0m",
      "\u001b[1;31mValueError\u001b[0m                                Traceback (most recent call last)",
      "\u001b[1;32m~\\AppData\\Local\\Temp/ipykernel_3332/4172140088.py\u001b[0m in \u001b[0;36m<module>\u001b[1;34m\u001b[0m\n\u001b[0;32m     53\u001b[0m \u001b[1;33m\u001b[0m\u001b[0m\n\u001b[0;32m     54\u001b[0m \u001b[1;31m# 메모 삭제\u001b[0m\u001b[1;33m\u001b[0m\u001b[1;33m\u001b[0m\u001b[0m\n\u001b[1;32m---> 55\u001b[1;33m \u001b[0mmy_note\u001b[0m\u001b[1;33m.\u001b[0m\u001b[0mdelete\u001b[0m\u001b[1;33m(\u001b[0m\u001b[0mline_2\u001b[0m\u001b[1;33m)\u001b[0m\u001b[1;33m\u001b[0m\u001b[1;33m\u001b[0m\u001b[0m\n\u001b[0m\u001b[0;32m     56\u001b[0m \u001b[0mmy_note\u001b[0m\u001b[1;33m.\u001b[0m\u001b[0mprint_memo\u001b[0m\u001b[1;33m(\u001b[0m\u001b[1;33m)\u001b[0m\u001b[1;33m\u001b[0m\u001b[1;33m\u001b[0m\u001b[0m\n\u001b[0;32m     57\u001b[0m \u001b[1;33m\u001b[0m\u001b[0m\n",
      "\u001b[1;32m~\\AppData\\Local\\Temp/ipykernel_3332/4172140088.py\u001b[0m in \u001b[0;36mdelete\u001b[1;34m(self, line)\u001b[0m\n\u001b[0;32m     31\u001b[0m         \u001b[0mself\u001b[0m\u001b[1;33m.\u001b[0m\u001b[0mmemo\u001b[0m\u001b[1;33m.\u001b[0m\u001b[0mappend\u001b[0m\u001b[1;33m(\u001b[0m\u001b[0mline\u001b[0m\u001b[1;33m)\u001b[0m\u001b[1;33m\u001b[0m\u001b[1;33m\u001b[0m\u001b[0m\n\u001b[0;32m     32\u001b[0m     \u001b[1;32mdef\u001b[0m \u001b[0mdelete\u001b[0m\u001b[1;33m(\u001b[0m\u001b[0mself\u001b[0m\u001b[1;33m,\u001b[0m \u001b[0mline\u001b[0m\u001b[1;33m)\u001b[0m\u001b[1;33m:\u001b[0m\u001b[1;33m\u001b[0m\u001b[1;33m\u001b[0m\u001b[0m\n\u001b[1;32m---> 33\u001b[1;33m         \u001b[0mself\u001b[0m\u001b[1;33m.\u001b[0m\u001b[0mmemo\u001b[0m\u001b[1;33m.\u001b[0m\u001b[0mremove\u001b[0m\u001b[1;33m(\u001b[0m\u001b[0mline\u001b[0m\u001b[1;33m)\u001b[0m\u001b[1;33m\u001b[0m\u001b[1;33m\u001b[0m\u001b[0m\n\u001b[0m\u001b[0;32m     34\u001b[0m     \u001b[1;32mdef\u001b[0m \u001b[0mprint_memo\u001b[0m\u001b[1;33m(\u001b[0m\u001b[0mself\u001b[0m\u001b[1;33m)\u001b[0m\u001b[1;33m:\u001b[0m\u001b[1;33m\u001b[0m\u001b[1;33m\u001b[0m\u001b[0m\n\u001b[0;32m     35\u001b[0m         \u001b[0mprint\u001b[0m\u001b[1;33m(\u001b[0m\u001b[1;34m'Note'\u001b[0m\u001b[1;33m)\u001b[0m\u001b[1;33m\u001b[0m\u001b[1;33m\u001b[0m\u001b[0m\n",
      "\u001b[1;31mValueError\u001b[0m: list.remove(x): x not in list"
     ]
    }
   ],
   "source": [
    "class Notebook:\n",
    "    def __init__(self, title, memo = [], page = 0):\n",
    "        self.__title = title\n",
    "        self.memo = memo\n",
    "        self.page = page\n",
    "        \n",
    "    @property\n",
    "    def title(self):\n",
    "        return self.__title\n",
    "    \n",
    "    def new_note(self, note = []):\n",
    "        self.memo.extend(note)\n",
    "        page += 1\n",
    "        \n",
    "    def remove_note(self, note):\n",
    "        self.memo.remove(note)\n",
    "        page -= 1\n",
    "    def get_page_num(self):\n",
    "        return self.page\n",
    "    def print_notebook(self):\n",
    "        print('Notebook')\n",
    "        for p, m in enumerate(self.memo, start = 1):\n",
    "            print(m)\n",
    "            print(f'page {p}')\n",
    "        print()\n",
    "        \n",
    "class Note:\n",
    "    def __init__(self, memo=[]):\n",
    "        self.memo = memo\n",
    "    def write(self, line):\n",
    "        self.memo.append(line)\n",
    "    def delete(self, line):\n",
    "        self.memo.remove(line)\n",
    "    def print_memo(self):\n",
    "        print('Note')\n",
    "        for p, m in enumerate(self.memo, start = 1):\n",
    "            print(m)\n",
    "            print(f'{p}페이지')\n",
    "        print()\n",
    "        \n",
    "        \n",
    "        \n",
    "        \n",
    "        \n",
    "line_1 = '제주도 가고싶다'\n",
    "line_2 = '고기먹고싶다.'\n",
    "line_3 = '귤 먹고싶다.'\n",
    "\n",
    "# 메모 추가\n",
    "my_note = Note()\n",
    "my_note.write(line_1)\n",
    "my_note.print_memo()\n",
    "\n",
    "# 메모 삭제\n",
    "my_note.delete(line_2)\n",
    "my_note.print_memo()\n",
    "\n",
    "# 페이지 번호 확인\n",
    "my_book.get_page_num()"
   ]
  },
  {
   "cell_type": "code",
   "execution_count": null,
   "id": "5d0bb9dc-69b6-4bc9-8492-cb14112d9a98",
   "metadata": {},
   "outputs": [],
   "source": [
    "\n",
    "class Car:\n",
    "    def __init__(self,name,model = None,color='black'):\n",
    "        self.model = model\n",
    "        # None == 없음  > 나중에 원하는 것으로 넣을수 있음\n",
    "        self.color = color\n",
    "        self.name = name\n",
    "        \n",
    "       \n",
    "    def drive(self):\n",
    "        print(f'{self.name}가 출발합니다.')\n",
    "        # 차이름가 출발합니다. \n",
    "        # slef.name vs self \n",
    "        \n",
    "    def stop(self):\n",
    "        print('차가 섭니다.')\n",
    "        \n",
    "    def change_color(self):\n",
    "        self.color = 'gray'\n",
    "        # 2. 그레이로 바꾼다. \n",
    "        # 3. 컬러를 받아서 그걸로 지정하게\n",
    "        # self.color = color\n",
    "        \n",
    "        # 4. 컬러가 들어오면 그 값으로 설정, 아니면 블랙으로 설정\n",
    "        # 5. model을 생성할 때 안넣어도 되게 설정하기 "
   ]
  }
 ],
 "metadata": {
  "kernelspec": {
   "display_name": "Python 3 (ipykernel)",
   "language": "python",
   "name": "python3"
  },
  "language_info": {
   "codemirror_mode": {
    "name": "ipython",
    "version": 3
   },
   "file_extension": ".py",
   "mimetype": "text/x-python",
   "name": "python",
   "nbconvert_exporter": "python",
   "pygments_lexer": "ipython3",
   "version": "3.9.7"
  }
 },
 "nbformat": 4,
 "nbformat_minor": 5
}
