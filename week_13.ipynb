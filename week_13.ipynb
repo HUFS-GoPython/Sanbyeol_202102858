{
 "cells": [
  {
   "cell_type": "markdown",
   "id": "51b54c63-742f-445d-92c9-4b3d8b499cc5",
   "metadata": {},
   "source": [
    "# week 13"
   ]
  },
  {
   "cell_type": "markdown",
   "id": "bb801c3e-b2cc-4d89-b1eb-a1ae21fc9825",
   "metadata": {},
   "source": [
    "### 1. 일급객체"
   ]
  },
  {
   "cell_type": "code",
   "execution_count": null,
   "id": "76639912-8d94-4cc2-a243-874645d910f6",
   "metadata": {
    "tags": []
   },
   "outputs": [],
   "source": [
    "- first class obiect, first class citizen\n",
    "- 파이썬에는 함수도 일급 객체다.\n",
    "\n",
    "- 일급 객체의 조건 \n",
    "  - 함수의 인자로 전달된다. \n",
    "     def fx(func):\n",
    "  - 함수의 반환값이 된다.\n",
    "    def fx(func):\n",
    "        return func\n",
    "  - 수정, 할당이 된다.\n",
    "     var = fx()\n",
    "    \n",
    "(다른언어 에서는 함수의 이런 기능이 안된다. )"
   ]
  },
  {
   "cell_type": "code",
   "execution_count": 1,
   "id": "af1331ff-8628-479b-a6b2-47efb46c6ce3",
   "metadata": {},
   "outputs": [
    {
     "name": "stdout",
     "output_type": "stream",
     "text": [
      "42\n"
     ]
    }
   ],
   "source": [
    "def answer():\n",
    "    print(42)\n",
    "\n",
    "def run_sth(func):\n",
    "    func() # func vs func()\n",
    "\n",
    "run_sth(answer)"
   ]
  },
  {
   "cell_type": "code",
   "execution_count": null,
   "id": "954f086a-d226-4c81-94ad-6a7208c9d026",
   "metadata": {},
   "outputs": [],
   "source": [
    "def add_args(args1,arg2):      # sum으로 한다면 인자가 더 들어갈 수 있다. \n",
    "    print(arg1 + arg2)\n",
    "\n",
    "def run_sth2(func, *arg):\n",
    "    func(*args)\n",
    "    \n",
    "run_sth2(add_args,3,5)"
   ]
  },
  {
   "cell_type": "markdown",
   "id": "1204f156-f2eb-45c8-a67e-f1e9b1cf712d",
   "metadata": {},
   "source": [
    "### 2.중첩함수"
   ]
  },
  {
   "cell_type": "code",
   "execution_count": null,
   "id": "3181c265-1061-4b94-8844-d4a3e2bd02fe",
   "metadata": {},
   "outputs": [],
   "source": [
    "- 일급객체를 활용해서 함수내에서 또 다른 함수를 정의하는 것\n",
    "- 외부/내부함수 > 캡슐화 \n",
    "   - 메모리 절약\n",
    "    - outer을 지워도 inner가 돌아가게 할 수 있다.\n",
    "    - inner에 있는 c,d의 바운더리를 주는 역할을 한다. > 변수가 섞여서 불필요하게 충돌하는 것을 방지함.\n",
    "    -목적에 맞게 변수를 그룹화 할 수 있음, 관리 ,책임을 명확히 한다.\n",
    "    "
   ]
  },
  {
   "cell_type": "code",
   "execution_count": 2,
   "id": "003858a5-dba3-491f-9ef5-8f88015bb8e5",
   "metadata": {},
   "outputs": [
    {
     "data": {
      "text/plain": [
       "2"
      ]
     },
     "execution_count": 2,
     "metadata": {},
     "output_type": "execute_result"
    }
   ],
   "source": [
    "def outer(a,b): # 외부함수\n",
    "    def inner(c,d): # 내부함수\n",
    "        return c+d\n",
    "    return inner(a,b)\n",
    "outer(1,1)"
   ]
  },
  {
   "cell_type": "code",
   "execution_count": 3,
   "id": "c7a45479-2ff9-46ff-9b21-838553d67364",
   "metadata": {},
   "outputs": [
    {
     "ename": "NameError",
     "evalue": "name 'inner' is not defined",
     "output_type": "error",
     "traceback": [
      "\u001b[1;31m---------------------------------------------------------------------------\u001b[0m",
      "\u001b[1;31mNameError\u001b[0m                                 Traceback (most recent call last)",
      "\u001b[1;32m~\\AppData\\Local\\Temp/ipykernel_1212/4275376779.py\u001b[0m in \u001b[0;36m<module>\u001b[1;34m\u001b[0m\n\u001b[1;32m----> 1\u001b[1;33m \u001b[0minner\u001b[0m\u001b[1;33m(\u001b[0m\u001b[1;36m1\u001b[0m\u001b[1;33m,\u001b[0m\u001b[1;36m1\u001b[0m\u001b[1;33m)\u001b[0m\u001b[1;33m\u001b[0m\u001b[1;33m\u001b[0m\u001b[0m\n\u001b[0m",
      "\u001b[1;31mNameError\u001b[0m: name 'inner' is not defined"
     ]
    }
   ],
   "source": [
    "inner(1,1) #inner은 오류, 밖에 있는 것은 외부함수, 안에 잇는것은 내부 함수"
   ]
  },
  {
   "cell_type": "code",
   "execution_count": 9,
   "id": "e9400913-7076-493c-bd31-630541dc801f",
   "metadata": {},
   "outputs": [],
   "source": [
    "def knight(saying):\n",
    "    def inner():\n",
    "        return f'We are the knights who says: {saying}'\n",
    "    return inner\n",
    "\n",
    "a= knight('hi') # 함수를 할당 받을 수 있다. 일급객체으 ㅣ특징\n",
    "b= knight('안녕')"
   ]
  },
  {
   "cell_type": "code",
   "execution_count": 10,
   "id": "d8b3c66c-16d6-4e75-aedc-f08e51509ec8",
   "metadata": {},
   "outputs": [
    {
     "data": {
      "text/plain": [
       "'We are the knights who says: hi'"
      ]
     },
     "execution_count": 10,
     "metadata": {},
     "output_type": "execute_result"
    }
   ],
   "source": [
    "a()"
   ]
  },
  {
   "cell_type": "code",
   "execution_count": 11,
   "id": "92e2250f-c525-4adf-b4fb-6d1eeab2fab1",
   "metadata": {},
   "outputs": [
    {
     "data": {
      "text/plain": [
       "'We are the knights who says: 안녕'"
      ]
     },
     "execution_count": 11,
     "metadata": {},
     "output_type": "execute_result"
    }
   ],
   "source": [
    "b()"
   ]
  },
  {
   "cell_type": "code",
   "execution_count": null,
   "id": "1c049ea5-be54-4c5d-a596-195218e459ef",
   "metadata": {},
   "outputs": [],
   "source": [
    "- return 뒤에 괄호가 없는 것은 일급객체으 ㅣ특징, 함수가 반환 값이 될 수 있다. "
   ]
  },
  {
   "cell_type": "code",
   "execution_count": 12,
   "id": "4dd6863f-821f-43c9-9f29-6668926ed8b5",
   "metadata": {},
   "outputs": [],
   "source": [
    "# 이상한 점\n",
    "def inner():\n",
    "        return f'We are the knights who says: {saying}'\n",
    "    \n",
    "# saying을 안받았는데, 실행됨 \n",
    "# 일급 객체의 장점"
   ]
  },
  {
   "cell_type": "code",
   "execution_count": null,
   "id": "8de49467-0093-461b-b3d6-3ea6e70b4afb",
   "metadata": {},
   "outputs": [],
   "source": [
    "- 외부함수의 인자를 참조할 수 있다. \n",
    "- 수정/활용은 안됨 \n",
    "ex) list.append 불가\n",
    "> 클로저 "
   ]
  },
  {
   "cell_type": "markdown",
   "id": "5e7e4fec-2a71-492b-97e3-0d334248ffe1",
   "metadata": {},
   "source": [
    "### 3. 클로저 | clousre"
   ]
  },
  {
   "cell_type": "code",
   "execution_count": null,
   "id": "e5e0b1aa-e2eb-4481-be2c-8a9449f663b0",
   "metadata": {},
   "outputs": [],
   "source": [
    "- 조건\n",
    "    1. 중첩 함수 일것\n",
    "    2. 내부함수가 외부함수의 상대값을 참조할 것\n",
    "    3. 외부함수의 리턴값이 내부함수일 것\n",
    "    \n",
    "- 클로저 : 외부함수의 상대값을 기억하는 함수, (호출 시 사용가능 )"
   ]
  },
  {
   "cell_type": "code",
   "execution_count": 23,
   "id": "921efe17-6b02-4049-9712-fffed55b1d9b",
   "metadata": {},
   "outputs": [],
   "source": [
    "def multiply(x):\n",
    "    def inner(y): #1\n",
    "        return x*y #2\n",
    "    return inner #3"
   ]
  },
  {
   "cell_type": "code",
   "execution_count": 24,
   "id": "3d4f7474-cd55-4bd7-a3e9-fe55d943bf11",
   "metadata": {},
   "outputs": [],
   "source": [
    "m = multiply(5)\n",
    "n = multiply(6)"
   ]
  },
  {
   "cell_type": "code",
   "execution_count": 25,
   "id": "baca201b-f720-48cf-b7cd-6a4faf94ad00",
   "metadata": {},
   "outputs": [
    {
     "data": {
      "text/plain": [
       "(<function __main__.multiply.<locals>.inner(y)>,\n",
       " <function __main__.multiply.<locals>.inner(y)>)"
      ]
     },
     "execution_count": 25,
     "metadata": {},
     "output_type": "execute_result"
    }
   ],
   "source": [
    "m, n"
   ]
  },
  {
   "cell_type": "code",
   "execution_count": 26,
   "id": "1bc99c05-8611-4d90-99ab-26fc81923787",
   "metadata": {},
   "outputs": [
    {
     "data": {
      "text/plain": [
       "50"
      ]
     },
     "execution_count": 26,
     "metadata": {},
     "output_type": "execute_result"
    }
   ],
   "source": [
    "m(10)"
   ]
  },
  {
   "cell_type": "code",
   "execution_count": 27,
   "id": "c1be2c77-162c-49d0-b69c-f4c9926089bb",
   "metadata": {},
   "outputs": [
    {
     "data": {
      "text/plain": [
       "60"
      ]
     },
     "execution_count": 27,
     "metadata": {},
     "output_type": "execute_result"
    }
   ],
   "source": [
    "n(10)"
   ]
  },
  {
   "cell_type": "code",
   "execution_count": 30,
   "id": "2432b6c4-2103-43e8-9cb9-1e9162976cfe",
   "metadata": {},
   "outputs": [],
   "source": [
    "del(multiply) # 삭제"
   ]
  },
  {
   "cell_type": "code",
   "execution_count": 31,
   "id": "e97f5e66-f673-47f1-836a-3c97ec22cbc3",
   "metadata": {},
   "outputs": [
    {
     "ename": "NameError",
     "evalue": "name 'multiply' is not defined",
     "output_type": "error",
     "traceback": [
      "\u001b[1;31m---------------------------------------------------------------------------\u001b[0m",
      "\u001b[1;31mNameError\u001b[0m                                 Traceback (most recent call last)",
      "\u001b[1;32m~\\AppData\\Local\\Temp/ipykernel_1212/330517852.py\u001b[0m in \u001b[0;36m<module>\u001b[1;34m\u001b[0m\n\u001b[1;32m----> 1\u001b[1;33m \u001b[0mmultiply\u001b[0m\u001b[1;33m\u001b[0m\u001b[1;33m\u001b[0m\u001b[0m\n\u001b[0m",
      "\u001b[1;31mNameError\u001b[0m: name 'multiply' is not defined"
     ]
    }
   ],
   "source": [
    "multiply #없음"
   ]
  },
  {
   "cell_type": "code",
   "execution_count": 32,
   "id": "571ed48b-6fd4-4c06-8179-3bc4cde60be4",
   "metadata": {},
   "outputs": [
    {
     "data": {
      "text/plain": [
       "50"
      ]
     },
     "execution_count": 32,
     "metadata": {},
     "output_type": "execute_result"
    }
   ],
   "source": [
    "m(10) # 삭제 했어도 돌아간다. > 메모리 절약"
   ]
  },
  {
   "cell_type": "code",
   "execution_count": 33,
   "id": "add29b2f-746f-4856-9494-951c4863095a",
   "metadata": {},
   "outputs": [],
   "source": [
    "# 퀴즈\n",
    "def add(a,b):\n",
    "    return a+b\n",
    "\n",
    "# 리턴값 + 리턴값 (8*8)\n",
    "def square(func):\n",
    "    def inner(a,b):\n",
    "        result = func(a,b)\n",
    "        return result * result\n",
    "    return inner\n",
    "\n",
    "\n",
    "\n",
    " # fx = square(add) 로 선언해서\n",
    "# fx(4,5) 처럼 계속 활용해서 쓸수있게"
   ]
  },
  {
   "cell_type": "code",
   "execution_count": null,
   "id": "da1fb0c8-fa21-40f0-a878-cf1fdf9e40c8",
   "metadata": {},
   "outputs": [],
   "source": []
  },
  {
   "cell_type": "code",
   "execution_count": null,
   "id": "b8c90989-c192-40ba-a9be-19293dc3b91e",
   "metadata": {},
   "outputs": [],
   "source": [
    "x = square(add)\n",
    "x(4,5) \n",
    "를 넣었을 때 돌아갈 수 있도록"
   ]
  },
  {
   "cell_type": "code",
   "execution_count": null,
   "id": "5d74f6b1-3ad9-4276-9904-aac3540ed96d",
   "metadata": {},
   "outputs": [],
   "source": [
    "#### 데코레이터\n",
    "- 메인함수에 또 다른 함수를 취해 반환할 수 있게 함\n",
    "- 재사용성 높음\n",
    "- 가독성,직관성 좋다. "
   ]
  },
  {
   "cell_type": "code",
   "execution_count": 34,
   "id": "5aeaab38-6d19-4e37-9786-f482b13ba499",
   "metadata": {},
   "outputs": [
    {
     "data": {
      "text/plain": [
       "81"
      ]
     },
     "execution_count": 34,
     "metadata": {},
     "output_type": "execute_result"
    }
   ],
   "source": [
    "@square #스퀘어 함수를 탈 수 있다.\n",
    "def plus(a,b):\n",
    "    return a+b\n",
    "\n",
    "plus(4,5)"
   ]
  },
  {
   "cell_type": "code",
   "execution_count": null,
   "id": "e6fc88e8-2d6e-402b-ab8d-ab1eadb45bce",
   "metadata": {},
   "outputs": [],
   "source": [
    "#### sope| 범위\n",
    "- 전역 : global\n",
    "- 지역 : local"
   ]
  },
  {
   "cell_type": "code",
   "execution_count": null,
   "id": "33bfabd1-b604-48e6-bf6a-2a1bc4780781",
   "metadata": {},
   "outputs": [],
   "source": [
    "a= 1 # global\n",
    "def add(a,b):\n",
    "    x =2 # local\n",
    "    return a+b\n",
    "\n",
    "\n",
    "def square(func):\n",
    "    # local\n",
    "    def inner(a,b): # nonlocal\n",
    "        result = func(a,b)\n",
    "        return result * result\n",
    "    return inner"
   ]
  },
  {
   "cell_type": "code",
   "execution_count": 35,
   "id": "a29a7aeb-e221-4907-8a6f-f1c35e20bd51",
   "metadata": {},
   "outputs": [
    {
     "data": {
      "text/plain": [
       "999"
      ]
     },
     "execution_count": 35,
     "metadata": {},
     "output_type": "execute_result"
    }
   ],
   "source": [
    "a = 3 # global\n",
    "\n",
    "def outer(c): # c =9\n",
    "    b =5 # local\n",
    "    def inner():\n",
    "        # c=9\n",
    "        c = 999 # nonlocal\n",
    "        return c\n",
    "    return inner()\n",
    "\n",
    "\n",
    "outer(9)"
   ]
  },
  {
   "cell_type": "code",
   "execution_count": 36,
   "id": "5f57592b-9e4c-47c5-8b07-2c25f7277c18",
   "metadata": {},
   "outputs": [
    {
     "ename": "UnboundLocalError",
     "evalue": "local variable 'c' referenced before assignment",
     "output_type": "error",
     "traceback": [
      "\u001b[1;31m---------------------------------------------------------------------------\u001b[0m",
      "\u001b[1;31mUnboundLocalError\u001b[0m                         Traceback (most recent call last)",
      "\u001b[1;32m~\\AppData\\Local\\Temp/ipykernel_1212/945649376.py\u001b[0m in \u001b[0;36m<module>\u001b[1;34m\u001b[0m\n\u001b[0;32m     11\u001b[0m \u001b[1;33m\u001b[0m\u001b[0m\n\u001b[0;32m     12\u001b[0m \u001b[1;33m\u001b[0m\u001b[0m\n\u001b[1;32m---> 13\u001b[1;33m \u001b[0mouter\u001b[0m\u001b[1;33m(\u001b[0m\u001b[1;36m9\u001b[0m\u001b[1;33m)\u001b[0m\u001b[1;33m\u001b[0m\u001b[1;33m\u001b[0m\u001b[0m\n\u001b[0m",
      "\u001b[1;32m~\\AppData\\Local\\Temp/ipykernel_1212/945649376.py\u001b[0m in \u001b[0;36mouter\u001b[1;34m(c)\u001b[0m\n\u001b[0;32m      8\u001b[0m         \u001b[0mc\u001b[0m \u001b[1;33m+=\u001b[0m \u001b[1;36m1\u001b[0m\u001b[1;33m\u001b[0m\u001b[1;33m\u001b[0m\u001b[0m\n\u001b[0;32m      9\u001b[0m         \u001b[1;32mreturn\u001b[0m \u001b[0mc\u001b[0m\u001b[1;33m\u001b[0m\u001b[1;33m\u001b[0m\u001b[0m\n\u001b[1;32m---> 10\u001b[1;33m     \u001b[1;32mreturn\u001b[0m \u001b[0minner\u001b[0m\u001b[1;33m(\u001b[0m\u001b[1;33m)\u001b[0m\u001b[1;33m\u001b[0m\u001b[1;33m\u001b[0m\u001b[0m\n\u001b[0m\u001b[0;32m     11\u001b[0m \u001b[1;33m\u001b[0m\u001b[0m\n\u001b[0;32m     12\u001b[0m \u001b[1;33m\u001b[0m\u001b[0m\n",
      "\u001b[1;32m~\\AppData\\Local\\Temp/ipykernel_1212/945649376.py\u001b[0m in \u001b[0;36minner\u001b[1;34m()\u001b[0m\n\u001b[0;32m      6\u001b[0m         \u001b[1;31m# c=9\u001b[0m\u001b[1;33m\u001b[0m\u001b[1;33m\u001b[0m\u001b[0m\n\u001b[0;32m      7\u001b[0m         \u001b[1;31m#c = 999 # nonlocal\u001b[0m\u001b[1;33m\u001b[0m\u001b[1;33m\u001b[0m\u001b[0m\n\u001b[1;32m----> 8\u001b[1;33m         \u001b[0mc\u001b[0m \u001b[1;33m+=\u001b[0m \u001b[1;36m1\u001b[0m\u001b[1;33m\u001b[0m\u001b[1;33m\u001b[0m\u001b[0m\n\u001b[0m\u001b[0;32m      9\u001b[0m         \u001b[1;32mreturn\u001b[0m \u001b[0mc\u001b[0m\u001b[1;33m\u001b[0m\u001b[1;33m\u001b[0m\u001b[0m\n\u001b[0;32m     10\u001b[0m     \u001b[1;32mreturn\u001b[0m \u001b[0minner\u001b[0m\u001b[1;33m(\u001b[0m\u001b[1;33m)\u001b[0m\u001b[1;33m\u001b[0m\u001b[1;33m\u001b[0m\u001b[0m\n",
      "\u001b[1;31mUnboundLocalError\u001b[0m: local variable 'c' referenced before assignment"
     ]
    }
   ],
   "source": [
    "a = 3 # global\n",
    "\n",
    "def outer(c): # c =9\n",
    "    b =5 # local\n",
    "    def inner():\n",
    "        # c=9\n",
    "        #c = 999 # nonlocal\n",
    "        c += 1 # 에러 발생 \n",
    "        return c\n",
    "    return inner()\n",
    "\n",
    "\n",
    "outer(9)"
   ]
  },
  {
   "cell_type": "code",
   "execution_count": 37,
   "id": "8dbc7b02-e7c9-41e6-83ed-47d021929dd1",
   "metadata": {},
   "outputs": [
    {
     "data": {
      "text/plain": [
       "10"
      ]
     },
     "execution_count": 37,
     "metadata": {},
     "output_type": "execute_result"
    }
   ],
   "source": [
    "a = 3 # global\n",
    "\n",
    "def outer(c): # c =9\n",
    "    b =5 # local\n",
    "    def inner():\n",
    "        # c=9\n",
    "        #c = 999 # nonlocal\n",
    "        nonlocal c\n",
    "        c += 1 # 에러 발생 \n",
    "        return c\n",
    "    return inner()\n",
    "\n",
    "\n",
    "outer(9)"
   ]
  },
  {
   "cell_type": "code",
   "execution_count": null,
   "id": "cbe8bf16-8f6d-46a1-98b0-84dd2ec37952",
   "metadata": {},
   "outputs": [],
   "source": [
    "#실습\n",
    "fx1 : speed, limit 내 속도가 제한속도를 위반하는지 t/f로 \n",
    "fx2 : 클로저, 초과할 경우 얼마나 초과하는지 프린트하는 함수 \n",
    "실행은 데코레이터로 \n",
    "\n",
    "if 타지 않아도 됨.\n",
    "True, False  판단해서 "
   ]
  },
  {
   "cell_type": "code",
   "execution_count": null,
   "id": "c8de791d-b5de-486e-82ac-0acf87c91cda",
   "metadata": {},
   "outputs": [],
   "source": [
    "speed = int(input('속도:'))\n",
    "limit = 60\n",
    "\n",
    "def outer(speed):\n",
    "    if speed > limit:\n",
    "        def inner():\n",
    "            result = \n",
    "        return f\n",
    "    \n",
    "    else:\n",
    "        return t"
   ]
  },
  {
   "cell_type": "code",
   "execution_count": 39,
   "id": "14e71af9-063b-4121-bc35-e6267ed521b7",
   "metadata": {},
   "outputs": [
    {
     "ename": "SyntaxError",
     "evalue": "f-string: expecting '}' (Temp/ipykernel_1212/3117870946.py, line 4)",
     "output_type": "error",
     "traceback": [
      "\u001b[1;36m  File \u001b[1;32m\"C:\\Users\\USER\\AppData\\Local\\Temp/ipykernel_1212/3117870946.py\"\u001b[1;36m, line \u001b[1;32m4\u001b[0m\n\u001b[1;33m    return f'초과 : {speed = limit}km/h'\u001b[0m\n\u001b[1;37m                                      ^\u001b[0m\n\u001b[1;31mSyntaxError\u001b[0m\u001b[1;31m:\u001b[0m f-string: expecting '}'\n"
     ]
    }
   ],
   "source": [
    "def violate(func):\n",
    "    def inner(speed, limit):\n",
    "        if func(speed, limit): # True\n",
    "            return f'초과 : {speed = limit}km/h'\n",
    "        else:\n",
    "            return '정상 속도'\n",
    "    return inner\n",
    "\n",
    "\n",
    "@violate\n",
    "def is_speeding(speed, limit):\n",
    "    return speed > limit\n",
    "\n"
   ]
  },
  {
   "cell_type": "code",
   "execution_count": null,
   "id": "1c71dae8-cdab-4df7-8532-71096ac1ffd6",
   "metadata": {},
   "outputs": [],
   "source": [
    "#### 이경함수 | lanbda\n",
    "- 이름이 없다. 예약어가 없다."
   ]
  },
  {
   "cell_type": "code",
   "execution_count": null,
   "id": "b9102517-9fc4-458b-acd6-4e50a40d23de",
   "metadata": {},
   "outputs": [],
   "source": [
    "def is_speeding():\n",
    "    return\n",
    "\n",
    "- def, return\n",
    "- is_speeding\n",
    "-\n",
    "\n",
    "\n",
    "# 재사용을 하지 않고, 단순한 용도의함수가 필요할 경우 사용\n",
    "# 잦은 사용은 권핮 ㅣ않음\n",
    "- lanbda x : <x를 요리할 코드>"
   ]
  },
  {
   "cell_type": "code",
   "execution_count": 41,
   "id": "f638032c-bc9e-43a0-a6a9-d64a78f727ce",
   "metadata": {},
   "outputs": [
    {
     "data": {
      "text/plain": [
       "3"
      ]
     },
     "execution_count": 41,
     "metadata": {},
     "output_type": "execute_result"
    }
   ],
   "source": [
    "(lambda x : x + 1)(2)"
   ]
  },
  {
   "cell_type": "code",
   "execution_count": 42,
   "id": "69ac9348-00a8-47b1-b3a1-9725321d7a3c",
   "metadata": {},
   "outputs": [
    {
     "data": {
      "text/plain": [
       "8"
      ]
     },
     "execution_count": 42,
     "metadata": {},
     "output_type": "execute_result"
    }
   ],
   "source": [
    "f = lambda x, y : x+y\n",
    "f(3,5)"
   ]
  },
  {
   "cell_type": "code",
   "execution_count": null,
   "id": "d64b28e2-592e-4433-8bff-b936fdf1a7a1",
   "metadata": {},
   "outputs": [],
   "source": [
    "# 실습\n",
    "- 단어가 들어왔을 때 첫글자 대문자로 바꾸고, 단어 끝에 !을 붙이도록 람다를 만들자.\n",
    "ex) hello > Hello!"
   ]
  },
  {
   "cell_type": "code",
   "execution_count": null,
   "id": "eae511fd-3884-4399-a3e2-abb67b042245",
   "metadata": {},
   "outputs": [],
   "source": [
    "f = lanbda x: x.capitalize() + '!'"
   ]
  },
  {
   "cell_type": "code",
   "execution_count": null,
   "id": "ed49f16a-edbe-4119-80bd-70970575f745",
   "metadata": {},
   "outputs": [],
   "source": [
    "### 제너레이터\n",
    "- return  > yield\n",
    "- 시컨스를 순회할 때 , 시퀀스를 생성하는 객체\n",
    "- 한번사용되고 사라짐 > 메모리 효율 좋음\n",
    "- "
   ]
  },
  {
   "cell_type": "code",
   "execution_count": null,
   "id": "539a1b10-3160-4aa9-86e2-974139264900",
   "metadata": {},
   "outputs": [],
   "source": []
  },
  {
   "cell_type": "code",
   "execution_count": null,
   "id": "7bc52c27-d138-4011-80c2-ed331707251c",
   "metadata": {},
   "outputs": [],
   "source": [
    "def :\n",
    "    yield"
   ]
  },
  {
   "cell_type": "code",
   "execution_count": null,
   "id": "123a25d1-3bb0-4680-a8d8-e6cc9a82b73c",
   "metadata": {},
   "outputs": [],
   "source": [
    "a = [1,2,3]\n",
    "# 1 / 2 /3 하나씩 꺼내준다."
   ]
  },
  {
   "cell_type": "code",
   "execution_count": 43,
   "id": "6fa9c250-9251-4a94-843e-69ac8753f3e4",
   "metadata": {},
   "outputs": [
    {
     "data": {
      "text/plain": [
       "<generator object print_number at 0x0000026CDAD17190>"
      ]
     },
     "execution_count": 43,
     "metadata": {},
     "output_type": "execute_result"
    }
   ],
   "source": [
    "def print_number(num):\n",
    "    for i in range(num):\n",
    "        yield i\n",
    "        \n",
    "print_number(10)"
   ]
  },
  {
   "cell_type": "code",
   "execution_count": 44,
   "id": "6925f4f9-009e-442e-9867-f59d2e382bb2",
   "metadata": {},
   "outputs": [
    {
     "name": "stdout",
     "output_type": "stream",
     "text": [
      "0\n",
      "1\n",
      "2\n",
      "3\n",
      "4\n",
      "5\n",
      "6\n",
      "7\n",
      "8\n",
      "9\n"
     ]
    }
   ],
   "source": [
    "fx = print_number(10)\n",
    "\n",
    "for i in fx:\n",
    "    print(i)"
   ]
  },
  {
   "cell_type": "code",
   "execution_count": 45,
   "id": "82e0f9be-97fa-44b2-b6d8-ab8b236c5c4b",
   "metadata": {},
   "outputs": [],
   "source": [
    "for i in fx:\n",
    "    print(i)\n",
    "    # 다시쓸려고 하면 안됨. 이미 위에서 사용함"
   ]
  },
  {
   "cell_type": "code",
   "execution_count": null,
   "id": "02028636-5046-47df-8ad4-d9abe96203b1",
   "metadata": {},
   "outputs": [],
   "source": [
    "### 실습\n",
    "\n",
    "range() 구현하기\n",
    "- 제너레이터 사용\n",
    "- def my_rage(start, end, step):\n",
    "    tield\n",
    "    \n",
    "    \n",
    "ragner = my_range(a,b,c)"
   ]
  },
  {
   "cell_type": "code",
   "execution_count": 46,
   "id": "d0942140-a275-48e9-a467-d7116d6526c7",
   "metadata": {},
   "outputs": [
    {
     "ename": "TypeError",
     "evalue": "my_range() missing 1 required positional argument: 'end'",
     "output_type": "error",
     "traceback": [
      "\u001b[1;31m---------------------------------------------------------------------------\u001b[0m",
      "\u001b[1;31mTypeError\u001b[0m                                 Traceback (most recent call last)",
      "\u001b[1;32m~\\AppData\\Local\\Temp/ipykernel_1212/451797872.py\u001b[0m in \u001b[0;36m<module>\u001b[1;34m\u001b[0m\n\u001b[0;32m      5\u001b[0m         \u001b[0mi\u001b[0m \u001b[1;33m+=\u001b[0m \u001b[0mstep\u001b[0m\u001b[1;33m\u001b[0m\u001b[1;33m\u001b[0m\u001b[0m\n\u001b[0;32m      6\u001b[0m \u001b[1;33m\u001b[0m\u001b[0m\n\u001b[1;32m----> 7\u001b[1;33m \u001b[0mreanger\u001b[0m \u001b[1;33m=\u001b[0m \u001b[0mmy_range\u001b[0m\u001b[1;33m(\u001b[0m\u001b[1;36m11\u001b[0m\u001b[1;33m)\u001b[0m\u001b[1;33m\u001b[0m\u001b[1;33m\u001b[0m\u001b[0m\n\u001b[0m\u001b[0;32m      8\u001b[0m \u001b[1;32mfor\u001b[0m \u001b[0mi\u001b[0m \u001b[1;32min\u001b[0m \u001b[0mranger\u001b[0m\u001b[1;33m:\u001b[0m\u001b[1;33m\u001b[0m\u001b[1;33m\u001b[0m\u001b[0m\n\u001b[0;32m      9\u001b[0m     \u001b[0mprint\u001b[0m\u001b[1;33m(\u001b[0m\u001b[0mi\u001b[0m\u001b[1;33m)\u001b[0m\u001b[1;33m\u001b[0m\u001b[1;33m\u001b[0m\u001b[0m\n",
      "\u001b[1;31mTypeError\u001b[0m: my_range() missing 1 required positional argument: 'end'"
     ]
    }
   ],
   "source": [
    "def my_range(start, end, step=1):\n",
    "    i =start\n",
    "    while i < end:\n",
    "        yield i\n",
    "        i += step\n",
    "        \n",
    "reanger = my_range(11)\n",
    "for i in ranger:\n",
    "    print(i)"
   ]
  },
  {
   "cell_type": "code",
   "execution_count": 47,
   "id": "2e6821ad-4e44-413c-bc1c-268db949ed7a",
   "metadata": {},
   "outputs": [
    {
     "data": {
      "text/plain": [
       "[0, 1, 2, 3, 4]"
      ]
     },
     "execution_count": 47,
     "metadata": {},
     "output_type": "execute_result"
    }
   ],
   "source": [
    "[i for i in range(5)]"
   ]
  },
  {
   "cell_type": "code",
   "execution_count": 49,
   "id": "e3870102-ca93-4213-a40e-1018f486e71e",
   "metadata": {},
   "outputs": [],
   "source": [
    "ranger = (i for i in range(5))"
   ]
  },
  {
   "cell_type": "code",
   "execution_count": 50,
   "id": "371c1344-a36d-4340-aecb-091a0ee170bb",
   "metadata": {},
   "outputs": [
    {
     "name": "stdout",
     "output_type": "stream",
     "text": [
      "0\n",
      "1\n",
      "2\n",
      "3\n",
      "4\n"
     ]
    }
   ],
   "source": [
    "for i in ranger:\n",
    "    print(i)"
   ]
  },
  {
   "cell_type": "code",
   "execution_count": null,
   "id": "43fc77ed-377b-4237-8904-58e4a51c22cf",
   "metadata": {},
   "outputs": [],
   "source": [
    "#### 재귀함수\n",
    "- 너무 깊으면 예외 발생 > 주의\n",
    "- 자기 자신을 호출하는 함수\n",
    "- [[1,2,3],[[[1,1]],4,5]] > [1,2,3,4,5]로 만들고 싶을때"
   ]
  },
  {
   "cell_type": "code",
   "execution_count": 53,
   "id": "11149269-d873-448a-a053-6035af514555",
   "metadata": {},
   "outputs": [],
   "source": [
    "def flatten(sent):\n",
    "    for word in sent:\n",
    "        if isinstance(word, list):\n",
    "            # true\n",
    "            for sub_word in flatten(word):\n",
    "                yield sub_word\n",
    "            \n",
    "                \n",
    "        else:\n",
    "            #false\n",
    "            yield word\n",
    "        "
   ]
  },
  {
   "cell_type": "code",
   "execution_count": 52,
   "id": "6d3957c4-1b8b-4ab8-bade-3f3d25ef668d",
   "metadata": {},
   "outputs": [
    {
     "ename": "NameError",
     "evalue": "name 'isinstanance' is not defined",
     "output_type": "error",
     "traceback": [
      "\u001b[1;31m---------------------------------------------------------------------------\u001b[0m",
      "\u001b[1;31mNameError\u001b[0m                                 Traceback (most recent call last)",
      "\u001b[1;32m~\\AppData\\Local\\Temp/ipykernel_1212/3614958656.py\u001b[0m in \u001b[0;36m<module>\u001b[1;34m\u001b[0m\n\u001b[1;32m----> 1\u001b[1;33m \u001b[0misinstanance\u001b[0m\u001b[1;33m(\u001b[0m\u001b[1;34m'h'\u001b[0m\u001b[1;33m,\u001b[0m\u001b[0mint\u001b[0m\u001b[1;33m)\u001b[0m\u001b[1;33m\u001b[0m\u001b[1;33m\u001b[0m\u001b[0m\n\u001b[0m",
      "\u001b[1;31mNameError\u001b[0m: name 'isinstanance' is not defined"
     ]
    }
   ],
   "source": [
    "isinstance('h',int)"
   ]
  },
  {
   "cell_type": "code",
   "execution_count": 54,
   "id": "6e479862-59aa-4a35-b695-a5766ea0e2ba",
   "metadata": {},
   "outputs": [
    {
     "data": {
      "text/plain": [
       "<generator object flatten at 0x0000026CDAD17E40>"
      ]
     },
     "execution_count": 54,
     "metadata": {},
     "output_type": "execute_result"
    }
   ],
   "source": [
    "a = [[1,2,3],[[[1,1]],4,5]]\n",
    "flatten(a)"
   ]
  },
  {
   "cell_type": "markdown",
   "id": "ac41a09f-9b09-414a-a2a6-4f55381a27e4",
   "metadata": {},
   "source": [
    "## 예외 처리 | exception handing "
   ]
  },
  {
   "cell_type": "code",
   "execution_count": null,
   "id": "078c3223-1be1-4d63-8181-0b22d85628d0",
   "metadata": {},
   "outputs": [],
   "source": [
    "- 목적 : 프로그램 정상 종료\n",
    "- 예외 발생 시, 사용자에게 알리고 조치 취함\n",
    "- 예측할려고 하는것 good \n",
    "- 소프트랜딩"
   ]
  },
  {
   "cell_type": "code",
   "execution_count": 56,
   "id": "f522daa8-f7f4-463f-9050-2273aa26fe75",
   "metadata": {},
   "outputs": [
    {
     "ename": "ZeroDivisionError",
     "evalue": "division by zero",
     "output_type": "error",
     "traceback": [
      "\u001b[1;31m---------------------------------------------------------------------------\u001b[0m",
      "\u001b[1;31mZeroDivisionError\u001b[0m                         Traceback (most recent call last)",
      "\u001b[1;32m~\\AppData\\Local\\Temp/ipykernel_1212/1725448531.py\u001b[0m in \u001b[0;36m<module>\u001b[1;34m\u001b[0m\n\u001b[1;32m----> 1\u001b[1;33m \u001b[1;36m10\u001b[0m \u001b[1;33m/\u001b[0m \u001b[1;36m0\u001b[0m\u001b[1;33m\u001b[0m\u001b[1;33m\u001b[0m\u001b[0m\n\u001b[0m",
      "\u001b[1;31mZeroDivisionError\u001b[0m: division by zero"
     ]
    }
   ],
   "source": [
    "10 / 0 #0으로 못나눔"
   ]
  },
  {
   "cell_type": "code",
   "execution_count": 57,
   "id": "559204c0-7dfb-4f41-b1b3-17a4ee132feb",
   "metadata": {},
   "outputs": [
    {
     "ename": "ValueError",
     "evalue": "invalid literal for int() with base 10: 'sss'",
     "output_type": "error",
     "traceback": [
      "\u001b[1;31m---------------------------------------------------------------------------\u001b[0m",
      "\u001b[1;31mValueError\u001b[0m                                Traceback (most recent call last)",
      "\u001b[1;32m~\\AppData\\Local\\Temp/ipykernel_1212/785759494.py\u001b[0m in \u001b[0;36m<module>\u001b[1;34m\u001b[0m\n\u001b[1;32m----> 1\u001b[1;33m \u001b[0mint\u001b[0m\u001b[1;33m(\u001b[0m\u001b[1;34m'sss'\u001b[0m\u001b[1;33m)\u001b[0m\u001b[1;33m\u001b[0m\u001b[1;33m\u001b[0m\u001b[0m\n\u001b[0m",
      "\u001b[1;31mValueError\u001b[0m: invalid literal for int() with base 10: 'sss'"
     ]
    }
   ],
   "source": [
    "int('sss')"
   ]
  },
  {
   "cell_type": "code",
   "execution_count": 59,
   "id": "5234ea6d-f4bd-42ae-8592-eac803407401",
   "metadata": {},
   "outputs": [
    {
     "ename": "NameError",
     "evalue": "name 'hello' is not defined",
     "output_type": "error",
     "traceback": [
      "\u001b[1;31m---------------------------------------------------------------------------\u001b[0m",
      "\u001b[1;31mNameError\u001b[0m                                 Traceback (most recent call last)",
      "\u001b[1;32m~\\AppData\\Local\\Temp/ipykernel_1212/4287803908.py\u001b[0m in \u001b[0;36m<module>\u001b[1;34m\u001b[0m\n\u001b[1;32m----> 1\u001b[1;33m \u001b[0mhello\u001b[0m \u001b[1;33m+=\u001b[0m\u001b[1;36m1\u001b[0m\u001b[1;33m\u001b[0m\u001b[1;33m\u001b[0m\u001b[0m\n\u001b[0m",
      "\u001b[1;31mNameError\u001b[0m: name 'hello' is not defined"
     ]
    }
   ],
   "source": [
    "hello +=1 #선언하지 않은 변수"
   ]
  },
  {
   "cell_type": "code",
   "execution_count": 60,
   "id": "e8a9b7ab-c95f-4f8c-87f2-43aad2ec6e50",
   "metadata": {},
   "outputs": [
    {
     "ename": "IndexError",
     "evalue": "string index out of range",
     "output_type": "error",
     "traceback": [
      "\u001b[1;31m---------------------------------------------------------------------------\u001b[0m",
      "\u001b[1;31mIndexError\u001b[0m                                Traceback (most recent call last)",
      "\u001b[1;32m~\\AppData\\Local\\Temp/ipykernel_1212/2465795054.py\u001b[0m in \u001b[0;36m<module>\u001b[1;34m\u001b[0m\n\u001b[1;32m----> 1\u001b[1;33m \u001b[1;34m'ssss'\u001b[0m\u001b[1;33m[\u001b[0m\u001b[1;36m10\u001b[0m\u001b[1;33m]\u001b[0m\u001b[1;33m\u001b[0m\u001b[1;33m\u001b[0m\u001b[0m\n\u001b[0m",
      "\u001b[1;31mIndexError\u001b[0m: string index out of range"
     ]
    }
   ],
   "source": [
    "'ssss'[10]"
   ]
  },
  {
   "cell_type": "code",
   "execution_count": null,
   "id": "fd3951c8-9876-4688-bf0f-5e4bdb268409",
   "metadata": {},
   "outputs": [],
   "source": [
    "try:\n",
    "    <에러 발생될 법한 코드 출력>\n",
    "except<에러타입>:\n",
    "    <처리할 방법>"
   ]
  },
  {
   "cell_type": "code",
   "execution_count": 61,
   "id": "9522feea-cdc4-4b93-b552-53abc2f5114e",
   "metadata": {},
   "outputs": [
    {
     "name": "stdout",
     "output_type": "stream",
     "text": [
      "0으로 나눌 수 없음\n"
     ]
    }
   ],
   "source": [
    "try:\n",
    "    10 / 0\n",
    "except ZeroDivisionError:\n",
    "    print('0으로 나눌 수 없음')"
   ]
  },
  {
   "cell_type": "code",
   "execution_count": null,
   "id": "389a219c-c87a-4a5e-9b7e-c2b5914323fd",
   "metadata": {},
   "outputs": [],
   "source": [
    "#에러를 잡는 위치가 중요하다. \n",
    "#전체코드를 트라이로 잡고 시작하는것 불가능 \n",
    "# 각각의 에러를 잡는것이 중요\n",
    "\n",
    "try:\n",
    "    for i in range(10):\n",
    "        "
   ]
  },
  {
   "cell_type": "code",
   "execution_count": 62,
   "id": "0b613b58-6810-4d7d-8561-86607dd5b561",
   "metadata": {},
   "outputs": [
    {
     "name": "stdin",
     "output_type": "stream",
     "text": [
      "인덱스를 입력하세요 :  4\n"
     ]
    },
    {
     "name": "stdout",
     "output_type": "stream",
     "text": [
      "o\n"
     ]
    },
    {
     "name": "stdin",
     "output_type": "stream",
     "text": [
      "인덱스를 입력하세요 :  dflaf\n"
     ]
    },
    {
     "name": "stdout",
     "output_type": "stream",
     "text": [
      "type error\n"
     ]
    },
    {
     "name": "stdin",
     "output_type": "stream",
     "text": [
      "인덱스를 입력하세요 :  q\n"
     ]
    }
   ],
   "source": [
    "word = 'hello'\n",
    "while True:\n",
    "    index = input('인덱스를 입력하세요 : ')\n",
    "    if index == 'q':\n",
    "        break\n",
    "    try:\n",
    "        print(word[int(index)])\n",
    "    except IndexError:\n",
    "        print('인덱스 오류')\n",
    "    except ValueError:\n",
    "        print('type error')"
   ]
  },
  {
   "cell_type": "code",
   "execution_count": 63,
   "id": "4aa4872b-f8b0-4793-8830-8125c96826ec",
   "metadata": {},
   "outputs": [
    {
     "name": "stdin",
     "output_type": "stream",
     "text": [
      "인덱스를 입력하세요 :  q\n"
     ]
    }
   ],
   "source": [
    "word = 'hello'\n",
    "while True:\n",
    "    index = input('인덱스를 입력하세요 : ')\n",
    "    if index == 'q':\n",
    "        break\n",
    "    try:\n",
    "        print(word[int(index)])\n",
    "    except IndexError as e1:\n",
    "        print('인덱스 오류')\n",
    "        print(e1)\n",
    "    except ValueError as e2:\n",
    "        print('type error')\n",
    "        print(e2)"
   ]
  },
  {
   "cell_type": "code",
   "execution_count": null,
   "id": "a7116fc4-0b3d-4e72-a1db-b20ae41c0ea0",
   "metadata": {},
   "outputs": [],
   "source": [
    "####2. 예외 발생시키기\n",
    "프로그램을 강제 종료하고자 할 때 사용함\n",
    "- raise\n",
    "- assert"
   ]
  },
  {
   "cell_type": "code",
   "execution_count": 64,
   "id": "8e2bf6bd-ea6b-4570-9681-b4d50b1a4070",
   "metadata": {},
   "outputs": [
    {
     "ename": "ValueError",
     "evalue": "print...",
     "output_type": "error",
     "traceback": [
      "\u001b[1;31m---------------------------------------------------------------------------\u001b[0m",
      "\u001b[1;31mValueError\u001b[0m                                Traceback (most recent call last)",
      "\u001b[1;32m~\\AppData\\Local\\Temp/ipykernel_1212/2631523024.py\u001b[0m in \u001b[0;36m<module>\u001b[1;34m\u001b[0m\n\u001b[1;32m----> 1\u001b[1;33m \u001b[1;32mraise\u001b[0m \u001b[0mValueError\u001b[0m\u001b[1;33m(\u001b[0m\u001b[1;34m'print...'\u001b[0m\u001b[1;33m)\u001b[0m\u001b[1;33m\u001b[0m\u001b[1;33m\u001b[0m\u001b[0m\n\u001b[0m",
      "\u001b[1;31mValueError\u001b[0m: print..."
     ]
    }
   ],
   "source": [
    "raise ValueError('print...')"
   ]
  },
  {
   "cell_type": "code",
   "execution_count": 65,
   "id": "1b5ed56c-5a5d-4de1-970a-99f19d4dd42b",
   "metadata": {},
   "outputs": [
    {
     "name": "stdin",
     "output_type": "stream",
     "text": [
      "number >> d\n"
     ]
    },
    {
     "ename": "ValueError",
     "evalue": "숫자가 아닙니다.",
     "output_type": "error",
     "traceback": [
      "\u001b[1;31m---------------------------------------------------------------------------\u001b[0m",
      "\u001b[1;31mValueError\u001b[0m                                Traceback (most recent call last)",
      "\u001b[1;32m~\\AppData\\Local\\Temp/ipykernel_1212/693857083.py\u001b[0m in \u001b[0;36m<module>\u001b[1;34m\u001b[0m\n\u001b[0;32m      2\u001b[0m     \u001b[0mnum\u001b[0m \u001b[1;33m=\u001b[0m \u001b[0minput\u001b[0m\u001b[1;33m(\u001b[0m\u001b[1;34m'number >>'\u001b[0m\u001b[1;33m)\u001b[0m\u001b[1;33m\u001b[0m\u001b[1;33m\u001b[0m\u001b[0m\n\u001b[0;32m      3\u001b[0m     \u001b[1;32mif\u001b[0m \u001b[1;32mnot\u001b[0m \u001b[0mnum\u001b[0m\u001b[1;33m.\u001b[0m\u001b[0misdigit\u001b[0m\u001b[1;33m(\u001b[0m\u001b[1;33m)\u001b[0m\u001b[1;33m:\u001b[0m\u001b[1;33m\u001b[0m\u001b[1;33m\u001b[0m\u001b[0m\n\u001b[1;32m----> 4\u001b[1;33m         \u001b[1;32mraise\u001b[0m \u001b[0mValueError\u001b[0m\u001b[1;33m(\u001b[0m\u001b[1;34m'숫자가 아닙니다.'\u001b[0m\u001b[1;33m)\u001b[0m\u001b[1;33m\u001b[0m\u001b[1;33m\u001b[0m\u001b[0m\n\u001b[0m\u001b[0;32m      5\u001b[0m     \u001b[1;32melse\u001b[0m\u001b[1;33m:\u001b[0m\u001b[1;33m\u001b[0m\u001b[1;33m\u001b[0m\u001b[0m\n\u001b[0;32m      6\u001b[0m         \u001b[0mprint\u001b[0m\u001b[1;33m(\u001b[0m\u001b[0mnum\u001b[0m\u001b[1;33m)\u001b[0m\u001b[1;33m\u001b[0m\u001b[1;33m\u001b[0m\u001b[0m\n",
      "\u001b[1;31mValueError\u001b[0m: 숫자가 아닙니다."
     ]
    }
   ],
   "source": [
    "while True:\n",
    "    num = input('number >>')\n",
    "    if not num.isdigit():\n",
    "        raise ValueError('숫자가 아닙니다.')\n",
    "    else:\n",
    "        print(num)\n",
    "        break"
   ]
  },
  {
   "cell_type": "code",
   "execution_count": null,
   "id": "80581640-666b-4347-a31c-f77615f289c3",
   "metadata": {},
   "outputs": [],
   "source": [
    "assert <참인조건, '예외 메세지'> #AssertionError"
   ]
  },
  {
   "cell_type": "code",
   "execution_count": 66,
   "id": "8b8ec38f-8b49-4693-b3bd-6c3f4fbe62f0",
   "metadata": {},
   "outputs": [
    {
     "ename": "AssertionError",
     "evalue": "정수아님",
     "output_type": "error",
     "traceback": [
      "\u001b[1;31m---------------------------------------------------------------------------\u001b[0m",
      "\u001b[1;31mAssertionError\u001b[0m                            Traceback (most recent call last)",
      "\u001b[1;32m~\\AppData\\Local\\Temp/ipykernel_1212/3358163292.py\u001b[0m in \u001b[0;36m<module>\u001b[1;34m\u001b[0m\n\u001b[0;32m      3\u001b[0m     \u001b[1;32mreturn\u001b[0m \u001b[0mbin\u001b[0m\u001b[1;33m(\u001b[0m\u001b[0mnum\u001b[0m\u001b[1;33m)\u001b[0m\u001b[1;33m\u001b[0m\u001b[1;33m\u001b[0m\u001b[0m\n\u001b[0;32m      4\u001b[0m \u001b[1;33m\u001b[0m\u001b[0m\n\u001b[1;32m----> 5\u001b[1;33m \u001b[0mget_binary\u001b[0m\u001b[1;33m(\u001b[0m\u001b[1;34m'ee'\u001b[0m\u001b[1;33m)\u001b[0m\u001b[1;33m\u001b[0m\u001b[1;33m\u001b[0m\u001b[0m\n\u001b[0m",
      "\u001b[1;32m~\\AppData\\Local\\Temp/ipykernel_1212/3358163292.py\u001b[0m in \u001b[0;36mget_binary\u001b[1;34m(num)\u001b[0m\n\u001b[0;32m      1\u001b[0m \u001b[1;32mdef\u001b[0m \u001b[0mget_binary\u001b[0m\u001b[1;33m(\u001b[0m\u001b[0mnum\u001b[0m\u001b[1;33m)\u001b[0m\u001b[1;33m:\u001b[0m\u001b[1;33m\u001b[0m\u001b[1;33m\u001b[0m\u001b[0m\n\u001b[1;32m----> 2\u001b[1;33m     \u001b[1;32massert\u001b[0m \u001b[0misinstance\u001b[0m\u001b[1;33m(\u001b[0m\u001b[0mnum\u001b[0m\u001b[1;33m,\u001b[0m \u001b[0mint\u001b[0m\u001b[1;33m)\u001b[0m\u001b[1;33m,\u001b[0m \u001b[1;34m'정수아님'\u001b[0m\u001b[1;33m\u001b[0m\u001b[1;33m\u001b[0m\u001b[0m\n\u001b[0m\u001b[0;32m      3\u001b[0m     \u001b[1;32mreturn\u001b[0m \u001b[0mbin\u001b[0m\u001b[1;33m(\u001b[0m\u001b[0mnum\u001b[0m\u001b[1;33m)\u001b[0m\u001b[1;33m\u001b[0m\u001b[1;33m\u001b[0m\u001b[0m\n\u001b[0;32m      4\u001b[0m \u001b[1;33m\u001b[0m\u001b[0m\n\u001b[0;32m      5\u001b[0m \u001b[0mget_binary\u001b[0m\u001b[1;33m(\u001b[0m\u001b[1;34m'ee'\u001b[0m\u001b[1;33m)\u001b[0m\u001b[1;33m\u001b[0m\u001b[1;33m\u001b[0m\u001b[0m\n",
      "\u001b[1;31mAssertionError\u001b[0m: 정수아님"
     ]
    }
   ],
   "source": [
    "def get_binary(num):\n",
    "    assert isinstance(num, int), '정수아님' #체크 기능 \n",
    "    return bin(num)\n",
    "\n",
    "get_binary('ee')"
   ]
  },
  {
   "cell_type": "code",
   "execution_count": null,
   "id": "4c7b15cc-1be9-42cc-bfd9-cc8874f56bd5",
   "metadata": {},
   "outputs": [],
   "source": [
    "#### 예외 정의하기\n",
    "- 사용자 정의 예외\n",
    "- Exception 이라는 부모클래스를 상속받는다. "
   ]
  },
  {
   "cell_type": "code",
   "execution_count": 69,
   "id": "62a99cbe-5b21-48e6-bb60-43e9766d79f3",
   "metadata": {},
   "outputs": [],
   "source": [
    "class MyException(Exception):\n",
    "    pass"
   ]
  },
  {
   "cell_type": "code",
   "execution_count": 71,
   "id": "73f7a717-2d55-4c41-aa05-3b66872fa897",
   "metadata": {},
   "outputs": [
    {
     "name": "stdout",
     "output_type": "stream",
     "text": [
      "a\n",
      "b\n"
     ]
    },
    {
     "ename": "MyException",
     "evalue": "대문자 안됨!",
     "output_type": "error",
     "traceback": [
      "\u001b[1;31m---------------------------------------------------------------------------\u001b[0m",
      "\u001b[1;31mMyException\u001b[0m                               Traceback (most recent call last)",
      "\u001b[1;32m~\\AppData\\Local\\Temp/ipykernel_1212/1253668986.py\u001b[0m in \u001b[0;36m<module>\u001b[1;34m\u001b[0m\n\u001b[0;32m      1\u001b[0m \u001b[1;32mfor\u001b[0m \u001b[0mword\u001b[0m \u001b[1;32min\u001b[0m \u001b[1;33m[\u001b[0m\u001b[1;34m'a'\u001b[0m\u001b[1;33m,\u001b[0m\u001b[1;34m'b'\u001b[0m\u001b[1;33m,\u001b[0m\u001b[1;34m'C'\u001b[0m\u001b[1;33m]\u001b[0m\u001b[1;33m:\u001b[0m\u001b[1;33m\u001b[0m\u001b[1;33m\u001b[0m\u001b[0m\n\u001b[0;32m      2\u001b[0m     \u001b[1;32mif\u001b[0m \u001b[0mword\u001b[0m\u001b[1;33m.\u001b[0m\u001b[0misupper\u001b[0m\u001b[1;33m(\u001b[0m\u001b[1;33m)\u001b[0m\u001b[1;33m:\u001b[0m\u001b[1;33m\u001b[0m\u001b[1;33m\u001b[0m\u001b[0m\n\u001b[1;32m----> 3\u001b[1;33m         \u001b[1;32mraise\u001b[0m \u001b[0mMyException\u001b[0m\u001b[1;33m(\u001b[0m\u001b[1;34m'대문자 안됨!'\u001b[0m\u001b[1;33m)\u001b[0m\u001b[1;33m\u001b[0m\u001b[1;33m\u001b[0m\u001b[0m\n\u001b[0m\u001b[0;32m      4\u001b[0m     \u001b[1;32melse\u001b[0m\u001b[1;33m:\u001b[0m\u001b[1;33m\u001b[0m\u001b[1;33m\u001b[0m\u001b[0m\n\u001b[0;32m      5\u001b[0m         \u001b[0mprint\u001b[0m\u001b[1;33m(\u001b[0m\u001b[0mword\u001b[0m\u001b[1;33m)\u001b[0m\u001b[1;33m\u001b[0m\u001b[1;33m\u001b[0m\u001b[0m\n",
      "\u001b[1;31mMyException\u001b[0m: 대문자 안됨!"
     ]
    }
   ],
   "source": [
    "for word in ['a','b','C']:\n",
    "    if word.isupper():\n",
    "        raise MyException('대문자 안됨!')\n",
    "    else:\n",
    "        print(word)"
   ]
  },
  {
   "cell_type": "code",
   "execution_count": 72,
   "id": "6af4dbf1-900f-4eb4-912a-0944971ec2a8",
   "metadata": {},
   "outputs": [
    {
     "name": "stdout",
     "output_type": "stream",
     "text": [
      "a\n",
      "b\n"
     ]
    },
    {
     "ename": "UppercaseException",
     "evalue": "대문자 안된다구",
     "output_type": "error",
     "traceback": [
      "\u001b[1;31m---------------------------------------------------------------------------\u001b[0m",
      "\u001b[1;31mUppercaseException\u001b[0m                        Traceback (most recent call last)",
      "\u001b[1;32m~\\AppData\\Local\\Temp/ipykernel_1212/1791549588.py\u001b[0m in \u001b[0;36m<module>\u001b[1;34m\u001b[0m\n\u001b[0;32m      5\u001b[0m \u001b[1;32mfor\u001b[0m \u001b[0mword\u001b[0m \u001b[1;32min\u001b[0m \u001b[1;33m[\u001b[0m\u001b[1;34m'a'\u001b[0m\u001b[1;33m,\u001b[0m\u001b[1;34m'b'\u001b[0m\u001b[1;33m,\u001b[0m\u001b[1;34m'C'\u001b[0m\u001b[1;33m]\u001b[0m\u001b[1;33m:\u001b[0m\u001b[1;33m\u001b[0m\u001b[1;33m\u001b[0m\u001b[0m\n\u001b[0;32m      6\u001b[0m     \u001b[1;32mif\u001b[0m \u001b[0mword\u001b[0m\u001b[1;33m.\u001b[0m\u001b[0misupper\u001b[0m\u001b[1;33m(\u001b[0m\u001b[1;33m)\u001b[0m\u001b[1;33m:\u001b[0m\u001b[1;33m\u001b[0m\u001b[1;33m\u001b[0m\u001b[0m\n\u001b[1;32m----> 7\u001b[1;33m         \u001b[1;32mraise\u001b[0m \u001b[0mUppercaseException\u001b[0m\u001b[1;33m\u001b[0m\u001b[1;33m\u001b[0m\u001b[0m\n\u001b[0m\u001b[0;32m      8\u001b[0m     \u001b[1;32melse\u001b[0m\u001b[1;33m:\u001b[0m\u001b[1;33m\u001b[0m\u001b[1;33m\u001b[0m\u001b[0m\n\u001b[0;32m      9\u001b[0m         \u001b[0mprint\u001b[0m\u001b[1;33m(\u001b[0m\u001b[0mword\u001b[0m\u001b[1;33m)\u001b[0m\u001b[1;33m\u001b[0m\u001b[1;33m\u001b[0m\u001b[0m\n",
      "\u001b[1;31mUppercaseException\u001b[0m: 대문자 안된다구"
     ]
    }
   ],
   "source": [
    "class UppercaseException(Exception):\n",
    "    def __init__(self):\n",
    "        super().__init__('대문자 안된다구')\n",
    "        \n",
    "for word in ['a','b','C']:\n",
    "    if word.isupper():\n",
    "        raise UppercaseException\n",
    "    else:\n",
    "        print(word)"
   ]
  },
  {
   "cell_type": "code",
   "execution_count": null,
   "id": "1ebda172-b5e0-4696-ba0d-3f7766c4bcc5",
   "metadata": {},
   "outputs": [],
   "source": []
  }
 ],
 "metadata": {
  "kernelspec": {
   "display_name": "Python 3 (ipykernel)",
   "language": "python",
   "name": "python3"
  },
  "language_info": {
   "codemirror_mode": {
    "name": "ipython",
    "version": 3
   },
   "file_extension": ".py",
   "mimetype": "text/x-python",
   "name": "python",
   "nbconvert_exporter": "python",
   "pygments_lexer": "ipython3",
   "version": "3.9.7"
  }
 },
 "nbformat": 4,
 "nbformat_minor": 5
}
