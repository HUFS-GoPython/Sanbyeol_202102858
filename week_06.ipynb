{
 "cells": [
  {
   "cell_type": "markdown",
   "id": "faa3cd87-982b-455b-ab06-04df9cfaf51c",
   "metadata": {},
   "source": [
    "### NlTk lnaugrural"
   ]
  },
  {
   "cell_type": "code",
   "execution_count": 5,
   "id": "eb014b86-3750-4610-ba94-22d1d88a2bdc",
   "metadata": {},
   "outputs": [
    {
     "ename": "SyntaxError",
     "evalue": "invalid syntax (Temp/ipykernel_11916/2170098014.py, line 2)",
     "output_type": "error",
     "traceback": [
      "\u001b[1;36m  File \u001b[1;32m\"C:\\Users\\USER\\AppData\\Local\\Temp/ipykernel_11916/2170098014.py\"\u001b[1;36m, line \u001b[1;32m2\u001b[0m\n\u001b[1;33m    from nltk.download()\u001b[0m\n\u001b[1;37m                      ^\u001b[0m\n\u001b[1;31mSyntaxError\u001b[0m\u001b[1;31m:\u001b[0m invalid syntax\n"
     ]
    }
   ],
   "source": [
    "import nltk\n",
    "from nltk.download()\n",
    "#메뉴가 뜬다. 구구단에 활용하면 좋을거같다. \n",
    "\n",
    "# 질문 왜 실행이 안돼지 ㅠㅠㅠ"
   ]
  },
  {
   "cell_type": "code",
   "execution_count": 6,
   "id": "7b80fe63-b456-44fe-8315-2b1b2db48433",
   "metadata": {
    "tags": []
   },
   "outputs": [
    {
     "name": "stderr",
     "output_type": "stream",
     "text": [
      "[nltk_data] Downloading package brown to\n",
      "[nltk_data]     C:\\Users\\USER\\AppData\\Roaming\\nltk_data...\n",
      "[nltk_data]   Package brown is already up-to-date!\n",
      "[nltk_data] Downloading package inaugural to\n",
      "[nltk_data]     C:\\Users\\USER\\AppData\\Roaming\\nltk_data...\n",
      "[nltk_data]   Package inaugural is already up-to-date!\n"
     ]
    },
    {
     "data": {
      "text/plain": [
       "True"
      ]
     },
     "execution_count": 6,
     "metadata": {},
     "output_type": "execute_result"
    }
   ],
   "source": [
    "import nltk\n",
    "nltk.download(['brown','inaugural']) # 메뉴가 뜬다. 구구단에 활용하면 좋을거같다. "
   ]
  },
  {
   "cell_type": "code",
   "execution_count": 14,
   "id": "fc112cc7-554d-47a0-a6e8-d7a94e634dd0",
   "metadata": {},
   "outputs": [],
   "source": [
    "brown = nltk.corpus.brown"
   ]
  },
  {
   "cell_type": "code",
   "execution_count": 20,
   "id": "2431b8ac-60e3-499e-a84b-6ddef56f8fae",
   "metadata": {},
   "outputs": [
    {
     "data": {
      "text/plain": [
       "['ca01',\n",
       " 'ca02',\n",
       " 'ca03',\n",
       " 'ca04',\n",
       " 'ca05',\n",
       " 'ca06',\n",
       " 'ca07',\n",
       " 'ca08',\n",
       " 'ca09',\n",
       " 'ca10']"
      ]
     },
     "execution_count": 20,
     "metadata": {},
     "output_type": "execute_result"
    }
   ],
   "source": [
    "brown.fileids()[:10]\n",
    "# 파일 열어보기"
   ]
  },
  {
   "cell_type": "code",
   "execution_count": 24,
   "id": "38c7afaa-f0bd-46dc-bcd9-17aed22105a3",
   "metadata": {},
   "outputs": [
    {
     "data": {
      "text/plain": [
       "['adventure',\n",
       " 'belles_lettres',\n",
       " 'editorial',\n",
       " 'fiction',\n",
       " 'government',\n",
       " 'hobbies',\n",
       " 'humor',\n",
       " 'learned',\n",
       " 'lore',\n",
       " 'mystery',\n",
       " 'news',\n",
       " 'religion',\n",
       " 'reviews',\n",
       " 'romance',\n",
       " 'science_fiction']"
      ]
     },
     "execution_count": 24,
     "metadata": {},
     "output_type": "execute_result"
    }
   ],
   "source": [
    "brown.categories()"
   ]
  },
  {
   "cell_type": "code",
   "execution_count": 29,
   "id": "823b5452-6215-40c3-a5e0-3357098dd4cb",
   "metadata": {},
   "outputs": [
    {
     "ename": "NameError",
     "evalue": "name 'humor' is not defined",
     "output_type": "error",
     "traceback": [
      "\u001b[1;31m---------------------------------------------------------------------------\u001b[0m",
      "\u001b[1;31mNameError\u001b[0m                                 Traceback (most recent call last)",
      "\u001b[1;32m~\\AppData\\Local\\Temp/ipykernel_11916/778380111.py\u001b[0m in \u001b[0;36m<module>\u001b[1;34m\u001b[0m\n\u001b[1;32m----> 1\u001b[1;33m \u001b[0mbrown\u001b[0m\u001b[1;33m.\u001b[0m\u001b[0mwords\u001b[0m\u001b[1;33m(\u001b[0m\u001b[1;33m[\u001b[0m\u001b[0mhumor\u001b[0m\u001b[1;33m]\u001b[0m\u001b[1;33m)\u001b[0m\u001b[1;33m\u001b[0m\u001b[1;33m\u001b[0m\u001b[0m\n\u001b[0m",
      "\u001b[1;31mNameError\u001b[0m: name 'humor' is not defined"
     ]
    }
   ],
   "source": [
    "brown.words()"
   ]
  },
  {
   "cell_type": "code",
   "execution_count": 22,
   "id": "d6a1bcce-2eea-41e9-9685-b8b6f54fdb9e",
   "metadata": {},
   "outputs": [
    {
     "name": "stdout",
     "output_type": "stream",
     "text": [
      "                  can could would \n",
      "      adventure    46   151   191 \n",
      " belles_lettres   246   213   392 \n",
      "      editorial   121    56   180 \n",
      "        fiction    37   166   287 \n",
      "     government   117    38   120 \n",
      "        hobbies   268    58    78 \n",
      "          humor    16    30    56 \n",
      "        learned   365   159   319 \n",
      "           lore   170   141   186 \n",
      "        mystery    42   141   186 \n",
      "           news    93    86   244 \n",
      "       religion    82    59    68 \n",
      "        reviews    45    40    47 \n",
      "        romance    74   193   244 \n",
      "science_fiction    16    49    79 \n"
     ]
    }
   ],
   "source": [
    "cfd = nltk.ConditionalFreqDist(\n",
    "    (genre,word)\n",
    "    for genre in brown.categories()\n",
    "    for word in brown.words(categories=genre) #이 부분이 왜 있는지 모르겠다.\n",
    ")\n",
    "\n",
    "modals = ['can','could','would']\n",
    "\n",
    "cfd.tabulate(conditions=brown.categories(),samples=modals)\n",
    "\n",
    "\n",
    "# tabulate() : 표만들기"
   ]
  },
  {
   "cell_type": "code",
   "execution_count": 31,
   "id": "a66e27ff-4f39-4a7a-bd28-a5f53232f244",
   "metadata": {},
   "outputs": [
    {
     "name": "stdout",
     "output_type": "stream",
     "text": [
      "                  can could   may might  will would \n",
      "      adventure    48   154     7    59    51   194 \n",
      " belles_lettres   249   216   221   113   246   397 \n",
      "      editorial   124    57    79    39   235   185 \n",
      "        fiction    39   168    10    44    56   291 \n",
      "     government   119    38   179    13   244   120 \n",
      "        hobbies   276    59   143    22   269    83 \n",
      "          humor    17    33     8     8    13    56 \n",
      "        learned   367   159   336   128   340   321 \n",
      "           lore   170   142   170    50   178   188 \n",
      "        mystery    45   145    15    57    25   189 \n",
      "           news    94    87    93    38   389   246 \n",
      "       religion    84    59    79    12    72    69 \n",
      "        reviews    45    40    47    26    61    48 \n",
      "        romance    79   195    11    51    49   247 \n",
      "science_fiction    16    49     4    12    17    80 \n"
     ]
    }
   ],
   "source": [
    "# modals의 빈도수가 포함된 cfd(word > modal_verb)\n",
    "\n",
    "cfd1 = nltk.ConditionalFreqDist(\n",
    "    (genre,modal)\n",
    "    for genre in brown.categories()\n",
    "    for modal in ['can','could','would','will','might','may']\n",
    "    \n",
    "    for word in brown.words(categories=genre)\n",
    "    if word.lower() == modal #이게 왜 있는지\n",
    ")\n",
    "cfd1.tabulate() \n",
    "# 타블렛은 표를 만드는 것"
   ]
  },
  {
   "cell_type": "code",
   "execution_count": null,
   "id": "5c1ad996-2cb1-44c7-9feb-246cc461bb3c",
   "metadata": {},
   "outputs": [],
   "source": [
    "# 타블렛 오류나면\n",
    "# !pip install matplotlib\n",
    "import matplot.pyplot as plt\n",
    "plt.figure(figsize=(12,5))\n",
    "cfd1.plot()"
   ]
  },
  {
   "cell_type": "markdown",
   "id": "e167f8e3-da5f-40a5-b0a1-17b63aea8366",
   "metadata": {},
   "source": [
    "### inaugural"
   ]
  },
  {
   "cell_type": "code",
   "execution_count": null,
   "id": "ef9d157b-2c46-401a-aed6-74b0eb513966",
   "metadata": {},
   "outputs": [],
   "source": [
    "연설문 코퍼스"
   ]
  },
  {
   "cell_type": "code",
   "execution_count": 32,
   "id": "9b890a11-20ec-4d91-bc5f-32b3c0c9619e",
   "metadata": {},
   "outputs": [],
   "source": [
    "inaugural = nltk.corpus.inaugural"
   ]
  },
  {
   "cell_type": "code",
   "execution_count": 34,
   "id": "c731d401-01cb-4aa3-9474-3a2bb557f323",
   "metadata": {},
   "outputs": [
    {
     "data": {
      "text/plain": [
       "['1789-Washington.txt',\n",
       " '1793-Washington.txt',\n",
       " '1797-Adams.txt',\n",
       " '1801-Jefferson.txt',\n",
       " '1805-Jefferson.txt',\n",
       " '1809-Madison.txt',\n",
       " '1813-Madison.txt',\n",
       " '1817-Monroe.txt',\n",
       " '1821-Monroe.txt',\n",
       " '1825-Adams.txt']"
      ]
     },
     "execution_count": 34,
     "metadata": {},
     "output_type": "execute_result"
    }
   ],
   "source": [
    "inaugural.fileids()[:10] #연도-이름,txt 형태로 되어있음 "
   ]
  },
  {
   "cell_type": "code",
   "execution_count": 39,
   "id": "468faf43-f120-43ea-9dad-723c81cf5126",
   "metadata": {},
   "outputs": [
    {
     "name": "stdout",
     "output_type": "stream",
     "text": [
      "        1793-Washington      1797-Adams     1817-Monroe     1821-Monroe      1825-Adams   1837-VanBuren   1841-Harrison     1853-Pierce   1857-Buchanan    1861-Lincoln      1869-Grant      1873-Grant      1877-Hayes   1881-Garfield  1885-Cleveland   1889-Harrison  1893-Cleveland       1909-Taft     1917-Wilson    1921-Harding   1925-Coolidge     1929-Hoover  1937-Roosevelt  1941-Roosevelt  1945-Roosevelt 1953-Eisenhower 1957-Eisenhower    1961-Kennedy    1965-Johnson      1969-Nixon      1973-Nixon     1977-Carter     1981-Reagan     1985-Reagan       1989-Bush    1993-Clinton    1997-Clinton       2001-Bush       2005-Bush      2009-Obama      2013-Obama      2017-Trump      2021-Biden \n",
      "america               1               5               0               2               0               1               0               0               1               0               0               0               0               1               0               0               0               4               2              15               8               6               1               7               1               3               5               2               3               6              21               2               6               7               7              19              15              11              20              10               8              20              20 \n",
      "citizen               0               1               5               0               1               1              11               1               0               1               2               1               1               2               5               3               3               0               0               0               2               2               1               1               0               3               0               0               3               0               0               0               0               0               1               0               1               1               1               0               2               0               0 \n"
     ]
    }
   ],
   "source": [
    "# cfd ['america', 'citizen'] 빈도수를 cfd로 만드시오\n",
    "\n",
    "cfd2 = nltk.ConditionalFreqDist(\n",
    "    (target_word, fileid[:-4]) #txt를 지우고 출력하기 위해서\n",
    "    for fileid in inaugural.fileids()\n",
    "    for target_word in ['citizen','america']\n",
    "    \n",
    "    for word in inaugural.words(fileids=fileid)\n",
    "     if word.lower() == target_word # 타겟워드는 씨티즌\n",
    "    # if target_word in word.lower()\n",
    "    # if word.lower() == modal\n",
    ")\n",
    "\n",
    "cfd2.tabulate() "
   ]
  },
  {
   "cell_type": "code",
   "execution_count": 40,
   "id": "561c629c-6983-45bd-915c-e9ed4568eafa",
   "metadata": {},
   "outputs": [
    {
     "data": {
      "image/png": "[encoded data removed]",
      "text/plain": [
       "<Figure size 432x288 with 1 Axes>"
      ]
     },
     "metadata": {
      "needs_background": "light"
     },
     "output_type": "display_data"
    },
    {
     "data": {
      "text/plain": [
       "<AxesSubplot:xlabel='Samples', ylabel='Counts'>"
      ]
     },
     "execution_count": 40,
     "metadata": {},
     "output_type": "execute_result"
    }
   ],
   "source": [
    "cfd2.plot() # 이미지로"
   ]
  },
  {
   "cell_type": "code",
   "execution_count": null,
   "id": "0fb87997-4ffd-4e64-a4e4-755c9a404af6",
   "metadata": {},
   "outputs": [],
   "source": [
    "# 컨디션은 상황에 맞는 빈도수를 구하는 것\n",
    "# 특정한 단어의 쓰임이라든다. \n",
    "\n",
    "# 그 전 수업에서 몰랐던것들\n",
    "f = FreqDist(text)\n",
    "f.most_common(숫자) : 빈도수가 숫자보다 높은것들을 가장 빈번한 순으로 저장\n",
    "f['단어'] : 횟수를 반환\n",
    "f.freq('단어'): 퍼센트로 반환\n",
    "f.plot(): 그래프로 나타냄\n",
    "\n",
    "코퍼스 의미 : 말뭉치, 자연언어 연구를 위해 특정한 목적을 가지고 언어의 표본을 추출한 집합\n"
   ]
  },
  {
   "cell_type": "code",
   "execution_count": 49,
   "id": "74aed65f-4ee4-4766-9a21-7846ba036565",
   "metadata": {},
   "outputs": [
    {
     "data": {
      "text/plain": [
       "[]"
      ]
     },
     "execution_count": 49,
     "metadata": {},
     "output_type": "execute_result"
    }
   ],
   "source": [
    "b = nltk.corpus.brown\n",
    "b.fileids()\n",
    "b.categories()"
   ]
  },
  {
   "cell_type": "markdown",
   "id": "2ea83e75-a3d2-4be1-b888-ea37da19582f",
   "metadata": {},
   "source": [
    "### 튜플 Tuple & list"
   ]
  },
  {
   "cell_type": "code",
   "execution_count": null,
   "id": "76c3bed8-f89a-4f1c-9891-b0594b3bdc65",
   "metadata": {},
   "outputs": [],
   "source": [
    "- 튜플() vs List[]\n",
    "- 불변객체 vs 가변객체"
   ]
  },
  {
   "cell_type": "code",
   "execution_count": null,
   "id": "165097a1-f70a-46ef-9843-082ea5d9ccb4",
   "metadata": {},
   "outputs": [],
   "source": [
    "# 생성\n",
    "튜플 # 두 방법 모두 사용가능 \n",
    "emptyT = ()\n",
    "emptyT = tuple()\n",
    "\n",
    "리스트 \n",
    "emptyL = []\n",
    "emptyL = list()\n"
   ]
  },
  {
   "cell_type": "code",
   "execution_count": null,
   "id": "623a43fe-023e-4abf-8edb-eea0c064e43c",
   "metadata": {},
   "outputs": [],
   "source": [
    "# 1.1 요소가 여러개일때"
   ]
  },
  {
   "cell_type": "code",
   "execution_count": 51,
   "id": "68d1e684-8fb2-468c-abdc-114d803254a9",
   "metadata": {},
   "outputs": [
    {
     "data": {
      "text/plain": [
       "tuple"
      ]
     },
     "execution_count": 51,
     "metadata": {},
     "output_type": "execute_result"
    }
   ],
   "source": [
    "aT = ('a','b')\n",
    "aT =  'a','b' # 튜플은 괄호 없어가 없어도 튜플로 인식 가능\n",
    "\n",
    "aL = ['a','b'] # 리스트는 필요함\n",
    "\n",
    "type(aT)"
   ]
  },
  {
   "cell_type": "code",
   "execution_count": 52,
   "id": "0a6a4017-0753-4a8b-b705-def8668e1457",
   "metadata": {},
   "outputs": [
    {
     "data": {
      "text/plain": [
       "tuple"
      ]
     },
     "execution_count": 52,
     "metadata": {},
     "output_type": "execute_result"
    }
   ],
   "source": [
    "aT = 'a','b'\n",
    "type(aT)"
   ]
  },
  {
   "cell_type": "code",
   "execution_count": null,
   "id": "136ab99b-8f16-4c3c-8245-c506abe94848",
   "metadata": {},
   "outputs": [],
   "source": [
    "# 요소가 1개일때\n",
    "\n",
    "a = ('a') #문자열\n",
    "aT = ('a',) # 괄호하고, 뒤에 쉼표를 해줘야 튜플로 인식"
   ]
  },
  {
   "cell_type": "code",
   "execution_count": 55,
   "id": "d75ed5aa-0007-40ce-b5cc-dce4bfc60151",
   "metadata": {},
   "outputs": [
    {
     "name": "stdout",
     "output_type": "stream",
     "text": [
      "i k m\n"
     ]
    }
   ],
   "source": [
    "# 할당할때 여러개를 할 수 있다.\n",
    "a,b,c = 'ikm' # umpacking : 한 변수에 여러 데이터가 들어있을때, 여러 변수에 나누는 것\n",
    "\n",
    " a = 'i' b ='k' c ='m'\n",
    "\n",
    "print(a,b,c)"
   ]
  },
  {
   "cell_type": "code",
   "execution_count": null,
   "id": "fc169baa-f562-499e-9c04-ec457baf0060",
   "metadata": {},
   "outputs": [],
   "source": [
    " # packing : 한 변수에 여러 데이터를 할당하는 것\n",
    " - list, tuple 자체, a = [1,2,3,4]"
   ]
  },
  {
   "cell_type": "code",
   "execution_count": 59,
   "id": "d9160329-26f2-4da4-a774-bc556268e3f2",
   "metadata": {},
   "outputs": [
    {
     "name": "stdout",
     "output_type": "stream",
     "text": [
      "sky sky\n"
     ]
    }
   ],
   "source": [
    "# 튜플이 좋은 점, 값을 교환하기 가능\n",
    "pwd = 'abcd'\n",
    "userId = 'sky'\n",
    "\n",
    "pwd = userId #서로 바꿀려면\n",
    "print(pwd,userId) # userId는 바뀌지 않는다."
   ]
  },
  {
   "cell_type": "code",
   "execution_count": null,
   "id": "28c7a4dc-a8af-410c-a990-071c80dc2ebe",
   "metadata": {},
   "outputs": [],
   "source": [
    "# 상호교환 하려면\n",
    "temp1 = userId\n",
    "temp2 =pwd\n",
    "pwd = temp1\n",
    "userid = temp2 \n",
    "# 이 과정을 거쳐야 하늗데"
   ]
  },
  {
   "cell_type": "code",
   "execution_count": 63,
   "id": "5c5febb8-def0-453e-b4c6-2928e853308d",
   "metadata": {},
   "outputs": [
    {
     "name": "stdout",
     "output_type": "stream",
     "text": [
      "sky abcd\n"
     ]
    }
   ],
   "source": [
    "pwd = 'abcd'\n",
    "userId = 'sky'\n",
    "\n",
    "pwd, userId = userId,pwd #간단하게 가능\n",
    "\n",
    "print(pwd,userId) "
   ]
  },
  {
   "cell_type": "code",
   "execution_count": 64,
   "id": "b91a2c3b-865f-44b5-950c-fe7b0abb292b",
   "metadata": {},
   "outputs": [
    {
     "ename": "TypeError",
     "evalue": "can only concatenate str (not \"tuple\") to str",
     "output_type": "error",
     "traceback": [
      "\u001b[1;31m---------------------------------------------------------------------------\u001b[0m",
      "\u001b[1;31mTypeError\u001b[0m                                 Traceback (most recent call last)",
      "\u001b[1;32m~\\AppData\\Local\\Temp/ipykernel_11916/3564091212.py\u001b[0m in \u001b[0;36m<module>\u001b[1;34m\u001b[0m\n\u001b[0;32m      1\u001b[0m \u001b[1;31m# 연산\u001b[0m\u001b[1;33m\u001b[0m\u001b[1;33m\u001b[0m\u001b[0m\n\u001b[1;32m----> 2\u001b[1;33m \u001b[1;33m(\u001b[0m\u001b[1;34m'a'\u001b[0m\u001b[1;33m)\u001b[0m \u001b[1;33m+\u001b[0m \u001b[1;33m(\u001b[0m\u001b[1;36m1\u001b[0m\u001b[1;33m,\u001b[0m\u001b[1;36m2\u001b[0m\u001b[1;33m)\u001b[0m\u001b[1;33m\u001b[0m\u001b[1;33m\u001b[0m\u001b[0m\n\u001b[0m\u001b[0;32m      3\u001b[0m \u001b[1;33m(\u001b[0m\u001b[1;36m1\u001b[0m\u001b[1;33m,\u001b[0m\u001b[1;36m2\u001b[0m\u001b[1;33m)\u001b[0m \u001b[1;33m*\u001b[0m \u001b[1;36m3\u001b[0m\u001b[1;33m\u001b[0m\u001b[1;33m\u001b[0m\u001b[0m\n",
      "\u001b[1;31mTypeError\u001b[0m: can only concatenate str (not \"tuple\") to str"
     ]
    }
   ],
   "source": [
    "# 연산\n",
    "('a') + (1,2)\n",
    "(1,2) * 3"
   ]
  },
  {
   "cell_type": "code",
   "execution_count": null,
   "id": "a7d5105d-0558-41f4-8af5-78e970c42d7b",
   "metadata": {},
   "outputs": [],
   "source": [
    "x = ('a',)\n",
    "y =(1,2)\n",
    "id(x), id(x+y) #둘의 아이디가 다르다. 새로 할당한것"
   ]
  },
  {
   "cell_type": "code",
   "execution_count": null,
   "id": "d4183054-c1fc-4fbd-b9be-0a2d25892090",
   "metadata": {},
   "outputs": [],
   "source": [
    "# 비교 가능 "
   ]
  },
  {
   "cell_type": "code",
   "execution_count": null,
   "id": "44e6cff9-1353-40d1-be0d-30ee55f40a74",
   "metadata": {},
   "outputs": [],
   "source": [
    "# 순회 \n",
    "for i in x:\n",
    "    print(x)"
   ]
  },
  {
   "cell_type": "code",
   "execution_count": null,
   "id": "8e835f6c-4cce-40fe-a264-1a9970e505f6",
   "metadata": {},
   "outputs": [],
   "source": [
    "[i for i in x] # 컴프리헨션 가능"
   ]
  },
  {
   "cell_type": "code",
   "execution_count": null,
   "id": "38c167d9-0bae-42df-a4b1-579bebf881a2",
   "metadata": {},
   "outputs": [],
   "source": [
    "# 튜플 컴프리헨션은 없다.\n",
    "# 리스트 컴프리헨션만 있다.\n",
    "다만 바꿀수셔ㅔ는 있다. \n",
    "tuple([i for i in x])\n",
    "\n",
    "*[i for i in x], # 느리다. \n",
    "\n",
    "#필요한 경우아니면 튜플로 바꾸지 않는다."
   ]
  },
  {
   "cell_type": "code",
   "execution_count": null,
   "id": "552b47df-fa05-4e9b-a86d-aedf00e67c9d",
   "metadata": {},
   "outputs": [],
   "source": [
    "# 형변환\n",
    "dog = 'dog'\n",
    "tuple(dog) #각 하나씩 넣는다.\n",
    "(dog) #전체를 튜플로 넣는다.\n",
    "\n",
    "tuple()"
   ]
  },
  {
   "cell_type": "code",
   "execution_count": null,
   "id": "15611379-f775-4f46-a9de-37c6e2bec64e",
   "metadata": {},
   "outputs": [],
   "source": [
    "# 슬라이싱 가능 slicing\n",
    "dogT[0]"
   ]
  },
  {
   "cell_type": "code",
   "execution_count": null,
   "id": "0112cd8e-dba9-4538-8fed-ba66682affb0",
   "metadata": {},
   "outputs": [],
   "source": [
    "정리\n",
    "- tuple 장점\n",
    " - 변하지 않는 데이터, 시퀀스를 연동할수 있다. (다른 사람이 변경하는 것을 막을수있다. 타인의 접근 막음)\n",
    "    - 메모리 사용이 적다\n",
    "    # 중복 가능\n",
    "    \n",
    "- 리스트의 장점\n",
    " - 튜플 장점 필요없다면 전부 리스트 사용\n",
    " - 데이터를 순차적으로 파악할 때 \n",
    " - 중복데이터를 쓸수있다는 점(set이랑 비교)"
   ]
  },
  {
   "cell_type": "code",
   "execution_count": null,
   "id": "1b73c2fa-a383-4ee1-8f31-868132f92099",
   "metadata": {},
   "outputs": [],
   "source": [
    "### 리스트의 유용한 함수들\n",
    "- 변경, 삭제, 추가,\n",
    "- 리스트 컴프리헨션을 업그레이드"
   ]
  },
  {
   "cell_type": "code",
   "execution_count": 14,
   "id": "852698be-d4b4-4faa-b0e7-0eb589ae2849",
   "metadata": {},
   "outputs": [
    {
     "data": {
      "text/plain": [
       "['a', 'b', 'c', 'd']"
      ]
     },
     "execution_count": 14,
     "metadata": {},
     "output_type": "execute_result"
    }
   ],
   "source": [
    "list('abcd')"
   ]
  },
  {
   "cell_type": "code",
   "execution_count": 32,
   "id": "d8964338-240f-4b92-b2be-91bb9ca32e80",
   "metadata": {},
   "outputs": [
    {
     "data": {
      "text/plain": [
       "[0, 1, 2, 3, 4]"
      ]
     },
     "execution_count": 32,
     "metadata": {},
     "output_type": "execute_result"
    }
   ],
   "source": [
    "num = list(range(5))\n",
    "num"
   ]
  },
  {
   "cell_type": "code",
   "execution_count": 33,
   "id": "4be86b0d-3371-4a6b-b4c1-a65a4586fa84",
   "metadata": {},
   "outputs": [
    {
     "data": {
      "text/plain": [
       "[0, 1, 2, 3, 4, [6]]"
      ]
     },
     "execution_count": 33,
     "metadata": {},
     "output_type": "execute_result"
    }
   ],
   "source": [
    "# 추가\n",
    "num.append([6]) # 맨뒤에 요소 추가 / 여러개르 추가 불가능, 하나씩\n",
    "num"
   ]
  },
  {
   "cell_type": "code",
   "execution_count": 34,
   "id": "d97e8f6c-8056-41ef-b614-720c17256eeb",
   "metadata": {},
   "outputs": [
    {
     "data": {
      "text/plain": [
       "[8, 0, 1, 2, 3, 4, [6]]"
      ]
     },
     "execution_count": 34,
     "metadata": {},
     "output_type": "execute_result"
    }
   ],
   "source": [
    "# insert(index, item)\n",
    "num.insert(0,8)\n",
    "num"
   ]
  },
  {
   "cell_type": "code",
   "execution_count": 35,
   "id": "b8079cac-39a3-4e5c-b029-7185bfd4b4dd",
   "metadata": {},
   "outputs": [
    {
     "data": {
      "text/plain": [
       "[8, 0, 1, 2, 3, 4, [6], 6, 6]"
      ]
     },
     "execution_count": 35,
     "metadata": {},
     "output_type": "execute_result"
    }
   ],
   "source": [
    "# 여러개 추가\n",
    "num.extend([6,6]) #확장: 리스트를 리스트로 할당\n",
    "num\n",
    "# extend 랑 append랑 추가되는 모양이 다르다. append는 리스트 기호까지 포함된다.\n",
    "# 리스트 기호가 있더라도 포함되지 않는다."
   ]
  },
  {
   "cell_type": "code",
   "execution_count": 36,
   "id": "d62a00f8-7826-425d-9b57-0d24bad9788f",
   "metadata": {},
   "outputs": [
    {
     "data": {
      "text/plain": [
       "[8, 0, 1, 2, 3, 4, [6], 6, 6, 'love', 'star']"
      ]
     },
     "execution_count": 36,
     "metadata": {},
     "output_type": "execute_result"
    }
   ],
   "source": [
    "a = ['love','star']\n",
    "num.extend(a) # 리스트 이름만 넣어도 가능\n",
    "num"
   ]
  },
  {
   "cell_type": "code",
   "execution_count": 37,
   "id": "f80cfe37-c4c2-4336-858c-2e0a4b2ba3fa",
   "metadata": {},
   "outputs": [
    {
     "data": {
      "text/plain": [
       "[8, 0, 1, 2, 3, 4, [6], 6, 6, 'love', ['mountain'], 'star']"
      ]
     },
     "execution_count": 37,
     "metadata": {},
     "output_type": "execute_result"
    }
   ],
   "source": [
    "b = ['mountain']\n",
    "num.insert(10,b)\n",
    "num"
   ]
  },
  {
   "cell_type": "code",
   "execution_count": 38,
   "id": "9045b060-dcbb-404e-98bb-74075786327b",
   "metadata": {},
   "outputs": [
    {
     "data": {
      "text/plain": [
       "[[5, 5], 8, 0, 1, 2, 3, 4, [6], 6, 6, 'love', ['mountain'], 'star']"
      ]
     },
     "execution_count": 38,
     "metadata": {},
     "output_type": "execute_result"
    }
   ],
   "source": [
    "k = [5,5]\n",
    "num.insert(0,k)\n",
    "num\n",
    "# insert도 하나의 요소를 바로 넣으면 리스트 기호가 포함되지 않지만, 변수를 할당하고 여러 값을 넣으면 리스트 기호 생김"
   ]
  },
  {
   "cell_type": "code",
   "execution_count": 39,
   "id": "158144fd-7946-443b-a939-04db38a0cab7",
   "metadata": {},
   "outputs": [
    {
     "data": {
      "text/plain": [
       "[[5, 5],\n",
       " 8,\n",
       " 0,\n",
       " 1,\n",
       " 2,\n",
       " 3,\n",
       " 4,\n",
       " [6],\n",
       " 6,\n",
       " 6,\n",
       " 'love',\n",
       " ['mountain'],\n",
       " 'star',\n",
       " ['best', 'friend']]"
      ]
     },
     "execution_count": 39,
     "metadata": {},
     "output_type": "execute_result"
    }
   ],
   "source": [
    "c = ['best','friend']\n",
    "num.append(c)\n",
    "num"
   ]
  },
  {
   "cell_type": "code",
   "execution_count": null,
   "id": "333167dd-3f5e-4a95-a598-34d78d20de18",
   "metadata": {},
   "outputs": [],
   "source": [
    "num += x #랑 비슷하다.= extend"
   ]
  },
  {
   "cell_type": "code",
   "execution_count": 54,
   "id": "27cc9ac5-8011-4fd8-99d2-da3580da7958",
   "metadata": {},
   "outputs": [],
   "source": [
    "classnum = [2,0,2,1,0,2,8,5,8]"
   ]
  },
  {
   "cell_type": "code",
   "execution_count": 55,
   "id": "9f86b7ff-f5ad-4fed-83a6-1a9685367535",
   "metadata": {},
   "outputs": [
    {
     "data": {
      "text/plain": [
       "[9, 0, 2, 1, 0, 2, 8, 5, 8]"
      ]
     },
     "execution_count": 55,
     "metadata": {},
     "output_type": "execute_result"
    }
   ],
   "source": [
    "# offset\n",
    "classnum[0]=9\n",
    "classnum"
   ]
  },
  {
   "cell_type": "code",
   "execution_count": 56,
   "id": "4c28ba72-d16b-4a4b-9b61-3c7c2cf49be1",
   "metadata": {},
   "outputs": [
    {
     "data": {
      "text/plain": [
       "[2, 2, 2, 1, 0, 2, 8, 5, 8]"
      ]
     },
     "execution_count": 56,
     "metadata": {},
     "output_type": "execute_result"
    }
   ],
   "source": [
    "# slice\n",
    "classnum[:3] = 2,2,2\n",
    "classnum"
   ]
  },
  {
   "cell_type": "code",
   "execution_count": 58,
   "id": "a9fe3442-49c7-4072-9435-bde84a6ee19b",
   "metadata": {},
   "outputs": [
    {
     "data": {
      "text/plain": [
       "['b', 'o', 'b', 2, 8, 5, 8]"
      ]
     },
     "execution_count": 58,
     "metadata": {},
     "output_type": "execute_result"
    }
   ],
   "source": [
    "# 주의\n",
    "classnum[:3] = 'bob' #하면 언팩킹해서 글자가 분리되어서 바뀜\n",
    "classnum"
   ]
  },
  {
   "cell_type": "code",
   "execution_count": 52,
   "id": "48bd153f-ebbc-4eb1-8895-d9a401f51471",
   "metadata": {},
   "outputs": [
    {
     "data": {
      "text/plain": [
       "['bob', 8, 5, 8]"
      ]
     },
     "execution_count": 52,
     "metadata": {},
     "output_type": "execute_result"
    }
   ],
   "source": [
    "# 언팩킹하지 않고 넣을려면 이렇게\n",
    "classnum[:3] = ['bob'] \n",
    "classnum"
   ]
  },
  {
   "cell_type": "code",
   "execution_count": 60,
   "id": "2e656edb-cbb7-429e-943f-7497091ba19e",
   "metadata": {},
   "outputs": [
    {
     "data": {
      "text/plain": [
       "[8]"
      ]
     },
     "execution_count": 60,
     "metadata": {},
     "output_type": "execute_result"
    }
   ],
   "source": [
    "#삭제\n",
    "del classnum[:3]\n",
    "classnum"
   ]
  },
  {
   "cell_type": "code",
   "execution_count": 72,
   "id": "36ef2801-6add-4bea-8511-15176e4a5ab5",
   "metadata": {},
   "outputs": [],
   "source": [
    "num2 = [1,2,3,4,5,6]"
   ]
  },
  {
   "cell_type": "code",
   "execution_count": 73,
   "id": "d5e0ddac-ffc6-4f03-ad69-d32801a3c56e",
   "metadata": {},
   "outputs": [
    {
     "data": {
      "text/plain": [
       "[1, 3, 4, 5, 6]"
      ]
     },
     "execution_count": 73,
     "metadata": {},
     "output_type": "execute_result"
    }
   ],
   "source": [
    "#삭제 : remove(value)\n",
    "num2.remove(2) # 인덱스 아니고, 삭제하고 싶은 값을 지워라\n",
    "num2"
   ]
  },
  {
   "cell_type": "code",
   "execution_count": 74,
   "id": "0cb75e49-9b7b-4741-a96b-924e5244e384",
   "metadata": {},
   "outputs": [
    {
     "data": {
      "text/plain": [
       "[1, 3, 4, 5]"
      ]
     },
     "execution_count": 74,
     "metadata": {},
     "output_type": "execute_result"
    }
   ],
   "source": [
    "# pop (index) 기본값 = -1\n",
    "num2.pop()\n",
    "num2"
   ]
  },
  {
   "cell_type": "code",
   "execution_count": 75,
   "id": "8c15e689-682b-46aa-9e88-45b54abb00c8",
   "metadata": {},
   "outputs": [
    {
     "data": {
      "text/plain": [
       "[1, 4, 5]"
      ]
     },
     "execution_count": 75,
     "metadata": {},
     "output_type": "execute_result"
    }
   ],
   "source": [
    "num2.pop(1)\n",
    "num2"
   ]
  },
  {
   "cell_type": "code",
   "execution_count": 79,
   "id": "792cec5f-9654-4f9b-a9d3-912aba8943b1",
   "metadata": {},
   "outputs": [
    {
     "data": {
      "text/plain": [
       "0"
      ]
     },
     "execution_count": 79,
     "metadata": {},
     "output_type": "execute_result"
    }
   ],
   "source": [
    "# 인덱스 찾기 / 위치 찾기 \n",
    "num2.index(1)"
   ]
  },
  {
   "cell_type": "code",
   "execution_count": 71,
   "id": "15f5b6e4-755e-4d50-b392-794094cb2ab9",
   "metadata": {},
   "outputs": [
    {
     "data": {
      "text/plain": [
       "[]"
      ]
     },
     "execution_count": 71,
     "metadata": {},
     "output_type": "execute_result"
    }
   ],
   "source": [
    "# clear 다지우기\n",
    "num2.clear()\n",
    "num2"
   ]
  },
  {
   "cell_type": "code",
   "execution_count": null,
   "id": "45fc008d-0d22-4a49-8808-b8a249d41282",
   "metadata": {},
   "outputs": [],
   "source": [
    "# 인덱스 찾기\n",
    "num.index(4)"
   ]
  },
  {
   "cell_type": "code",
   "execution_count": 80,
   "id": "51073e42-b85b-48f8-bd03-8f23a70f258b",
   "metadata": {},
   "outputs": [
    {
     "data": {
      "text/plain": [
       "False"
      ]
     },
     "execution_count": 80,
     "metadata": {},
     "output_type": "execute_result"
    }
   ],
   "source": [
    "0 in num2 #요소가 있는지 확인"
   ]
  },
  {
   "cell_type": "code",
   "execution_count": 83,
   "id": "75f8ac26-890b-4aa7-8eb3-bc500c29246f",
   "metadata": {},
   "outputs": [
    {
     "data": {
      "text/plain": [
       "[1, 4, 5, 5, 5]"
      ]
     },
     "execution_count": 83,
     "metadata": {},
     "output_type": "execute_result"
    }
   ],
   "source": [
    "num2.append(5)\n",
    "num2"
   ]
  },
  {
   "cell_type": "code",
   "execution_count": 84,
   "id": "8edd5c67-da24-427d-a894-8b4fbb3f25af",
   "metadata": {},
   "outputs": [
    {
     "data": {
      "text/plain": [
       "[5, 5, 5, 4, 1]"
      ]
     },
     "execution_count": 84,
     "metadata": {},
     "output_type": "execute_result"
    }
   ],
   "source": [
    "# 정렬 = \n",
    "# num.sort()\n",
    "# sorted(변수)"
   ]
  },
  {
   "cell_type": "code",
   "execution_count": 91,
   "id": "b1e53e1c-a0f0-4bb5-9c8d-a79df77bc845",
   "metadata": {},
   "outputs": [
    {
     "data": {
      "text/plain": [
       "[5, 5, 5, 4, 1]"
      ]
     },
     "execution_count": 91,
     "metadata": {},
     "output_type": "execute_result"
    }
   ],
   "source": [
    "sorted(num2, reverse = True) #변한 값만 복사해서 출력"
   ]
  },
  {
   "cell_type": "code",
   "execution_count": 92,
   "id": "b8c3725d-3e9d-4049-87e7-97bbd4e5917b",
   "metadata": {},
   "outputs": [
    {
     "data": {
      "text/plain": [
       "[1, 4, 5, 5, 5]"
      ]
     },
     "execution_count": 92,
     "metadata": {},
     "output_type": "execute_result"
    }
   ],
   "source": [
    "sorted(num2)"
   ]
  },
  {
   "cell_type": "code",
   "execution_count": 93,
   "id": "7ce24de4-8f6d-4646-86d1-0c0854ff08d3",
   "metadata": {},
   "outputs": [
    {
     "data": {
      "text/plain": [
       "[5, 5, 5, 4, 1]"
      ]
     },
     "execution_count": 93,
     "metadata": {},
     "output_type": "execute_result"
    }
   ],
   "source": [
    "num2.sort(reverse = True) # 리스트.sort(), 값을 할당하지 않아도 된다.\n",
    "num2"
   ]
  },
  {
   "cell_type": "code",
   "execution_count": 98,
   "id": "a38c375d-2afe-4063-89b4-eaee1d754aec",
   "metadata": {},
   "outputs": [
    {
     "data": {
      "text/plain": [
       "[5, 5, 5, 4, 1]"
      ]
     },
     "execution_count": 98,
     "metadata": {},
     "output_type": "execute_result"
    }
   ],
   "source": [
    "# reverse(), reversed() 차이없다. 값 반환하고 안하는 차이\n",
    "num2.reverse()\n",
    "num2"
   ]
  },
  {
   "cell_type": "code",
   "execution_count": 99,
   "id": "2a8d6834-559a-4193-84ec-ef750c704129",
   "metadata": {},
   "outputs": [
    {
     "data": {
      "text/plain": [
       "<list_reverseiterator at 0x2af30c2f0d0>"
      ]
     },
     "execution_count": 99,
     "metadata": {},
     "output_type": "execute_result"
    }
   ],
   "source": [
    "reversed(num2)"
   ]
  },
  {
   "cell_type": "code",
   "execution_count": 117,
   "id": "e09d1ed6-3bb3-46eb-81c5-448b8830e95d",
   "metadata": {},
   "outputs": [
    {
     "data": {
      "text/plain": [
       "[1, 2, 3, 4]"
      ]
     },
     "execution_count": 117,
     "metadata": {},
     "output_type": "execute_result"
    }
   ],
   "source": [
    "# 할당 \n",
    "a = list(range(1,5))\n",
    "a"
   ]
  },
  {
   "cell_type": "code",
   "execution_count": 118,
   "id": "5897c0ba-2988-4490-94b9-aec460750541",
   "metadata": {},
   "outputs": [
    {
     "data": {
      "text/plain": [
       "[6, 2, 3, 4]"
      ]
     },
     "execution_count": 118,
     "metadata": {},
     "output_type": "execute_result"
    }
   ],
   "source": [
    "b = a #복사 # 이꼴사인하면 메모리 주소를 참조하는 것\n",
    "b[0] = 6\n",
    "a\n",
    " # 둘 다 값이 바뀐다."
   ]
  },
  {
   "cell_type": "code",
   "execution_count": 119,
   "id": "deca84f7-cc15-409a-8771-57c706742ae4",
   "metadata": {},
   "outputs": [
    {
     "data": {
      "text/plain": [
       "(2951459813184, 2951459813184)"
      ]
     },
     "execution_count": 119,
     "metadata": {},
     "output_type": "execute_result"
    }
   ],
   "source": [
    "id(a),id(b) # 메모리주소 확인"
   ]
  },
  {
   "cell_type": "code",
   "execution_count": 124,
   "id": "23df3d6c-ee64-46a9-b537-31475916949c",
   "metadata": {},
   "outputs": [
    {
     "data": {
      "text/plain": [
       "(2951459813184, 2951460696960, 2951460696576, 2951458873472)"
      ]
     },
     "execution_count": 124,
     "metadata": {},
     "output_type": "execute_result"
    }
   ],
   "source": [
    "# shallow copy:참조하지 않고 새로운 개체에 할당하는 방법, 얕은 복사\n",
    "c = a.copy() #id 같음\n",
    "d = list(a)\n",
    "e = a[:]\n",
    "\n",
    "id(a), id(c), id(d), id(e) #다 메모리 주소가 다 다르다"
   ]
  },
  {
   "cell_type": "code",
   "execution_count": 125,
   "id": "3868e758-fd0e-4dcf-9148-47f7d235bd4a",
   "metadata": {},
   "outputs": [
    {
     "data": {
      "text/plain": [
       "[6, 2, 3, 4, [1, 2, 3]]"
      ]
     },
     "execution_count": 125,
     "metadata": {},
     "output_type": "execute_result"
    }
   ],
   "source": [
    "# deepcopy #깊은 복사, 하위에 중첩된 리스트요소가 안바뀌도록\n",
    "a.append([1,2,3])\n",
    "a"
   ]
  },
  {
   "cell_type": "code",
   "execution_count": 126,
   "id": "54a1f8e1-791c-4b7b-a77c-2d45c110a898",
   "metadata": {},
   "outputs": [
    {
     "data": {
      "text/plain": [
       "(2951459813184, 2951459769920)"
      ]
     },
     "execution_count": 126,
     "metadata": {},
     "output_type": "execute_result"
    }
   ],
   "source": [
    "f = a.copy()\n",
    "id(a), id(f)"
   ]
  },
  {
   "cell_type": "code",
   "execution_count": 127,
   "id": "cb3da058-a76e-44b3-ab8a-0dc996ab7710",
   "metadata": {},
   "outputs": [
    {
     "data": {
      "text/plain": [
       "([6, 2, 3, 4, [9, 2, 3]], [6, 2, 3, 4, [9, 2, 3]])"
      ]
     },
     "execution_count": 127,
     "metadata": {},
     "output_type": "execute_result"
    }
   ],
   "source": [
    "f[-1][0] = 9 \n",
    "a,f"
   ]
  },
  {
   "cell_type": "code",
   "execution_count": 131,
   "id": "09de9fe2-400e-4b45-979e-657a0bdced1b",
   "metadata": {},
   "outputs": [
    {
     "name": "stdout",
     "output_type": "stream",
     "text": [
      "2\n"
     ]
    }
   ],
   "source": [
    "print(a[-1][1])"
   ]
  },
  {
   "cell_type": "code",
   "execution_count": 133,
   "id": "54d785e6-302d-4ff8-8668-ca9b76ebd017",
   "metadata": {},
   "outputs": [],
   "source": [
    "import copy\n",
    "g = copy.deepcopy(a)"
   ]
  },
  {
   "cell_type": "code",
   "execution_count": 136,
   "id": "4f9a9b9d-05e1-4768-a680-460224300b14",
   "metadata": {},
   "outputs": [
    {
     "data": {
      "text/plain": [
       "(2951460747136, 2951459813184)"
      ]
     },
     "execution_count": 136,
     "metadata": {},
     "output_type": "execute_result"
    }
   ],
   "source": [
    "g\n",
    "id(g), id(a)"
   ]
  },
  {
   "cell_type": "code",
   "execution_count": 137,
   "id": "7b18ee58-f51b-43a7-99ce-68913bcae058",
   "metadata": {},
   "outputs": [],
   "source": [
    "g[-1][0] = 10\n",
    "\n",
    "#리스트가 어떻게 바뀌는지 파악할 것\n",
    "# a의 요소는 바뀌지 않고, g의 요소만 바뀐다. "
   ]
  },
  {
   "cell_type": "code",
   "execution_count": 138,
   "id": "a2daf478-73e4-495a-83a3-6ad22d26f3a9",
   "metadata": {},
   "outputs": [
    {
     "data": {
      "text/plain": [
       "([6, 2, 3, 4, [9, 2, 3]], [6, 2, 3, 4, [10, 2, 3]])"
      ]
     },
     "execution_count": 138,
     "metadata": {},
     "output_type": "execute_result"
    }
   ],
   "source": [
    "a,g"
   ]
  },
  {
   "cell_type": "code",
   "execution_count": 139,
   "id": "a7e0446f-ffce-4ff9-aa5f-3984d667b6bf",
   "metadata": {},
   "outputs": [
    {
     "name": "stdout",
     "output_type": "stream",
     "text": [
      "('kate', 77)\n",
      "('reyce', 44)\n",
      "('phill', 54)\n"
     ]
    }
   ],
   "source": [
    "# 순회 : zip, enumerate\n",
    "name = ['kate','reyce','phill']\n",
    "age =[77,44,54]\n",
    "\n",
    "# (name,age)\n",
    "for item1,item2 in zip(name,age):\n",
    "    print((item1,item2)) #중첩문과 좀 다르다. 여러 리스트를 동시에 순회하는것,\n",
    "    # 괄호를 두번하는 이유는 튜플로 바꾸는것"
   ]
  },
  {
   "cell_type": "code",
   "execution_count": 140,
   "id": "eede29bb-3fc2-4222-a9bb-f41eb56d1259",
   "metadata": {},
   "outputs": [
    {
     "data": {
      "text/plain": [
       "[('kate', 77), ('reyce', 44), ('phill', 54)]"
      ]
     },
     "execution_count": 140,
     "metadata": {},
     "output_type": "execute_result"
    }
   ],
   "source": [
    "# 위에거 더 쉽게\n",
    "list(zip(name,age))"
   ]
  },
  {
   "cell_type": "code",
   "execution_count": 142,
   "id": "416c13e5-cf42-4f64-8b87-b00068cd0552",
   "metadata": {},
   "outputs": [
    {
     "name": "stdout",
     "output_type": "stream",
     "text": [
      "('milk', 30)\n",
      "('sugar', 500)\n",
      "('water', 100)\n",
      "('salt', 3)\n"
     ]
    }
   ],
   "source": [
    "# zip 나의 연습\n",
    "ingredient = ['milk','sugar','water','salt']\n",
    "g = [30,500,100,3]\n",
    "\n",
    "for item1,item2 in zip(ingredient,g):\n",
    "    print((item1,item2))\n",
    "    \n",
    "    \n",
    "# 튜플형태로 프린트"
   ]
  },
  {
   "cell_type": "code",
   "execution_count": 144,
   "id": "c84ea982-eeca-4650-8af8-c71e936c1893",
   "metadata": {},
   "outputs": [
    {
     "data": {
      "text/plain": [
       "[('milk', 30), ('sugar', 500), ('water', 100), ('salt', 3)]"
      ]
     },
     "execution_count": 144,
     "metadata": {},
     "output_type": "execute_result"
    }
   ],
   "source": [
    "#연습\n",
    "list(zip(ingredient,g))\n",
    "\n",
    "\n",
    "# 리스트 형태 "
   ]
  },
  {
   "cell_type": "markdown",
   "id": "2ecc3b29-3379-4a0b-9140-feca9e9c99b1",
   "metadata": {},
   "source": [
    "### 리스트 +인덱스 enumerate"
   ]
  },
  {
   "cell_type": "code",
   "execution_count": 145,
   "id": "ee32b00c-52b6-4cb4-a9c2-65c79ce34d37",
   "metadata": {},
   "outputs": [
    {
     "name": "stdout",
     "output_type": "stream",
     "text": [
      "0 kate\n",
      "1 reyce\n",
      "2 phill\n"
     ]
    }
   ],
   "source": [
    "for idx,item in enumerate(name):              # idx 고정\n",
    "    print(idx,item)"
   ]
  },
  {
   "cell_type": "code",
   "execution_count": 150,
   "id": "8bba47e3-340e-43a0-8b9f-7d9e5b3b5d42",
   "metadata": {},
   "outputs": [
    {
     "name": "stdout",
     "output_type": "stream",
     "text": [
      "0 milk\n",
      "1 sugar\n",
      "2 water\n",
      "3 salt\n"
     ]
    }
   ],
   "source": [
    "# 연습\n",
    "for idx,item in enumerate(ingredient):\n",
    "    print(idx,item)"
   ]
  },
  {
   "cell_type": "code",
   "execution_count": 149,
   "id": "91df82fc-2f2f-4af8-8c5b-9436d7d0b2dd",
   "metadata": {},
   "outputs": [
    {
     "name": "stdout",
     "output_type": "stream",
     "text": [
      "0 kate\n",
      "1 reyce\n",
      "2 phill\n"
     ]
    }
   ],
   "source": [
    "# 위에 예제 처럼, 리스트 안에 있는 요소들의 index를 for 문을 활용해서 찾는다면?\n",
    "\n",
    "for word in name:\n",
    "    spot = name.index(word)\n",
    "    print(f'{spot} {word}')"
   ]
  },
  {
   "cell_type": "code",
   "execution_count": 153,
   "id": "7ca7ca18-80f4-4128-b1a0-5872ddb81960",
   "metadata": {},
   "outputs": [
    {
     "data": {
      "text/plain": [
       "[('kate', 2541), ('reyce', 1452), ('phill', 1782)]"
      ]
     },
     "execution_count": 153,
     "metadata": {},
     "output_type": "execute_result"
    }
   ],
   "source": [
    "#리스트 컴프리헨션으로 한다면?\n",
    "[word for word in zip(name, age)]\n",
    "\n",
    "[(i,j*33) for i,j in zip(name, age)] #따로 구하기 #i,j를 각자 따로 두어, 값을 변환시킬 수 있다."
   ]
  },
  {
   "cell_type": "code",
   "execution_count": 154,
   "id": "0007364a-fa56-40c7-94c9-b3b7ba03cb40",
   "metadata": {},
   "outputs": [
    {
     "data": {
      "text/plain": [
       "[('milk', 30), ('sugar', 500), ('water', 100), ('salt', 3)]"
      ]
     },
     "execution_count": 154,
     "metadata": {},
     "output_type": "execute_result"
    }
   ],
   "source": [
    "[word for word in zip(ingredient,g)]"
   ]
  },
  {
   "cell_type": "code",
   "execution_count": 155,
   "id": "004c2865-0290-4c27-a493-1d1c39cc7fdb",
   "metadata": {},
   "outputs": [],
   "source": [
    "#위 리스트컴프리헨션을 for문으로\n",
    "# name, age를 이용해서 새로운 리스트를 생성하는데 (이름,나이), for 문 사용"
   ]
  },
  {
   "cell_type": "code",
   "execution_count": 19,
   "id": "fd5e8c70-5c37-40a2-958f-a35a592a74b0",
   "metadata": {},
   "outputs": [
    {
     "name": "stdout",
     "output_type": "stream",
     "text": [
      "[('kate', 77), ('reyce', 44), ('phill', 54)]\n"
     ]
    }
   ],
   "source": [
    "new_list = []\n",
    "for i,j in zip(name,age):\n",
    "    new_list.append((i,j))\n",
    "print(new_list)"
   ]
  },
  {
   "cell_type": "code",
   "execution_count": null,
   "id": "a836d40a-5be2-414b-a873-acd19f4a941d",
   "metadata": {},
   "outputs": [],
   "source": [
    "[(i,j) for i,j in zip(name,age)]\n",
    "#for 문의 리스트 컴프리헨션으로 바꿔보기"
   ]
  },
  {
   "cell_type": "code",
   "execution_count": 20,
   "id": "a086b0dc-ab50-462d-b8d5-a93da2bc6d1b",
   "metadata": {},
   "outputs": [
    {
     "name": "stdout",
     "output_type": "stream",
     "text": [
      "kate 77\n",
      "kate 44\n",
      "kate 54\n",
      "reyce 77\n",
      "reyce 44\n",
      "reyce 54\n",
      "phill 77\n",
      "phill 44\n",
      "phill 54\n"
     ]
    }
   ],
   "source": [
    "for i in name:\n",
    "    for j in age:\n",
    "        print(i,j)"
   ]
  },
  {
   "cell_type": "code",
   "execution_count": 18,
   "id": "52fcf5cf-8596-4d6e-9272-45b208f6001d",
   "metadata": {},
   "outputs": [
    {
     "data": {
      "text/plain": [
       "[('kate', 77), ('reyce', 44), ('phill', 54)]"
      ]
     },
     "execution_count": 18,
     "metadata": {},
     "output_type": "execute_result"
    }
   ],
   "source": [
    "[(i,j) for i,j in zip(name,age)] # s내가 하던거"
   ]
  },
  {
   "cell_type": "code",
   "execution_count": 21,
   "id": "2992a17f-98cf-47b0-8b3b-0684c6b63eaf",
   "metadata": {},
   "outputs": [
    {
     "data": {
      "text/plain": [
       "[('kate', 77),\n",
       " ('reyce', 77),\n",
       " ('phill', 77),\n",
       " ('kate', 44),\n",
       " ('reyce', 44),\n",
       " ('phill', 44),\n",
       " ('kate', 54),\n",
       " ('reyce', 54),\n",
       " ('phill', 54)]"
      ]
     },
     "execution_count": 21,
     "metadata": {},
     "output_type": "execute_result"
    }
   ],
   "source": [
    "[(i,j) for j in age for i in name]"
   ]
  },
  {
   "cell_type": "code",
   "execution_count": null,
   "id": "5598be90-c27e-4bd6-9fdd-6f9b8139dc60",
   "metadata": {},
   "outputs": [],
   "source": [
    "#2 [i,j]가 리스트의 리스트로 바꿔보기 (리,컴)\n",
    "for i in name:\n",
    "    empty = []\n",
    "    for j in age:\n",
    "        print(i,j)\n",
    "        empty.append((i.j)\n",
    "    output.append(empty)"
   ]
  },
  {
   "cell_type": "code",
   "execution_count": 27,
   "id": "12916cf8-804f-449c-868d-cfcdd9740b18",
   "metadata": {},
   "outputs": [
    {
     "data": {
      "text/plain": [
       "[[('kate', 77), ('kate', 44), ('kate', 54)],\n",
       " [('reyce', 77), ('reyce', 44), ('reyce', 54)],\n",
       " [('phill', 77), ('phill', 44), ('phill', 54)]]"
      ]
     },
     "execution_count": 27,
     "metadata": {},
     "output_type": "execute_result"
    }
   ],
   "source": [
    "[[(i,j) for j in age] for i in name]"
   ]
  },
  {
   "cell_type": "code",
   "execution_count": 35,
   "id": "4e0f9193-1f37-4bfe-893f-f0f29eba573f",
   "metadata": {},
   "outputs": [
    {
     "data": {
      "text/plain": [
       "[('DO', 'Do', 2),\n",
       " ('NOT', 'Not', 3),\n",
       " ('JUDGE', 'Judge', 5),\n",
       " ('A', 'A', 1),\n",
       " ('BOOK', 'Book', 4),\n",
       " ('BY', 'By', 2),\n",
       " ('ITS', 'Its', 3),\n",
       " ('COVER', 'Cover', 5)]"
      ]
     },
     "execution_count": 35,
     "metadata": {},
     "output_type": "execute_result"
    }
   ],
   "source": [
    "sentence = \"do not judge a book by its cover\"\n",
    "\n",
    "[(word.upper(), word.title(), len(word)) for word in sentence.split()]\n",
    "\n",
    "# [(대문자, 첫글자 대문자 ,글자수),....] 튜플의 리스트를 만들기"
   ]
  },
  {
   "cell_type": "code",
   "execution_count": 5,
   "id": "22f87322-ffda-451d-8e1f-5a84b094233b",
   "metadata": {},
   "outputs": [],
   "source": [
    "text = [\n",
    "    ['Sunja','said','goodnight','to','her','mother'],\n",
    "    ['Hansu','was','no','longer','in','Busan']\n",
    "]\n",
    "#1. 문장마다 스트링으로 변화해서 리스트로 반환\n",
    "  # ['문장1','문장2']\n",
    "    \n",
    "#2. 전체를 스트링으로 변환\n",
    " # '문장1 문장2'\n",
    "    \n",
    "#3. 전체 단어 리스트 가져오기\n",
    " #[sunja,,,,,]"
   ]
  },
  {
   "cell_type": "code",
   "execution_count": 6,
   "id": "ddd699cd-a1dd-471b-a4d8-4325b1ddf4f2",
   "metadata": {},
   "outputs": [
    {
     "data": {
      "text/plain": [
       "['Sunja said goodnight to her mother', 'Hansu was no longer in Busan']"
      ]
     },
     "execution_count": 6,
     "metadata": {},
     "output_type": "execute_result"
    }
   ],
   "source": [
    "([' '.join(sent) for sent in text]) #1"
   ]
  },
  {
   "cell_type": "code",
   "execution_count": 7,
   "id": "2391e723-5f08-48a8-88f0-3eece43f6a59",
   "metadata": {},
   "outputs": [
    {
     "data": {
      "text/plain": [
       "'Sunja said goodnight to her mother Hansu was no longer in Busan'"
      ]
     },
     "execution_count": 7,
     "metadata": {},
     "output_type": "execute_result"
    }
   ],
   "source": [
    "' '.join(([' '.join(sent) for sent in text]))"
   ]
  },
  {
   "cell_type": "code",
   "execution_count": 17,
   "id": "c4fce58c-6920-4ed3-8231-36cab1c562ce",
   "metadata": {},
   "outputs": [
    {
     "data": {
      "text/plain": [
       "['Sunja',\n",
       " 'said',\n",
       " 'goodnight',\n",
       " 'to',\n",
       " 'her',\n",
       " 'mother',\n",
       " 'Hansu',\n",
       " 'was',\n",
       " 'no',\n",
       " 'longer',\n",
       " 'in',\n",
       " 'Busan']"
      ]
     },
     "execution_count": 17,
     "metadata": {},
     "output_type": "execute_result"
    }
   ],
   "source": [
    "[word for sent in text for word in sent] #3"
   ]
  },
  {
   "cell_type": "markdown",
   "id": "5059121b-ee52-46ca-8275-0e258f3f31f4",
   "metadata": {},
   "source": [
    "### list comprehension에서 if,else 사용 방법"
   ]
  },
  {
   "cell_type": "code",
   "execution_count": 1,
   "id": "74d8c82b-32aa-4094-bd26-549a88cd64b7",
   "metadata": {},
   "outputs": [
    {
     "data": {
      "text/plain": [
       "[0, 1, 2, 3, 4, 5, 6, 7, 8, 9]"
      ]
     },
     "execution_count": 1,
     "metadata": {},
     "output_type": "execute_result"
    }
   ],
   "source": [
    "[i for i in range(10)] #짝수를 가져오고, 홀수 = '홀수'"
   ]
  },
  {
   "cell_type": "code",
   "execution_count": 2,
   "id": "61b177ad-326e-47a8-89ee-08440c5c4a3d",
   "metadata": {},
   "outputs": [
    {
     "ename": "SyntaxError",
     "evalue": "invalid syntax (Temp/ipykernel_1784/1407011345.py, line 1)",
     "output_type": "error",
     "traceback": [
      "\u001b[1;36m  File \u001b[1;32m\"C:\\Users\\USER\\AppData\\Local\\Temp/ipykernel_1784/1407011345.py\"\u001b[1;36m, line \u001b[1;32m1\u001b[0m\n\u001b[1;33m    [i for i in range(10) if i%2 == 0 else '홀수'] #잘못됨\u001b[0m\n\u001b[1;37m                                      ^\u001b[0m\n\u001b[1;31mSyntaxError\u001b[0m\u001b[1;31m:\u001b[0m invalid syntax\n"
     ]
    }
   ],
   "source": [
    "[i for i in range(10) if i%2 == 0 else '홀수'] #잘못됨"
   ]
  },
  {
   "cell_type": "code",
   "execution_count": 3,
   "id": "cc470b4b-b56d-4ae0-8a2c-9750645e7b62",
   "metadata": {},
   "outputs": [
    {
     "data": {
      "text/plain": [
       "[0, '홀수', 2, '홀수', 4, '홀수', 6, '홀수', 8, '홀수']"
      ]
     },
     "execution_count": 3,
     "metadata": {},
     "output_type": "execute_result"
    }
   ],
   "source": [
    "[i if i%2 == 0 else '홀수' for i in range(10)]"
   ]
  },
  {
   "cell_type": "code",
   "execution_count": null,
   "id": "c675d47d-c584-46d3-973e-a5b7342433e4",
   "metadata": {},
   "outputs": [],
   "source": [
    "# 과제\n",
    "# brown 정제하기\n",
    "\n",
    "brown.raw(categories='romance')[:500] #[['They','neigher','liked'....],[]]\n",
    "# 문장 분절 > 단어 분절\n",
    "# 불필요한것들 제거하기\n",
    "  - 문장부호, pos,\n",
    " - 's, 'nt > she, 's / do, 'nt\n",
    " - 'fly-dotted' > fly,dotted"
   ]
  },
  {
   "cell_type": "code",
   "execution_count": null,
   "id": "2d429056-7c5d-49cd-a737-16a20e5fcdd6",
   "metadata": {},
   "outputs": [],
   "source": []
  }
 ],
 "metadata": {
  "kernelspec": {
   "display_name": "Python 3 (ipykernel)",
   "language": "python",
   "name": "python3"
  },
  "language_info": {
   "codemirror_mode": {
    "name": "ipython",
    "version": 3
   },
   "file_extension": ".py",
   "mimetype": "text/x-python",
   "name": "python",
   "nbconvert_exporter": "python",
   "pygments_lexer": "ipython3",
   "version": "3.9.7"
  }
 },
 "nbformat": 4,
 "nbformat_minor": 5
}
