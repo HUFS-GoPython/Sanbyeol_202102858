{
 "cells": [
  {
   "cell_type": "code",
   "execution_count": null,
   "id": "b0b584a6-8487-4966-8468-41dec03d49eb",
   "metadata": {},
   "outputs": [],
   "source": [
    "#김현지, 남호석, 이승주, 장정아, 추병진\n",
    "# 시험장소 : 대학원 6411"
   ]
  },
  {
   "cell_type": "code",
   "execution_count": null,
   "id": "b582dddc-c7f8-4c55-8afb-959caef62b41",
   "metadata": {},
   "outputs": [],
   "source": [
    "# good’un, myst’ry, C’mon, an'\n",
    "같은 것은 고민해보라\n",
    "답은 딱히 없다\n",
    "정제를 해달라했다면, 어떻게 잘 할지\n",
    "의도들은 # 주석으로 작성해라"
   ]
  },
  {
   "cell_type": "code",
   "execution_count": null,
   "id": "d6857d65-d86d-4962-a5b5-fb6a14bfbe46",
   "metadata": {},
   "outputs": [],
   "source": [
    "cased, 대,소문자 다 살아있다.\n",
    "uncased "
   ]
  },
  {
   "cell_type": "markdown",
   "id": "46cf8c76-3569-45cc-9591-886a9c9a5e93",
   "metadata": {},
   "source": [
    "### 함수"
   ]
  },
  {
   "cell_type": "code",
   "execution_count": null,
   "id": "67a81b90-8355-471d-9e55-6fa5b99011e8",
   "metadata": {},
   "outputs": [],
   "source": [
    "1. 정의\n",
    "2. 인수\n",
    "3. 호출 방식"
   ]
  },
  {
   "cell_type": "code",
   "execution_count": null,
   "id": "be2f8a39-760a-4073-95db-76310e749fab",
   "metadata": {},
   "outputs": [],
   "source": [
    " 1.정의\n",
    "- 함수란 코드의덩어리, 코드의 묶음\n",
    "ex) 구구단을 하나로 묶은거를 덩어리, \n",
    "- 간편하게 재사용을 위해 - 코드가 아무리 길어도 한 줄로 재사용 가능하다.\n",
    "- 함수의 가장 큰 장점, \n",
    "- 정의 부분(define)+호출 부분이 있다.(call)\n",
    "  - 정의하기 :\n",
    "        def 함수이름(매개변수1,2,3,.......):\n",
    "            수행문구1 (매개변수를 이용)\n",
    "            수행문2\n",
    "            \n",
    "            return 반환값#출력\n",
    "        \n",
    "  - 호출\n",
    "    함수이름(인수1,2,3,4,....)\n",
    "- (매개변수, 리턴값이 꼭없어도 된다)\n",
    "\n",
    "종류 4개\n",
    "1. 돌다 없는\n",
    "2. 둘다 있는\n",
    "3. 매개변수만 있는\n",
    "4. 반한값만 있는"
   ]
  },
  {
   "cell_type": "code",
   "execution_count": null,
   "id": "2dc04c4d-b695-409f-9c97-839609001a09",
   "metadata": {},
   "outputs": [],
   "source": [
    "y = x +1 #x = 매개변수, y = 반환값 / x+1은 수행문 # 둘 다 있는 케이스"
   ]
  },
  {
   "cell_type": "code",
   "execution_count": 1,
   "id": "8e52a8ec-d7f1-422e-9562-0ce59a6aee30",
   "metadata": {},
   "outputs": [],
   "source": [
    "def ex(x):\n",
    "    y = x + 1\n",
    "    return y"
   ]
  },
  {
   "cell_type": "code",
   "execution_count": 2,
   "id": "7e412dfd-865e-4bd5-87f7-f6778e6f4548",
   "metadata": {},
   "outputs": [
    {
     "data": {
      "text/plain": [
       "4"
      ]
     },
     "execution_count": 2,
     "metadata": {},
     "output_type": "execute_result"
    }
   ],
   "source": [
    "ex(3)"
   ]
  },
  {
   "cell_type": "code",
   "execution_count": null,
   "id": "47b19fb0-0206-48d4-9da8-9fca791c0023",
   "metadata": {},
   "outputs": [],
   "source": [
    "def ex(x):\n",
    "    return x +1\n",
    "# 얘도 가능"
   ]
  },
  {
   "cell_type": "markdown",
   "id": "87bbfa38-0587-4041-b038-af547f4f7b67",
   "metadata": {},
   "source": [
    "###1, 둘다 없는 케이스"
   ]
  },
  {
   "cell_type": "code",
   "execution_count": null,
   "id": "6f48587f-3920-466d-8941-71e8dbe3074e",
   "metadata": {},
   "outputs": [],
   "source": [
    "def make_a_sound():\n",
    "    print('quack')\n",
    "    # returm None\n",
    "    \n",
    "make_a_sound()\n",
    "# 변수로 받지 않는다."
   ]
  },
  {
   "cell_type": "code",
   "execution_count": null,
   "id": "33c66ec1-b5f8-4a7e-9d67-96a36b4130fb",
   "metadata": {},
   "outputs": [],
   "source": [
    "#3. 매개변수만 있는\n",
    "def make_a_sound(sound):\n",
    "    print(sound)\n",
    "    \n",
    "make_a_sound('ho')"
   ]
  },
  {
   "cell_type": "code",
   "execution_count": 3,
   "id": "912690cd-d0df-43b6-9848-646132d000c9",
   "metadata": {},
   "outputs": [
    {
     "name": "stdout",
     "output_type": "stream",
     "text": [
      "splendid\n"
     ]
    }
   ],
   "source": [
    "#4 반환값만 있는\n",
    "def agree():\n",
    "    return True\n",
    "if agree():\n",
    "    print('splendid')\n",
    "else:\n",
    "    print('unpected')"
   ]
  },
  {
   "cell_type": "code",
   "execution_count": null,
   "id": "f34cf634-ef13-447c-a72d-8ef272f54972",
   "metadata": {},
   "outputs": [],
   "source": [
    "- 이름 짓기\n",
    " -# 이름 신경써서 보내기\n",
    " - 소문자만 사용한다.\n",
    " - 동작과 관련되어 있기 때문에, '동사+명사'의 형태 주로 씀\n",
    " - 클래스는 주로 명사, 함수는 동작 \n",
    " # word() X , split_word() o, splitWord 가능하긴하나 지양\n",
    " - 줄임말 쓰지 말 것 / 명로하게 짓는다. \n",
    " # splt_word \n",
    "# 코더 들끼리 정한 줄임말은 가능하지만, 자기 혼자서는 하지마라"
   ]
  },
  {
   "cell_type": "code",
   "execution_count": null,
   "id": "d257aa61-f084-4e2e-a183-08128f17f391",
   "metadata": {},
   "outputs": [],
   "source": [
    "2. 인수\n",
    "- 매개변수 vs 인수\n",
    "- 위치 인수\n",
    "- 키워드 인수\n",
    "- 디폴트 인수"
   ]
  },
  {
   "cell_type": "code",
   "execution_count": null,
   "id": "87ae9ea7-9254-4f4c-ad71-a64be09f3463",
   "metadata": {},
   "outputs": [],
   "source": [
    "매개변수 vs 인수\n",
    "- 매개변수 : 함수 내부(interpace 인터페이스)에서 유효한 변수 # 함수를 빠져나오면 사용 불가능\n",
    "- 인수 : 실제 매개변수에 대입되는 변수\n",
    "- 호출 시에 인수가 매개변수에 복제된다. ho가 sound에 대입이 된다."
   ]
  },
  {
   "cell_type": "code",
   "execution_count": null,
   "id": "04e64629-4c2c-40aa-b557-f5a3c9a4eda6",
   "metadata": {},
   "outputs": [],
   "source": [
    "위치인수\n",
    "- positional argument\n",
    "- 매개변수를 값에 순서에 상응하게 복제함"
   ]
  },
  {
   "cell_type": "code",
   "execution_count": null,
   "id": "d4b58777-a8e7-44b9-9645-a1c6bf73d1a6",
   "metadata": {},
   "outputs": [],
   "source": [
    "키워드 인수\n",
    "- 매개변수 키워드에 맞는 인수로 지정 > 위치달라도 됨"
   ]
  },
  {
   "cell_type": "code",
   "execution_count": null,
   "id": "4adad8b4-3e76-445d-bb12-1f3e17310cf1",
   "metadata": {},
   "outputs": [],
   "source": [
    "디폴트 인수\n",
    "- 매개변수를 정의 할때 미리 값을 지정해놓아서\n",
    "- 호출 시에 값이 입력되지 않으면 디폴트 값을 사용한다.\n",
    "- 디폴트 값이 언디폴트 값 앞에 위치할수 없다. "
   ]
  },
  {
   "cell_type": "code",
   "execution_count": null,
   "id": "3d1cf34c-2b6d-4844-8617-8f7cc7b1c146",
   "metadata": {},
   "outputs": [],
   "source": [
    "def make_a_sound(sound): #sound = 매개변수, yay= 인수\n",
    "    print(sound)\n",
    "\n",
    "ho = 'ho'\n",
    "make_a_sound(ho)"
   ]
  },
  {
   "cell_type": "code",
   "execution_count": 8,
   "id": "78cd2dc8-e18d-46e0-892f-5df130187f7d",
   "metadata": {
    "tags": []
   },
   "outputs": [
    {
     "data": {
      "text/plain": [
       "'black'"
      ]
     },
     "execution_count": 8,
     "metadata": {},
     "output_type": "execute_result"
    }
   ],
   "source": [
    "def commentary(color):\n",
    "    if color == 'g':\n",
    "        return 'green'\n",
    "    else:\n",
    "        return 'black'\n",
    "\n",
    "color = 'white'\n",
    "commentary(color)\n"
   ]
  },
  {
   "cell_type": "code",
   "execution_count": 9,
   "id": "b08cfbaa-09fc-4c88-9604-8ccb81ee4627",
   "metadata": {},
   "outputs": [
    {
     "name": "stdout",
     "output_type": "stream",
     "text": [
      "<function commentary at 0x0000018880710D30>\n",
      "<function commentary at 0x0000018880710D30>\n",
      "<function commentary at 0x0000018880710D30>\n"
     ]
    }
   ],
   "source": [
    "colors = ['g','b','t']\n",
    "\n",
    "for color in colors:\n",
    "    print(commentary)"
   ]
  },
  {
   "cell_type": "code",
   "execution_count": 13,
   "id": "f2ab352b-8947-4697-8390-347cc7bc5352",
   "metadata": {},
   "outputs": [
    {
     "data": {
      "text/plain": [
       "{'wine': 'a', 'entree': 'b', 'dessert': 'c'}"
      ]
     },
     "execution_count": 13,
     "metadata": {},
     "output_type": "execute_result"
    }
   ],
   "source": [
    "# 위치인수\n",
    "def menu (wine,entree,dessert):\n",
    "    return{'wine': wine,'entree':entree,'dessert':dessert}\n",
    "\n",
    "menu('a','b','c')"
   ]
  },
  {
   "cell_type": "code",
   "execution_count": null,
   "id": "5f09e812-d064-4412-8ba7-dec5aadf7ccc",
   "metadata": {},
   "outputs": [],
   "source": []
  },
  {
   "cell_type": "code",
   "execution_count": null,
   "id": "63e1027e-fba1-4b8f-81e0-36429796d7eb",
   "metadata": {},
   "outputs": [],
   "source": [
    "# 키워트\n",
    "menu(entree ='a', dessert ='b',wine = 'c')"
   ]
  },
  {
   "cell_type": "code",
   "execution_count": 15,
   "id": "4d0895a1-6daa-4df8-80d3-38bd33f4ef90",
   "metadata": {},
   "outputs": [
    {
     "data": {
      "text/plain": [
       "{'wine': 'rioja', 'entree': 'egg', 'dessert': 'strawberry'}"
      ]
     },
     "execution_count": 15,
     "metadata": {},
     "output_type": "execute_result"
    }
   ],
   "source": [
    "# 디폴트\n",
    "def menu2 (wine,entree,dessert = 'strawberry'):\n",
    "    return{'wine': wine,'entree':entree,'dessert':dessert}\n",
    "# 정해진게 앞에 있으면 안됨다.\n",
    "\n",
    "menu2('rioja','egg') # 두개 입력했는데 세개 출력, 디저트는 디폴트 값을값으로 출력됨"
   ]
  },
  {
   "cell_type": "code",
   "execution_count": null,
   "id": "e5fe6949-f198-4356-b88c-47f833e05658",
   "metadata": {},
   "outputs": [],
   "source": [
    "#### 3. 호출방식\n",
    "- 정의는 호출 시 실행된다.\n",
    "- 정의는 메모리에 정되어 있다가, 호출시에 사용된다. \n",
    "- 매개변수,vs 인수 : 매개변수는 x,y 인수는 i,j  : 인수가 매개변수에 복제된다.\n",
    "       -참조에 의한 호출(call by reference)\n",
    "       - 얖은 복제랑 비슷\n",
    "        - '매개변수 = 인수' copy되기 때문에 나타나는 문제점\n",
    "        - 리스트처러 ㅁ가변 객체일때, 값이 바뀌면서 같이 바뀜(주소값을 공유하기 때문이다.)"
   ]
  },
  {
   "cell_type": "code",
   "execution_count": 16,
   "id": "9d992ff1-b7b2-4df9-9df1-913a0c5861bb",
   "metadata": {},
   "outputs": [
    {
     "name": "stdout",
     "output_type": "stream",
     "text": [
      "2\n",
      "3\n",
      "1\n",
      "4\n"
     ]
    }
   ],
   "source": [
    "def multiply(x,y):\n",
    "    print('1')\n",
    "    return x+y\n",
    "\n",
    "print('2')\n",
    "i = 2\n",
    "j = 4\n",
    "\n",
    "print('3')\n",
    "multiply(i,j) # i=2, j=4 > x=i, y=j (i,j의 id가 복제됨)\n",
    "\n",
    "print('4')"
   ]
  },
  {
   "cell_type": "code",
   "execution_count": 17,
   "id": "599341a1-9e3d-4c36-bf4f-191757318b6a",
   "metadata": {},
   "outputs": [
    {
     "name": "stdout",
     "output_type": "stream",
     "text": [
      "['a']\n",
      "['a', 'b']\n"
     ]
    }
   ],
   "source": [
    "def buggy(arg,result=[]):\n",
    "    result.append(arg)\n",
    "    print(result)\n",
    "\n",
    "a, b = 'a','b'    \n",
    "buggy(a) # 예상 : ['a']\n",
    "buggy(b) # ['b']\n",
    "# 결과 값이 쌓이는 이유는 리스트로, 복제가 되기 때문에"
   ]
  },
  {
   "cell_type": "code",
   "execution_count": 18,
   "id": "c12d4114-e2db-4725-b5a7-66b851d35f82",
   "metadata": {},
   "outputs": [
    {
     "name": "stdout",
     "output_type": "stream",
     "text": [
      "['a']\n",
      "['b']\n"
     ]
    }
   ],
   "source": [
    "def buggy(arg,result=[]):\n",
    "    result = [] # 가변객체 리스트 넣는 것 주의\n",
    "    result.append(arg)\n",
    "    print(result)\n",
    "\n",
    "a, b = 'a','b'    \n",
    "buggy(a) \n",
    "buggy(b) "
   ]
  },
  {
   "cell_type": "code",
   "execution_count": null,
   "id": "fe9998b4-ffbf-4a40-81fd-b10b16379abd",
   "metadata": {},
   "outputs": [],
   "source": [
    "# 둘다 조건식으로 포함하는 함수로 변경하기. \n",
    "def nonbuggy(arg,result=[]):\n",
    "    # 리스트가 없으면, 빈리스트를 생성하고, 있으면 그거 써라\n",
    "    if result in None:\n",
    "        result = []\n",
    "    \n",
    "    result.append(arg)\n",
    "    print(result)\n",
    "\n",
    "    \n",
    "# 없는 값, 아무것도 없다 : None"
   ]
  },
  {
   "cell_type": "code",
   "execution_count": 21,
   "id": "be7383ad-ecf8-47c9-9119-7dec692cfdda",
   "metadata": {},
   "outputs": [
    {
     "name": "stdout",
     "output_type": "stream",
     "text": [
      "['c', 'a']\n",
      "['c', 'a', 'b']\n"
     ]
    }
   ],
   "source": [
    "# 또 다른 방법둘다 조건식으로 포함하는 함수로 변경하기. \n",
    "def nonbuggy(arg,result=None):\n",
    "    # 리스트가 없으면, 빈리스트를 생성하고, 있으면 그거 써라\n",
    "    if result is None:\n",
    "        result = []\n",
    "    \n",
    "    result.append(arg)\n",
    "    print(result)\n",
    "\n",
    "empty = ['c']\n",
    "nonbuggy(a,empty)\n",
    "nonbuggy(b,empty)\n",
    "\n",
    "# ==은 value 값이 같은것, is는 id도 같은것"
   ]
  },
  {
   "cell_type": "code",
   "execution_count": 19,
   "id": "ade79d5a-3915-4261-a953-cb1ed468ef06",
   "metadata": {},
   "outputs": [
    {
     "name": "stdout",
     "output_type": "stream",
     "text": [
      "None\n"
     ]
    }
   ],
   "source": [
    "thing = None\n",
    "\n",
    "if thing:\n",
    "    print('True')\n",
    "elif thing == False:\n",
    "    print(False)\n",
    "else:\n",
    "    print('None')"
   ]
  },
  {
   "cell_type": "code",
   "execution_count": 22,
   "id": "98e6ff1d-3808-481e-a93e-0a930213954b",
   "metadata": {},
   "outputs": [
    {
     "name": "stdout",
     "output_type": "stream",
     "text": [
      "london\n",
      "paris\n"
     ]
    }
   ],
   "source": [
    "def fx():\n",
    "    city = 'london' #지역변수 , 함수안에서만 사용, 전체에서 사용하고 싶다면, 전역변수 사용\n",
    "    print(city)\n",
    "    \n",
    "city= 'paris'\n",
    "fx()  # city = laondon인데 , 파리가 나옴\n",
    "print(city)"
   ]
  },
  {
   "cell_type": "code",
   "execution_count": 23,
   "id": "18dc26ab-f4e4-4eaa-84dc-422867dad0cf",
   "metadata": {},
   "outputs": [
    {
     "name": "stdout",
     "output_type": "stream",
     "text": [
      "london\n",
      "london\n"
     ]
    }
   ],
   "source": [
    "def fx():\n",
    "    global city # 전역변수\n",
    "    city = 'london' #지역변수 , 함수안에서만 사용, 전체에서 사용하고 싶다면, 전역변수 사용\n",
    "    print(city)\n",
    "    \n",
    "city= 'paris'\n",
    "fx()  # city = laondon인데 , 파리가 나옴\n",
    "print(city)"
   ]
  },
  {
   "cell_type": "code",
   "execution_count": null,
   "id": "5836a87e-0147-4a7d-92bf-d9e1af384918",
   "metadata": {},
   "outputs": [],
   "source": [
    "# 리턴 값이 있다는 것은 \n",
    "변수를 받아서 사용가능 함\n",
    "# 리턴 값이 없으면, 그냥 프린트를 하는 것"
   ]
  },
  {
   "cell_type": "code",
   "execution_count": null,
   "id": "5041462a-0d91-4609-8934-d7e772739e3c",
   "metadata": {},
   "outputs": [],
   "source": [
    "# doc string\n",
    "- 함수 설명\n",
    "- 매개변수 타입, 의미, 함수 기능을 설명\n",
    "-\n",
    "\"\"\"\n",
    "\n",
    "독스트링 작성\n",
    "\n",
    "\"\"\""
   ]
  },
  {
   "cell_type": "code",
   "execution_count": null,
   "id": "5fcd6987-9359-41f5-b606-26ba403258c9",
   "metadata": {},
   "outputs": [],
   "source": [
    "def nonbuggy(arg,result=[]):\n",
    "    \"\"\"\n",
    "    arg: str, 꽃 이름\n",
    "    이런 설명들을 써넣는다. \n",
    "    \n",
    "    \n",
    "    \n",
    "    \"\"\"\n",
    "    if result in None:\n",
    "        result = []\n",
    "    \n",
    "    result.append(arg)\n",
    "    print(result)"
   ]
  },
  {
   "cell_type": "code",
   "execution_count": null,
   "id": "d3c1493a-a4b1-4b57-a2b6-7824efac9188",
   "metadata": {},
   "outputs": [],
   "source": [
    "# 독스트링 확인\n",
    "hlep(함수이름)\n",
    "함수이름.__doc__"
   ]
  },
  {
   "cell_type": "code",
   "execution_count": null,
   "id": "9c25951f-891a-4fb1-89e6-2e1d22bf688a",
   "metadata": {},
   "outputs": [],
   "source": [
    "# 나이 > 연도\n",
    "# 함수 : 입력 값 = 나이, 반환 값 = 연도\n",
    "# 호출할때 나이 = input 받기"
   ]
  },
  {
   "cell_type": "code",
   "execution_count": 25,
   "id": "3c8e29c8-659a-4f83-95a8-2b744b5d812f",
   "metadata": {},
   "outputs": [
    {
     "name": "stdin",
     "output_type": "stream",
     "text": [
      "나이를 입력해주세요: 23\n"
     ]
    },
    {
     "ename": "TypeError",
     "evalue": "age_to_year() missing 1 required positional argument: 'age'",
     "output_type": "error",
     "traceback": [
      "\u001b[1;31m---------------------------------------------------------------------------\u001b[0m",
      "\u001b[1;31mTypeError\u001b[0m                                 Traceback (most recent call last)",
      "\u001b[1;32m~\\AppData\\Local\\Temp/ipykernel_11636/2843062067.py\u001b[0m in \u001b[0;36m<module>\u001b[1;34m\u001b[0m\n\u001b[0;32m      4\u001b[0m     \u001b[1;32mreturn\u001b[0m \u001b[0myear\u001b[0m\u001b[1;33m\u001b[0m\u001b[1;33m\u001b[0m\u001b[0m\n\u001b[0;32m      5\u001b[0m \u001b[1;33m\u001b[0m\u001b[0m\n\u001b[1;32m----> 6\u001b[1;33m \u001b[0mage_to_year\u001b[0m\u001b[1;33m(\u001b[0m\u001b[1;33m)\u001b[0m\u001b[1;33m\u001b[0m\u001b[1;33m\u001b[0m\u001b[0m\n\u001b[0m",
      "\u001b[1;31mTypeError\u001b[0m: age_to_year() missing 1 required positional argument: 'age'"
     ]
    }
   ],
   "source": [
    "age = int(input('나이를 입력해주세요:'))\n",
    "def age_to_year(age):\n",
    "    \n",
    "    year = 2022 - age +1\n",
    "    return year\n",
    "    \n",
    "age_to_year()"
   ]
  },
  {
   "cell_type": "code",
   "execution_count": 26,
   "id": "95203365-a55e-4219-9435-8f8758398ebd",
   "metadata": {},
   "outputs": [
    {
     "name": "stdin",
     "output_type": "stream",
     "text": [
      "나이를 입력해주세요: 34\n",
      "나이를 입력해주세요: fg\n"
     ]
    },
    {
     "ename": "ValueError",
     "evalue": "invalid literal for int() with base 10: 'fg'",
     "output_type": "error",
     "traceback": [
      "\u001b[1;31m---------------------------------------------------------------------------\u001b[0m",
      "\u001b[1;31mValueError\u001b[0m                                Traceback (most recent call last)",
      "\u001b[1;32m~\\AppData\\Local\\Temp/ipykernel_11636/935149978.py\u001b[0m in \u001b[0;36m<module>\u001b[1;34m\u001b[0m\n\u001b[0;32m      4\u001b[0m     \u001b[1;32mreturn\u001b[0m \u001b[0mthis_year\u001b[0m \u001b[1;33m-\u001b[0m \u001b[0mage\u001b[0m \u001b[1;33m+\u001b[0m\u001b[1;36m1\u001b[0m\u001b[1;33m\u001b[0m\u001b[1;33m\u001b[0m\u001b[0m\n\u001b[0;32m      5\u001b[0m \u001b[1;33m\u001b[0m\u001b[0m\n\u001b[1;32m----> 6\u001b[1;33m \u001b[0mage\u001b[0m \u001b[1;33m=\u001b[0m \u001b[0mint\u001b[0m\u001b[1;33m(\u001b[0m\u001b[0minput\u001b[0m\u001b[1;33m(\u001b[0m\u001b[1;34m'나이를 입력해주세요:'\u001b[0m\u001b[1;33m)\u001b[0m\u001b[1;33m)\u001b[0m\u001b[1;33m\u001b[0m\u001b[1;33m\u001b[0m\u001b[0m\n\u001b[0m\u001b[0;32m      7\u001b[0m \u001b[0mpint\u001b[0m\u001b[1;33m(\u001b[0m\u001b[0mage_to_year\u001b[0m\u001b[1;33m(\u001b[0m\u001b[1;33m)\u001b[0m\u001b[1;33m)\u001b[0m\u001b[1;33m\u001b[0m\u001b[1;33m\u001b[0m\u001b[0m\n",
      "\u001b[1;31mValueError\u001b[0m: invalid literal for int() with base 10: 'fg'"
     ]
    }
   ],
   "source": [
    "age = int(input('나이를 입력해주세요:'))\n",
    "def age_to_year(age):\n",
    "    this_year = 2022\n",
    "    return this_year - age +1\n",
    "    \n",
    "age = int(input('나이를 입력해주세요:'))\n",
    "pint( age_to_year ())"
   ]
  },
  {
   "cell_type": "markdown",
   "id": "29a168c5-c8cd-4d58-817d-5b4579c5268e",
   "metadata": {},
   "source": [
    "### 브라운 과제 정제하기"
   ]
  },
  {
   "cell_type": "code",
   "execution_count": null,
   "id": "851fb4a9-894e-44c7-9aa2-bef3afcad3c9",
   "metadata": {},
   "outputs": [],
   "source": [
    "\n",
    "1.문장분절하기\n",
    "2.단어분절하기\n",
    " 3. 문장부호 제거\n",
    " 4.하이픈 'ㄴ\n",
    "위의 것을 함수로 만들어라"
   ]
  },
  {
   "cell_type": "code",
   "execution_count": 3,
   "id": "f15afaa3-da3f-4e06-9d03-2b6581d89b89",
   "metadata": {
    "tags": []
   },
   "outputs": [
    {
     "name": "stderr",
     "output_type": "stream",
     "text": [
      "[nltk_data] Downloading package brown to\n",
      "[nltk_data]     C:\\Users\\USER\\AppData\\Roaming\\nltk_data...\n",
      "[nltk_data]   Package brown is already up-to-date!\n"
     ]
    },
    {
     "data": {
      "text/plain": [
       "'\\n\\n\\tThey/ppss neither/cc liked/vbd nor/cc disliked/vbd the/at Old/jj-tl Man/nn-tl ./.\\nTo/in them/ppo he/pps could/md have/hv been/ben the/at broken/vbn bell/nn in/in the/at church/nn tower/nn which/wdt rang/vbd before/in and/cc after/in Mass/nn-tl ,/, and/cc at/in noon/nn ,/, and/cc at/in six/cd each/dt evening/nn --/-- its/pp$ tone/nn ,/, repetitive/jj ,/, monotonous/jj ,/, never/rb breaking/vbg the/at boredom/nn of/in the/at streets/nns ./.\\nThe/at Old/jj-tl Man/nn-tl was/bedz unimportant/jj ./.\\n\\n\\n\\tYet/rb if/cs he/pps were/bed not/* there/rb ,/, they/ppss would/md have/hv missed/vbn him/ppo ,/, as/cs they/ppss would/md have/hv missed/vbn the/at sounds/nns of/in bees/nns buzzing/vbg against/in the/at screen/nn door/nn in/in early/jj June/np ;/. ;/.\\nor/cc the/at smell/nn of/in thick/jj tomato/nn paste/nn --/-- the/at ripe/jj smell/nn that/wps was/bedz both/abx sweet/jj and/cc sour/jj --/-- rising/vbg up/rp from/in aluminum/nn trays/nns wrapped/vbn in/in fly-dotted/jj cheesecloth/nn ./.\\nO'"
      ]
     },
     "execution_count": 3,
     "metadata": {},
     "output_type": "execute_result"
    }
   ],
   "source": [
    "import string\n",
    "import nltk\n",
    "\n",
    "nltk.download('brown')\n",
    "brown = nltk.corpus.brown\n",
    "romance = brown.raw(categories='romance')[:1000]\n",
    "romance"
   ]
  },
  {
   "cell_type": "code",
   "execution_count": 4,
   "id": "037f2c3c-6ee6-493a-b570-8999c4c977ae",
   "metadata": {},
   "outputs": [
    {
     "data": {
      "text/plain": [
       "'They/ppss neither/cc liked/vbd nor/cc disliked/vbd the/at Old/jj-tl Man/nn-tl .'"
      ]
     },
     "execution_count": 4,
     "metadata": {},
     "output_type": "execute_result"
    }
   ],
   "source": [
    "# 문장 분절\n",
    "#./.\n",
    "#/. > 느낌 표 처리 가능\n",
    "# 근데 !로 끝나는 문장은 어떻게 해? > /. 으\n",
    "# 필요없는 공백 지우기. \n",
    "sentences =[sent.strip() for sent in romance.split('/.')]\n",
    "sentences = [s for s in sentences if s != '!']\n",
    "sentences[0]\n",
    "\n",
    "# !를 . 으로 바꾸고 그 당음에 처리하는것도 좋음"
   ]
  },
  {
   "cell_type": "code",
   "execution_count": null,
   "id": "d33379ce-5c3b-440d-aaa6-486bcb192234",
   "metadata": {},
   "outputs": [],
   "source": [
    "### 단어 분절\n",
    "- sentence > pos제거, 단어 분절"
   ]
  },
  {
   "cell_type": "code",
   "execution_count": 5,
   "id": "ce2b6fb5-1186-4864-8705-fcdf65fad4dd",
   "metadata": {},
   "outputs": [],
   "source": [
    "SLASH = '/'"
   ]
  },
  {
   "cell_type": "code",
   "execution_count": 42,
   "id": "148f08ec-a94b-40eb-83e7-90a5d162d88e",
   "metadata": {},
   "outputs": [
    {
     "data": {
      "text/plain": [
       "['They', 'neither', 'liked', 'nor', 'disliked', 'the', 'Old', 'Man', '.']"
      ]
     },
     "execution_count": 42,
     "metadata": {},
     "output_type": "execute_result"
    }
   ],
   "source": [
    "ex = sentences[0]\n",
    "[word[:word.find(SLASH)] if word[:word.find(SLASH)] else word for word in ex.split() ]"
   ]
  },
  {
   "cell_type": "code",
   "execution_count": 46,
   "id": "9ec58f50-dd15-4c3a-9297-1e10cde39169",
   "metadata": {
    "tags": []
   },
   "outputs": [],
   "source": [
    "# w전체 문장에 적용하기\n",
    "sentence_tokens = [[word[:word.find(SLASH)] \\\n",
    " if word[:word.find(SLASH)] else word \\ # 펑츄에이션이면 버려라를 추가하면 된다. \n",
    " for word in ex.split()] for ex in sentences]"
   ]
  },
  {
   "cell_type": "code",
   "execution_count": 49,
   "id": "db8c0f32-4d8d-41b8-9894-1614f33f6594",
   "metadata": {
    "collapsed": true,
    "jupyter": {
     "outputs_hidden": true
    },
    "tags": []
   },
   "outputs": [
    {
     "data": {
      "text/plain": [
       "['!',\n",
       " '\"',\n",
       " '#',\n",
       " '$',\n",
       " '%',\n",
       " '&',\n",
       " \"'\",\n",
       " '(',\n",
       " ')',\n",
       " '*',\n",
       " '+',\n",
       " ',',\n",
       " '-',\n",
       " '.',\n",
       " '/',\n",
       " ':',\n",
       " ';',\n",
       " '<',\n",
       " '=',\n",
       " '>',\n",
       " '?',\n",
       " '@',\n",
       " '[',\n",
       " '\\\\',\n",
       " ']',\n",
       " '^',\n",
       " '_',\n",
       " '`',\n",
       " '{',\n",
       " '|',\n",
       " '}',\n",
       " '~']"
      ]
     },
     "execution_count": 49,
     "metadata": {},
     "output_type": "execute_result"
    }
   ],
   "source": [
    "punct = list(string.punctuation)\n",
    "punct"
   ]
  },
  {
   "cell_type": "code",
   "execution_count": 50,
   "id": "8e6e060d-7ff3-4d6c-9507-36871d35fedc",
   "metadata": {
    "collapsed": true,
    "jupyter": {
     "outputs_hidden": true
    },
    "tags": []
   },
   "outputs": [
    {
     "data": {
      "text/plain": [
       "[['They', 'neither', 'liked', 'nor', 'disliked', 'the', 'Old', 'Man'],\n",
       " ['To',\n",
       "  'them',\n",
       "  'he',\n",
       "  'could',\n",
       "  'have',\n",
       "  'been',\n",
       "  'the',\n",
       "  'broken',\n",
       "  'bell',\n",
       "  'in',\n",
       "  'the',\n",
       "  'church',\n",
       "  'tower',\n",
       "  'which',\n",
       "  'rang',\n",
       "  'before',\n",
       "  'and',\n",
       "  'after',\n",
       "  'Mass',\n",
       "  'and',\n",
       "  'at',\n",
       "  'noon',\n",
       "  'and',\n",
       "  'at',\n",
       "  'six',\n",
       "  'each',\n",
       "  'evening',\n",
       "  '--',\n",
       "  'its',\n",
       "  'tone',\n",
       "  'repetitive',\n",
       "  'monotonous',\n",
       "  'never',\n",
       "  'breaking',\n",
       "  'the',\n",
       "  'boredom',\n",
       "  'of',\n",
       "  'the',\n",
       "  'streets'],\n",
       " ['The', 'Old', 'Man', 'was', 'unimportant'],\n",
       " ['Yet',\n",
       "  'if',\n",
       "  'he',\n",
       "  'were',\n",
       "  'not',\n",
       "  'there',\n",
       "  'they',\n",
       "  'would',\n",
       "  'have',\n",
       "  'missed',\n",
       "  'him',\n",
       "  'as',\n",
       "  'they',\n",
       "  'would',\n",
       "  'have',\n",
       "  'missed',\n",
       "  'the',\n",
       "  'sounds',\n",
       "  'of',\n",
       "  'bees',\n",
       "  'buzzing',\n",
       "  'against',\n",
       "  'the',\n",
       "  'screen',\n",
       "  'door',\n",
       "  'in',\n",
       "  'early',\n",
       "  'June'],\n",
       " [],\n",
       " ['or',\n",
       "  'the',\n",
       "  'smell',\n",
       "  'of',\n",
       "  'thick',\n",
       "  'tomato',\n",
       "  'paste',\n",
       "  '--',\n",
       "  'the',\n",
       "  'ripe',\n",
       "  'smell',\n",
       "  'that',\n",
       "  'was',\n",
       "  'both',\n",
       "  'sweet',\n",
       "  'and',\n",
       "  'sour',\n",
       "  '--',\n",
       "  'rising',\n",
       "  'up',\n",
       "  'from',\n",
       "  'aluminum',\n",
       "  'trays',\n",
       "  'wrapped',\n",
       "  'in',\n",
       "  'fly-dotted',\n",
       "  'cheesecloth'],\n",
       " ['Or',\n",
       "  'the',\n",
       "  'surging',\n",
       "  'whirling',\n",
       "  'sounds',\n",
       "  'of',\n",
       "  'bats',\n",
       "  'at',\n",
       "  'night',\n",
       "  'when',\n",
       "  'their',\n",
       "  'black',\n",
       "  'bodies',\n",
       "  'dived',\n",
       "  'into',\n",
       "  'the',\n",
       "  'blackness',\n",
       "  'above',\n",
       "  'and',\n",
       "  'below',\n",
       "  'the',\n",
       "  'amber',\n",
       "  'street',\n",
       "  'lights'],\n",
       " ['Or', 'the', 'bay', 'of', 'female', 'dogs', 'in', 'heat'],\n",
       " ['They',\n",
       "  'never',\n",
       "  'called',\n",
       "  'him',\n",
       "  'by',\n",
       "  'name',\n",
       "  'although',\n",
       "  'he',\n",
       "  'had',\n",
       "  'one'],\n",
       " ['Filippo',\n",
       "  'Rossi',\n",
       "  \"that's\",\n",
       "  'what',\n",
       "  'he',\n",
       "  'was',\n",
       "  'called',\n",
       "  'in',\n",
       "  'the',\n",
       "  'old',\n",
       "  'country'],\n",
       " [],\n",
       " ['but', 'here', 'he', 'was', 'just', 'Signore', 'or', 'the', 'Old', 'Man'],\n",
       " ['But',\n",
       "  'this',\n",
       "  'was',\n",
       "  'not',\n",
       "  'unusual',\n",
       "  'because',\n",
       "  'youth',\n",
       "  'in',\n",
       "  'these',\n",
       "  'quarters',\n",
       "  'was',\n",
       "  'always',\n",
       "  'pushed',\n",
       "  'at',\n",
       "  'a',\n",
       "  'distance',\n",
       "  'from',\n",
       "  'its',\n",
       "  'elders'],\n",
       " ['Youth', 'obeyed', 'when', 'commanded'],\n",
       " ['It',\n",
       "  'went',\n",
       "  'to',\n",
       "  'church',\n",
       "  'on',\n",
       "  'Sunday',\n",
       "  'and',\n",
       "  'one',\n",
       "  'Saturday',\n",
       "  'a',\n",
       "  'month',\n",
       "  'went',\n",
       "  'to',\n",
       "  'confession'],\n",
       " ['But',\n",
       "  'youth',\n",
       "  'asked',\n",
       "  'nothing',\n",
       "  'of',\n",
       "  'its',\n",
       "  'parents',\n",
       "  '--',\n",
       "  'not',\n",
       "  'a',\n",
       "  'touch',\n",
       "  'of',\n",
       "  'the',\n",
       "  'hand',\n",
       "  'or',\n",
       "  'a',\n",
       "  'kiss',\n",
       "  'given',\n",
       "  'in',\n",
       "  'passing'],\n",
       " ['The',\n",
       "  'only',\n",
       "  'thing',\n",
       "  'unusual',\n",
       "  'about',\n",
       "  'the',\n",
       "  'Old',\n",
       "  'Man',\n",
       "  'had',\n",
       "  'long',\n",
       "  'since',\n",
       "  'happened'],\n",
       " ['But',\n",
       "  'the',\n",
       "  'past',\n",
       "  'was',\n",
       "  'dead',\n",
       "  'here',\n",
       "  'as',\n",
       "  'the',\n",
       "  'present',\n",
       "  'was',\n",
       "  'dead'],\n",
       " ['Once', 'the', 'Old', 'Man', 'had', 'had', 'a', 'wife'],\n",
       " ['And', 'once', 'she', 'too', 'ignored', 'him'],\n",
       " ['With',\n",
       "  'a',\n",
       "  'tiny',\n",
       "  'fur-piece',\n",
       "  'wrapped',\n",
       "  'around',\n",
       "  'her',\n",
       "  'shoulders',\n",
       "  'she',\n",
       "  'wiggled',\n",
       "  'her',\n",
       "  'satin-covered',\n",
       "  'buttocks',\n",
       "  'down',\n",
       "  'the',\n",
       "  'street',\n",
       "  'before',\n",
       "  'him',\n",
       "  'and',\n",
       "  \"didn't\",\n",
       "  'stop'],\n",
       " ['In',\n",
       "  'one',\n",
       "  'hand',\n",
       "  'she',\n",
       "  'clutched',\n",
       "  'a',\n",
       "  'hundred',\n",
       "  'dollar',\n",
       "  'bill',\n",
       "  'and',\n",
       "  'in',\n",
       "  'the',\n",
       "  'other',\n",
       "  'a',\n",
       "  'straw',\n",
       "  'suitcase'],\n",
       " ['The',\n",
       "  'way',\n",
       "  'she',\n",
       "  'strutted',\n",
       "  'down',\n",
       "  'the',\n",
       "  'street',\n",
       "  'the',\n",
       "  'Old',\n",
       "  'Man',\n",
       "  'would',\n",
       "  'have',\n",
       "  'been',\n",
       "  'blind',\n",
       "  'not',\n",
       "  'to',\n",
       "  'have',\n",
       "  'noticed',\n",
       "  'both'],\n",
       " ['Without',\n",
       "  'looking',\n",
       "  'at',\n",
       "  'him',\n",
       "  'without',\n",
       "  'looking',\n",
       "  'at',\n",
       "  'anything',\n",
       "  'except',\n",
       "  'Drexel',\n",
       "  'Street',\n",
       "  'directly',\n",
       "  'in',\n",
       "  'front',\n",
       "  'of',\n",
       "  'her',\n",
       "  'she',\n",
       "  'climbed',\n",
       "  'up',\n",
       "  'into',\n",
       "  'one',\n",
       "  'of',\n",
       "  'those',\n",
       "  'orange',\n",
       "  'streetcars',\n",
       "  'rode',\n",
       "  'away',\n",
       "  'in',\n",
       "  'it',\n",
       "  'and',\n",
       "  'never',\n",
       "  'came',\n",
       "  'back'],\n",
       " ['``',\n",
       "  'But',\n",
       "  'she',\n",
       "  \"shouldn't\",\n",
       "  'have',\n",
       "  'come',\n",
       "  'here',\n",
       "  'in',\n",
       "  'the',\n",
       "  'first',\n",
       "  'place',\n",
       "  \"''\",\n",
       "  'the',\n",
       "  'women',\n",
       "  'had',\n",
       "  'said'],\n",
       " ['``', 'No', 'no'],\n",
       " ['Not', 'that', 'one'],\n",
       " ['She',\n",
       "  'thought',\n",
       "  'she',\n",
       "  'was',\n",
       "  'bigger',\n",
       "  'than',\n",
       "  'we',\n",
       "  'are',\n",
       "  'because',\n",
       "  'she',\n",
       "  'came',\n",
       "  'from',\n",
       "  'Torino',\n",
       "  \"''\"],\n",
       " ['``', 'Eh', 'Torino'],\n",
       " ['She', 'gave', 'herself', 'fancy', 'airs'],\n",
       " ['Just',\n",
       "  'because',\n",
       "  'she',\n",
       "  'had',\n",
       "  'a',\n",
       "  'part',\n",
       "  'on',\n",
       "  'the',\n",
       "  'stage',\n",
       "  'in',\n",
       "  'the',\n",
       "  'old',\n",
       "  'country',\n",
       "  'she',\n",
       "  'thought',\n",
       "  'she',\n",
       "  'could',\n",
       "  'carry',\n",
       "  'her',\n",
       "  'head',\n",
       "  'higher',\n",
       "  'than',\n",
       "  'ours',\n",
       "  \"''\"],\n",
       " ['They', 'had', 'slapped', 'their', 'thighs'],\n",
       " ['``',\n",
       "  \"It's\",\n",
       "  'not',\n",
       "  'for',\n",
       "  'making',\n",
       "  'pretty',\n",
       "  'speeches',\n",
       "  'about',\n",
       "  'Dante',\n",
       "  'those',\n",
       "  'actresses',\n",
       "  'get',\n",
       "  'paid',\n",
       "  'so',\n",
       "  'good',\n",
       "  \"''\"],\n",
       " ['``', 'Henh', \"''\"],\n",
       " ['Calloused',\n",
       "  'fingers',\n",
       "  'caressed',\n",
       "  'only',\n",
       "  'by',\n",
       "  'the',\n",
       "  'smoothness',\n",
       "  'of',\n",
       "  'polished',\n",
       "  'rosaries',\n",
       "  'had',\n",
       "  'swayed',\n",
       "  'excitedly',\n",
       "  'beneath',\n",
       "  'puckered',\n",
       "  'chins',\n",
       "  'where',\n",
       "  'tiny',\n",
       "  'black',\n",
       "  'hairs',\n",
       "  'sprouted',\n",
       "  'never',\n",
       "  'to',\n",
       "  'be',\n",
       "  'tweezed',\n",
       "  'away'],\n",
       " ['Mauve-colored',\n",
       "  'mouths',\n",
       "  'that',\n",
       "  'had',\n",
       "  'never',\n",
       "  'known',\n",
       "  'anything',\n",
       "  'sweeter',\n",
       "  'than',\n",
       "  'the',\n",
       "  'taste',\n",
       "  'of',\n",
       "  'new',\n",
       "  'wine',\n",
       "  'and',\n",
       "  'the',\n",
       "  'passion',\n",
       "  'of',\n",
       "  \"man's\",\n",
       "  'tongue',\n",
       "  'had',\n",
       "  'not',\n",
       "  'smiled',\n",
       "  'but',\n",
       "  'had',\n",
       "  'condemned',\n",
       "  'again',\n",
       "  'and',\n",
       "  'again'],\n",
       " ['``', 'Puttana', \"''\"],\n",
       " ['But',\n",
       "  'if',\n",
       "  'the',\n",
       "  'Old',\n",
       "  'Man',\n",
       "  'even',\n",
       "  'thought',\n",
       "  'about',\n",
       "  'his',\n",
       "  'wife',\n",
       "  'now',\n",
       "  'nobody',\n",
       "  'cared',\n",
       "  'a',\n",
       "  'fig'],\n",
       " ['It',\n",
       "  'was',\n",
       "  'enough',\n",
       "  'for',\n",
       "  'people',\n",
       "  'to',\n",
       "  'know',\n",
       "  'that',\n",
       "  'at',\n",
       "  'one',\n",
       "  'time',\n",
       "  'he',\n",
       "  'had',\n",
       "  'looked',\n",
       "  'down',\n",
       "  'the',\n",
       "  'street',\n",
       "  'at',\n",
       "  'the',\n",
       "  'f']]"
      ]
     },
     "execution_count": 50,
     "metadata": {},
     "output_type": "execute_result"
    }
   ],
   "source": [
    "# 제거하기\n",
    "[[word for word in sent if word not in punct] for sent in sentence_tokens]"
   ]
  },
  {
   "cell_type": "code",
   "execution_count": 53,
   "id": "18bf261a-1128-410c-9ef7-104059b5a952",
   "metadata": {},
   "outputs": [],
   "source": [
    "# 펑츄에이션에 포함되어 있지않은 문장부호 어떻게 없애지?\n",
    "my_punct = set = ([word for sent in sentence_tokens for word in sent if not word[0].isalnum() and word not in punct])\n",
    "punct.extend(list(my_punct))"
   ]
  },
  {
   "cell_type": "code",
   "execution_count": null,
   "id": "9019213e-7f81-47d7-a5bb-a30dbb4e6fdd",
   "metadata": {},
   "outputs": [],
   "source": [
    "# 하이픈\n",
    "'fur-piece'.split('-') # extend\n",
    "\n",
    "#'s\n",
    "\n",
    "word = 'she\\'s'\n",
    "index = word.find('\\'')\n",
    "word[:index],word[index:]"
   ]
  },
  {
   "cell_type": "code",
   "execution_count": null,
   "id": "cbd5935a-64a8-4006-825f-da18999f3d74",
   "metadata": {},
   "outputs": [],
   "source": [
    "for word:\n",
    "    list_sent.detend()"
   ]
  },
  {
   "cell_type": "code",
   "execution_count": null,
   "id": "a68493f0-743a-4131-b45a-7d194b949062",
   "metadata": {},
   "outputs": [],
   "source": [
    "# punc 제거하고, 토큰 리스트로 반환하는거 만들기\n",
    "\n",
    "def tokenize_wordtext):\n",
    "    token_list = text\n",
    "    return token_list\n",
    "\n",
    "tokenize_word(ex)"
   ]
  }
 ],
 "metadata": {
  "kernelspec": {
   "display_name": "Python 3 (ipykernel)",
   "language": "python",
   "name": "python3"
  },
  "language_info": {
   "codemirror_mode": {
    "name": "ipython",
    "version": 3
   },
   "file_extension": ".py",
   "mimetype": "text/x-python",
   "name": "python",
   "nbconvert_exporter": "python",
   "pygments_lexer": "ipython3",
   "version": "3.9.7"
  }
 },
 "nbformat": 4,
 "nbformat_minor": 5
}
