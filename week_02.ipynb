{
 "cells": [
  {
   "cell_type": "markdown",
   "id": "3abff994-3e05-4397-8090-3f377cedeab7",
   "metadata": {},
   "source": [
    "# ch2.variable"
   ]
  },
  {
   "cell_type": "markdown",
   "id": "4534a415-004b-42d3-9627-65b6a3521204",
   "metadata": {},
   "source": [
    "## 복습"
   ]
  },
  {
   "cell_type": "code",
   "execution_count": null,
   "id": "b7820c9b-8b70-4791-9abf-3aeee56031fe",
   "metadata": {},
   "outputs": [],
   "source": [
    "- variable 종류 : string, float, integer,bolean"
   ]
  },
  {
   "cell_type": "markdown",
   "id": "8b62ffe1-14de-4e88-81e7-0b087d06311b",
   "metadata": {},
   "source": [
    "## 1. 여러이름에 동시에 할당 가능"
   ]
  },
  {
   "cell_type": "code",
   "execution_count": 8,
   "id": "d3385949-d428-43f5-adda-0436d7d551fa",
   "metadata": {},
   "outputs": [
    {
     "name": "stdout",
     "output_type": "stream",
     "text": [
      "2\n",
      "2\n",
      "2\n"
     ]
    }
   ],
   "source": [
    "two = deux = dos = 2 \n",
    "\n",
    "print(two) ; print(deux) ; print(dos) # 여러코드를 한 줄에 ;(세미콜론)을 통해 나타낼 수 있음\n",
    "# 모두 2의 값을 가진다.\n",
    "# 순서 : dos > deux > two 순으로 할당 된다.\n"
   ]
  },
  {
   "cell_type": "code",
   "execution_count": 10,
   "id": "8baf4e92-30d7-4bcb-85b4-e74112bed057",
   "metadata": {
    "collapsed": true,
    "jupyter": {
     "outputs_hidden": true
    },
    "tags": []
   },
   "outputs": [
    {
     "name": "stdout",
     "output_type": "stream",
     "text": [
      "4 2 2\n"
     ]
    }
   ],
   "source": [
    "two = 4  #two 의 값 변경하면 ?\n",
    "\n",
    "print(two,deux,dos)"
   ]
  },
  {
   "cell_type": "code",
   "execution_count": null,
   "id": "408bdd09-adf0-44a5-b19f-4959389bb2bb",
   "metadata": {},
   "outputs": [],
   "source": [
    "- two의 값은 변하지만, deux,dos의 값은 그대로이다. \n",
    "- integer은 불변객체이다. "
   ]
  },
  {
   "cell_type": "code",
   "execution_count": 18,
   "id": "6e575055-f78d-4d19-bf11-58f1ef668933",
   "metadata": {},
   "outputs": [
    {
     "data": {
      "text/plain": [
       "(1707734886800, 1707734886736)"
      ]
     },
     "execution_count": 18,
     "metadata": {},
     "output_type": "execute_result"
    }
   ],
   "source": [
    "id(two), id(deux) \n",
    "#two의 id와 deux의 아이디는 다르다."
   ]
  },
  {
   "cell_type": "code",
   "execution_count": 17,
   "id": "c561a0fe-085d-47a4-81fe-8566253e84f0",
   "metadata": {},
   "outputs": [
    {
     "ename": "SyntaxError",
     "evalue": "invalid syntax (Temp/ipykernel_3444/1745347813.py, line 1)",
     "output_type": "error",
     "traceback": [
      "\u001b[1;36m  File \u001b[1;32m\"C:\\Users\\USER\\AppData\\Local\\Temp/ipykernel_3444/1745347813.py\"\u001b[1;36m, line \u001b[1;32m1\u001b[0m\n\u001b[1;33m    - 값을 변화시킬려면 [] 사용\u001b[0m\n\u001b[1;37m         ^\u001b[0m\n\u001b[1;31mSyntaxError\u001b[0m\u001b[1;31m:\u001b[0m invalid syntax\n"
     ]
    }
   ],
   "source": [
    "- 값을 변화시킬려면 [] 사용"
   ]
  },
  {
   "cell_type": "code",
   "execution_count": 14,
   "id": "f58b1410-bd85-41bf-9640-dded2e6d631f",
   "metadata": {},
   "outputs": [
    {
     "name": "stdout",
     "output_type": "stream",
     "text": [
      "[1, 2, 3] [1, 2, 3]\n"
     ]
    }
   ],
   "source": [
    "p = [1,2,3]\n",
    "q = p #id가 같다\n",
    "\n",
    "print(p,q)"
   ]
  },
  {
   "cell_type": "code",
   "execution_count": 15,
   "id": "01097c48-2549-4e0f-9161-34dcad8db7f9",
   "metadata": {},
   "outputs": [
    {
     "name": "stdout",
     "output_type": "stream",
     "text": [
      "[9, 2, 3] [9, 2, 3]\n"
     ]
    }
   ],
   "source": [
    "p[0]=9  #[0]의 자리인 1이 9로 바뀜. 아이디는 그대로\n",
    "\n",
    "print(p,q)"
   ]
  },
  {
   "cell_type": "code",
   "execution_count": null,
   "id": "63e49d01-974f-415a-a25e-9e6a95652b4f",
   "metadata": {},
   "outputs": [],
   "source": [
    "- id : 메모리 주소를 찾는 것"
   ]
  },
  {
   "cell_type": "markdown",
   "id": "415e8907-3ffe-4816-bf84-966916939f23",
   "metadata": {},
   "source": [
    "##2 좋은 변수명"
   ]
  },
  {
   "cell_type": "code",
   "execution_count": null,
   "id": "9e2c1b78-9268-44dd-8ca6-b333654ce672",
   "metadata": {},
   "outputs": [],
   "source": [
    "- 간결하고 의미있게 \n",
    "- 코드에는 의미를, 주석에는 의도를 담아야함\n",
    "ex) a,b,c (X) , num_students (O)\n",
    "\n",
    "- 카멜 표기법 : numStudents"
   ]
  },
  {
   "cell_type": "markdown",
   "id": "2d9f0941-5c46-4753-8a8e-f7626cdc19eb",
   "metadata": {},
   "source": [
    "##3 자료형 변환 "
   ]
  },
  {
   "cell_type": "code",
   "execution_count": null,
   "id": "ec2ec504-0e1c-4d5c-bce2-d083b0b5a982",
   "metadata": {},
   "outputs": [],
   "source": [
    "- str(변환할 값), int(), float(), bool()"
   ]
  },
  {
   "cell_type": "code",
   "execution_count": 27,
   "id": "ad196dbd-58d6-4686-9743-a56f6cbc3fe7",
   "metadata": {},
   "outputs": [
    {
     "name": "stdout",
     "output_type": "stream",
     "text": [
      "20\n"
     ]
    },
    {
     "data": {
      "text/plain": [
       "str"
      ]
     },
     "execution_count": 27,
     "metadata": {},
     "output_type": "execute_result"
    }
   ],
   "source": [
    "num_apple = 20\n",
    "\n",
    "a = str(num_apple) ; print(a) ; type(a)"
   ]
  },
  {
   "cell_type": "code",
   "execution_count": 28,
   "id": "3fd1fb1c-4001-4519-842f-9b72e5780b34",
   "metadata": {},
   "outputs": [
    {
     "name": "stdout",
     "output_type": "stream",
     "text": [
      "20.0\n"
     ]
    },
    {
     "data": {
      "text/plain": [
       "float"
      ]
     },
     "execution_count": 28,
     "metadata": {},
     "output_type": "execute_result"
    }
   ],
   "source": [
    "b = float(num_apple ) ; print(b) ; type(b)"
   ]
  },
  {
   "cell_type": "code",
   "execution_count": 30,
   "id": "c1a3950b-93e7-42dc-beda-a56bd5902c9b",
   "metadata": {},
   "outputs": [
    {
     "name": "stdout",
     "output_type": "stream",
     "text": [
      "True\n"
     ]
    },
    {
     "data": {
      "text/plain": [
       "bool"
      ]
     },
     "execution_count": 30,
     "metadata": {},
     "output_type": "execute_result"
    }
   ],
   "source": [
    "c = bool(num_apple) ; print(c) ; type(c)"
   ]
  },
  {
   "cell_type": "code",
   "execution_count": null,
   "id": "0bcb5ee5-da06-4cf4-9034-69aaecb1534b",
   "metadata": {},
   "outputs": [],
   "source": [
    "# 자료형 변환할 때 주의점\n",
    "`"
   ]
  },
  {
   "cell_type": "code",
   "execution_count": null,
   "id": "7ee34788-f398-4b34-a269-1236a6d6622e",
   "metadata": {},
   "outputs": [],
   "source": [
    "1. float > int \n",
    "- 소수점이 내려진다. "
   ]
  },
  {
   "cell_type": "code",
   "execution_count": 31,
   "id": "7e3ffe8d-c81e-4e81-b5ee-0837fa176328",
   "metadata": {},
   "outputs": [
    {
     "name": "stdout",
     "output_type": "stream",
     "text": [
      "11\n",
      "10\n",
      "11.0\n"
     ]
    }
   ],
   "source": [
    "x = 10.5 \n",
    "y = 0.5\n",
    "\n",
    "print(int(x+y))\n",
    "print(int(x) + int(y))\n",
    "# 값이 달라진다."
   ]
  },
  {
   "cell_type": "code",
   "execution_count": null,
   "id": "e3303cb7-d3fe-43f3-b9a6-e3f5e7ff6caa",
   "metadata": {},
   "outputs": [],
   "source": [
    "2. str > int/float"
   ]
  },
  {
   "cell_type": "code",
   "execution_count": 32,
   "id": "3442d9d7-256d-424e-b609-44ed155b7dc6",
   "metadata": {},
   "outputs": [
    {
     "name": "stdout",
     "output_type": "stream",
     "text": [
      "10\n",
      "10.0\n"
     ]
    }
   ],
   "source": [
    "i = '10'\n",
    "print(int(i)) \n",
    "print(float(i))"
   ]
  },
  {
   "cell_type": "code",
   "execution_count": 33,
   "id": "6716c001-d367-4da2-9ece-ea93d131ed64",
   "metadata": {},
   "outputs": [
    {
     "ename": "ValueError",
     "evalue": "invalid literal for int() with base 10: '10.7'",
     "output_type": "error",
     "traceback": [
      "\u001b[1;31m---------------------------------------------------------------------------\u001b[0m",
      "\u001b[1;31mValueError\u001b[0m                                Traceback (most recent call last)",
      "\u001b[1;32m~\\AppData\\Local\\Temp/ipykernel_3444/3048864228.py\u001b[0m in \u001b[0;36m<module>\u001b[1;34m\u001b[0m\n\u001b[0;32m      1\u001b[0m \u001b[0mj\u001b[0m \u001b[1;33m=\u001b[0m \u001b[1;34m'10.7'\u001b[0m\u001b[1;33m\u001b[0m\u001b[1;33m\u001b[0m\u001b[0m\n\u001b[1;32m----> 2\u001b[1;33m \u001b[0mprint\u001b[0m\u001b[1;33m(\u001b[0m\u001b[0mint\u001b[0m\u001b[1;33m(\u001b[0m\u001b[0mj\u001b[0m\u001b[1;33m)\u001b[0m\u001b[1;33m)\u001b[0m\u001b[1;33m\u001b[0m\u001b[1;33m\u001b[0m\u001b[0m\n\u001b[0m",
      "\u001b[1;31mValueError\u001b[0m: invalid literal for int() with base 10: '10.7'"
     ]
    }
   ],
   "source": [
    "j = '10.7'\n",
    "print(int(j)) #error"
   ]
  },
  {
   "cell_type": "markdown",
   "id": "6984dfd8-9321-4578-8d6b-510da9b1b719",
   "metadata": {},
   "source": [
    "### 새로 배운 내용"
   ]
  },
  {
   "cell_type": "markdown",
   "id": "9f801380-c7ac-47a2-9686-e18f66d30a86",
   "metadata": {},
   "source": [
    "## 1. print() 사용 방법"
   ]
  },
  {
   "cell_type": "code",
   "execution_count": null,
   "id": "d52eda50-620a-4c70-ae85-eab03722bde9",
   "metadata": {},
   "outputs": [],
   "source": [
    "# print(a + b +c) space없이 출력됨.\n",
    "# print(a,b,c) space있게 출력됨.\n",
    "# print(abc, sep=',', end='\\n') #default 값\n",
    "\n"
   ]
  },
  {
   "cell_type": "code",
   "execution_count": 3,
   "id": "3694f0fe-fec4-4626-8f47-4513ee4460f7",
   "metadata": {},
   "outputs": [
    {
     "name": "stdout",
     "output_type": "stream",
     "text": [
      "dogcatlion\n",
      "dog cat lion\n",
      "dog,cat,lion\n",
      "I am cat\n",
      "I am dog\n"
     ]
    }
   ],
   "source": [
    "cat = 'cat'\n",
    "dog = 'dog'\n",
    "lion = 'lion'\n",
    "\n",
    "print(dog + cat + lion)\n",
    "print(dog,cat,lion)\n",
    "print(dog,cat,lion, sep =',', end ='\\n')\n",
    "\n",
    "# 문자열 + 변수 를 나타내는 방법\n",
    "print('I am',cat)\n",
    "print(f'I am {dog}')"
   ]
  },
  {
   "cell_type": "markdown",
   "id": "f394c091-29c4-4d24-af1f-8977ed3c26af",
   "metadata": {},
   "source": [
    "## 2. input 함수 사용"
   ]
  },
  {
   "cell_type": "code",
   "execution_count": null,
   "id": "63941023-2277-4ce8-bcce-88a0f7640d5e",
   "metadata": {},
   "outputs": [],
   "source": [
    "- console에서 사용자가 입력하는 값을 받을 수 있는 함수\n",
    "- 입력받은 값은 문저열로 인식 , 숫자면 형변환 필요"
   ]
  },
  {
   "cell_type": "code",
   "execution_count": 5,
   "id": "ed564a54-a81e-4271-9d90-5b75fd390783",
   "metadata": {},
   "outputs": [
    {
     "name": "stdin",
     "output_type": "stream",
     "text": [
      " 4\n"
     ]
    },
    {
     "data": {
      "text/plain": [
       "str"
      ]
     },
     "execution_count": 5,
     "metadata": {},
     "output_type": "execute_result"
    }
   ],
   "source": [
    "number = input()\n",
    "type(number)"
   ]
  },
  {
   "cell_type": "code",
   "execution_count": null,
   "id": "4692109c-8497-4fd4-8d9f-475fff679b35",
   "metadata": {},
   "outputs": [],
   "source": [
    "- 입력받은 값은 변수로 담아 사용함. 변수로 지정안하면 사라짐"
   ]
  },
  {
   "cell_type": "code",
   "execution_count": 6,
   "id": "f3d5f2ea-3758-4c2a-97b3-148baf368cda",
   "metadata": {},
   "outputs": [
    {
     "name": "stdin",
     "output_type": "stream",
     "text": [
      "나이: 4\n"
     ]
    },
    {
     "name": "stdout",
     "output_type": "stream",
     "text": [
      "나이:\n"
     ]
    },
    {
     "name": "stdin",
     "output_type": "stream",
     "text": [
      " 6\n"
     ]
    }
   ],
   "source": [
    "# 변수에 할당하는 법\n",
    "#1. \n",
    "age = input('나이:')\n",
    "#2\n",
    "print('나이:')\n",
    "age = input()"
   ]
  },
  {
   "cell_type": "markdown",
   "id": "bc6b103e-058b-401e-8c66-59699f3158be",
   "metadata": {},
   "source": [
    "## 3. 논리 연산자"
   ]
  },
  {
   "cell_type": "code",
   "execution_count": null,
   "id": "6c5ae3de-415b-42d1-82a4-dbe2f31ba8b9",
   "metadata": {},
   "outputs": [],
   "source": [
    "- 여러 조건식을 비교할 때 사용\n",
    "- and,& : 둘다 참 True\n",
    "- or, | : 둘 중 하나만 참이여도 True\n",
    "- not : 참=False, 거짓=True\n",
    "# 1<x<3 파이썬 만 가능한 수식 "
   ]
  },
  {
   "cell_type": "markdown",
   "id": "de8fcbd9-7fdc-4f98-ad26-f9db9db152d8",
   "metadata": {},
   "source": [
    "# ch3 numbers"
   ]
  },
  {
   "cell_type": "markdown",
   "id": "d85f5144-89d3-4501-81d2-0c5d9d8c5693",
   "metadata": {},
   "source": [
    "## 1. boolean"
   ]
  },
  {
   "cell_type": "code",
   "execution_count": null,
   "id": "008d74de-cb42-48aa-b585-ac0d6721779c",
   "metadata": {},
   "outputs": [],
   "source": [
    "- False :'',None, 0 ,..\n",
    "- True : 나머지\n",
    "- 조건식에서 사용된다."
   ]
  },
  {
   "cell_type": "code",
   "execution_count": 11,
   "id": "b5db9985-3fdd-4fb1-b2a8-e2a1e16fefe1",
   "metadata": {},
   "outputs": [
    {
     "data": {
      "text/plain": [
       "False"
      ]
     },
     "execution_count": 11,
     "metadata": {},
     "output_type": "execute_result"
    }
   ],
   "source": [
    "bool(1) ; bool('')"
   ]
  },
  {
   "cell_type": "markdown",
   "id": "0b0b4099-b1eb-4c4f-b0d7-3e6adfc39813",
   "metadata": {},
   "source": [
    "## 2. integer"
   ]
  },
  {
   "cell_type": "code",
   "execution_count": null,
   "id": "f7624a5b-9b86-4865-808a-2c51221d461e",
   "metadata": {},
   "outputs": [],
   "source": [
    "- defalut : 양수, - 음수\n",
    "- 숫자앞에 0 못 붙인다. # 0bxxxx는 다른 진수표현법으로 허용\n",
    "- 숫자는 공백이 많아도 무시"
   ]
  },
  {
   "cell_type": "code",
   "execution_count": 12,
   "id": "4f18025a-a89b-4a69-bf50-a90c69436e39",
   "metadata": {},
   "outputs": [
    {
     "ename": "SyntaxError",
     "evalue": "leading zeros in decimal integer literals are not permitted; use an 0o prefix for octal integers (Temp/ipykernel_11944/504318059.py, line 1)",
     "output_type": "error",
     "traceback": [
      "\u001b[1;36m  File \u001b[1;32m\"C:\\Users\\USER\\AppData\\Local\\Temp/ipykernel_11944/504318059.py\"\u001b[1;36m, line \u001b[1;32m1\u001b[0m\n\u001b[1;33m    a = 09\u001b[0m\n\u001b[1;37m         ^\u001b[0m\n\u001b[1;31mSyntaxError\u001b[0m\u001b[1;31m:\u001b[0m leading zeros in decimal integer literals are not permitted; use an 0o prefix for octal integers\n"
     ]
    }
   ],
   "source": [
    "a = 09  # 숫자는 0으로 시작 불가능"
   ]
  },
  {
   "cell_type": "code",
   "execution_count": 14,
   "id": "7872a429-53fb-4779-b2ab-871cd9a36a99",
   "metadata": {},
   "outputs": [
    {
     "name": "stdout",
     "output_type": "stream",
     "text": [
      "10 0\n",
      "10000\n"
     ]
    }
   ],
   "source": [
    "print(10,000) # 10,000을 표현하고 싶으면 _ 사용\n",
    "print(10_000)"
   ]
  },
  {
   "cell_type": "markdown",
   "id": "5bec58b6-071a-4382-953a-4389ffb8fb32",
   "metadata": {},
   "source": [
    "## 3. 연산 "
   ]
  },
  {
   "cell_type": "code",
   "execution_count": null,
   "id": "c523cc9b-2d53-44ae-b853-ff246856ff67",
   "metadata": {},
   "outputs": [],
   "source": [
    "- 연산자 | operator : + -\n",
    "- 피연산자 | operand : 4,5 ...\n",
    "- 수식 | expression"
   ]
  },
  {
   "cell_type": "code",
   "execution_count": null,
   "id": "c3e96a22-8676-4b69-a681-24ecc806ae70",
   "metadata": {},
   "outputs": [],
   "source": [
    "x + y\n",
    "x - y\n",
    "x * y\n",
    "x / y\n",
    "x ** y  #거듭제곱 | exponential"
   ]
  },
  {
   "cell_type": "code",
   "execution_count": null,
   "id": "e150935d-af43-41ce-8949-82d1aca2e9ae",
   "metadata": {},
   "outputs": [],
   "source": [
    "- 나누기 주의\n",
    "1. 0 으로 나누지 못함 , y != 0\n",
    "\n",
    "x // y : 몫\n",
    "x % y : 나머지\n",
    "\n",
    "divimod(x,y) = (몫, 나머지)"
   ]
  },
  {
   "cell_type": "markdown",
   "id": "71bfc84d-1ab9-4a50-aa1a-9c0824a2119d",
   "metadata": {},
   "source": [
    "## 4. 복합 대입 연산자 compound assignment operator"
   ]
  },
  {
   "cell_type": "code",
   "execution_count": 15,
   "id": "711cd935-69b7-40a5-9ab0-a4f7a04964b5",
   "metadata": {},
   "outputs": [
    {
     "name": "stdout",
     "output_type": "stream",
     "text": [
      "5\n"
     ]
    }
   ],
   "source": [
    "a = 5\n",
    "a - 3\n",
    "print(a) \n",
    "# a 값은 변하지 않음. a를 새로 바꾸고 싶으면 사용"
   ]
  },
  {
   "cell_type": "code",
   "execution_count": null,
   "id": "e012dee8-748b-4efa-ab26-4bbc10e1392c",
   "metadata": {},
   "outputs": [],
   "source": [
    "1. a-3 계산\n",
    "2. 임시변수 temp = a-3\n",
    "3. a = a-3을 새로 할당"
   ]
  },
  {
   "cell_type": "code",
   "execution_count": null,
   "id": "7c0571a1-05f8-4c31-bd93-7f45935c76a1",
   "metadata": {},
   "outputs": [],
   "source": [
    "a -= 3 \n",
    "a += 3\n",
    "a *= 3\n",
    "a /= 3"
   ]
  },
  {
   "cell_type": "markdown",
   "id": "28e479c4-512c-40f9-9a1f-19b3bf54e462",
   "metadata": {},
   "source": [
    "## 5. 지수표현"
   ]
  },
  {
   "cell_type": "code",
   "execution_count": 2,
   "id": "051149c0-ff70-4572-aeba-be21a84c9d90",
   "metadata": {},
   "outputs": [
    {
     "data": {
      "text/plain": [
       "1000000.0"
      ]
     },
     "execution_count": 2,
     "metadata": {},
     "output_type": "execute_result"
    }
   ],
   "source": [
    "1.0e6    #float"
   ]
  },
  {
   "cell_type": "code",
   "execution_count": null,
   "id": "0e5d6750-9a2a-4983-9b36-85af53d86ed0",
   "metadata": {},
   "outputs": [],
   "source": [
    "- e,E 모두 가능\n",
    "- 앞부분은 float, int 가능\n",
    "- 뒤부분은 int만 가능\n",
    "- 양수면 0 앞으로\n",
    "- 음수면 0 뒤로 (소수점)"
   ]
  },
  {
   "cell_type": "code",
   "execution_count": 5,
   "id": "db676934-1767-4c41-805c-29f4c3440e79",
   "metadata": {},
   "outputs": [
    {
     "data": {
      "text/plain": [
       "0.000789"
      ]
     },
     "execution_count": 5,
     "metadata": {},
     "output_type": "execute_result"
    }
   ],
   "source": [
    "# 0.000789\n",
    "7.89e-4"
   ]
  },
  {
   "cell_type": "markdown",
   "id": "5bd9b7b1-b8a3-403f-bffd-58cc35c0eaf8",
   "metadata": {},
   "source": [
    "# ch.4 if 문"
   ]
  },
  {
   "cell_type": "markdown",
   "id": "76ad979a-15cf-4f25-bb99-8eab44818985",
   "metadata": {},
   "source": [
    "## 1.조건문 if"
   ]
  },
  {
   "cell_type": "code",
   "execution_count": null,
   "id": "b6d97964-ca56-43b7-ab3f-bb740222b386",
   "metadata": {},
   "outputs": [],
   "source": [
    "1. 코드 짜는 룰\n",
    "- 주석다는 방법 \n",
    "  - 설명하는 부분을 '#' hash,sharp 을 사용한다.\n",
    "    \n",
    "  - 문자열 안에 들어있는 해시는 문자열로 인식"
   ]
  },
  {
   "cell_type": "code",
   "execution_count": 6,
   "id": "6101974a-aaa2-4e28-892a-559dd76276d8",
   "metadata": {},
   "outputs": [
    {
     "name": "stdout",
     "output_type": "stream",
     "text": [
      "##mountain##\n"
     ]
    }
   ],
   "source": [
    "my_name = '##mountain##'\n",
    "print(my_name)"
   ]
  },
  {
   "cell_type": "code",
   "execution_count": 7,
   "id": "1bc88f11-949a-479e-a305-f3dc89a0f8cf",
   "metadata": {},
   "outputs": [
    {
     "name": "stdout",
     "output_type": "stream",
     "text": [
      "3\n"
     ]
    }
   ],
   "source": [
    "\"\"\" 주석 내용 \"\"\" \n",
    "print(3)"
   ]
  },
  {
   "cell_type": "code",
   "execution_count": null,
   "id": "02e620fa-125a-4b73-ab5a-87b55700465a",
   "metadata": {},
   "outputs": [],
   "source": [
    "2. if 절의 라인 유지하기\n",
    "- 들여쓰기 = 공백 4개 = 탭 1개\n",
    "- 한줄에 최대 88자 넘지 않게한다.\n",
    "- 백슬래시 \\ 를 사용해 끊어준다.\n",
    "\n",
    "if <조건식> :\n",
    "    조건식 ....\n"
   ]
  },
  {
   "cell_type": "code",
   "execution_count": 8,
   "id": "ff92aeec-5da4-4bdf-bbd8-bd2c88e4bfd2",
   "metadata": {},
   "outputs": [
    {
     "name": "stdout",
     "output_type": "stream",
     "text": [
      "big\n"
     ]
    }
   ],
   "source": [
    "# 조건식 1개 if 절\n",
    "\n",
    "if 0 == 0 :\n",
    "    print('yes')"
   ]
  },
  {
   "cell_type": "code",
   "execution_count": 12,
   "id": "0a023a8a-71c7-4070-ae9a-1afc1acdadc2",
   "metadata": {},
   "outputs": [
    {
     "name": "stdin",
     "output_type": "stream",
     "text": [
      " 4\n"
     ]
    },
    {
     "name": "stdout",
     "output_type": "stream",
     "text": [
      "no\n"
     ]
    }
   ],
   "source": [
    "# 조건식 2개 if절\n",
    "\n",
    "num = input()\n",
    "if num == 0 :\n",
    "    print('zero')\n",
    "else :\n",
    "    print('no')\n",
    "# if와 else의 라인은 같게 , prit들의 라인을 같게 맞춘다."
   ]
  },
  {
   "cell_type": "code",
   "execution_count": 10,
   "id": "bad23565-3140-4441-8e6a-9efc62548c29",
   "metadata": {},
   "outputs": [
    {
     "name": "stdout",
     "output_type": "stream",
     "text": [
      "yes\n"
     ]
    }
   ],
   "source": [
    "# 조건식 3개 if 절\n",
    "\n",
    "num = input()\n",
    "if num == 0 :\n",
    "    print('zero')\n",
    "elif num > 1 :\n",
    "    print('big')\n",
    "else :\n",
    "    print('no')"
   ]
  },
  {
   "cell_type": "markdown",
   "id": "aa6fb072-4ffc-40de-bd45-8becfcca484d",
   "metadata": {},
   "source": [
    "## 2.비교연산"
   ]
  },
  {
   "cell_type": "code",
   "execution_count": null,
   "id": "86c75363-d60d-47fd-a2d0-3f6baaed9adf",
   "metadata": {},
   "outputs": [],
   "source": [
    "x < y\n",
    "x <= Y\n",
    "x > y\n",
    "x >= y\n",
    "x == y\n",
    "x != y\n",
    "x is y  #값과 메모리 주소가 같아야함\n",
    "x is not y"
   ]
  },
  {
   "cell_type": "markdown",
   "id": "76c54dc8-9857-44a2-b0d2-21d70090aeec",
   "metadata": {},
   "source": [
    "# 퀴즈"
   ]
  },
  {
   "cell_type": "markdown",
   "id": "8aef5a23-a72b-4988-b153-d34d97408c03",
   "metadata": {},
   "source": [
    "## 1. 섭씨를 입력받아 화씨로 변환"
   ]
  },
  {
   "cell_type": "code",
   "execution_count": 13,
   "id": "2e188854-8de3-4e4a-8b4a-3aa695c29396",
   "metadata": {},
   "outputs": [
    {
     "name": "stdin",
     "output_type": "stream",
     "text": [
      "섭씨: 34.5\n"
     ]
    },
    {
     "name": "stdout",
     "output_type": "stream",
     "text": [
      "화씨는 94.100000 도 입니다\n"
     ]
    }
   ],
   "source": [
    "celsius = float(input('섭씨:'))\n",
    "fahr = celsius * 1.8 + 32\n",
    "print('화씨는 %f 도 입니다' % (fahr))"
   ]
  },
  {
   "cell_type": "markdown",
   "id": "bd280686-6934-4d76-aa2d-8dedae32bf2e",
   "metadata": {},
   "source": [
    "## 2.택배 정보받기"
   ]
  },
  {
   "cell_type": "code",
   "execution_count": null,
   "id": "0de92a17-45f1-4573-8dac-6c4b10513d79",
   "metadata": {},
   "outputs": [],
   "source": [
    "- 택배 정보 입력받고, 총 합계 계산하기\n",
    "- 출력값 :\n",
    "    - 수취인 성명 : <이름>\n",
    "    - 수취인 주소 : <주소>\n",
    "    - 배송비 : 3000원\n",
    "    - 물건 비용 : <가격>원\n",
    "    - 총 합계 : <가격>원\n",
    "- 물건 비용 = 무게 (g) * 5\n",
    "- 합계 = 배송비 + 물건 비용"
   ]
  },
  {
   "cell_type": "code",
   "execution_count": 18,
   "id": "cb0cba79-6462-4350-bc21-5d886ab969ab",
   "metadata": {},
   "outputs": [
    {
     "name": "stdout",
     "output_type": "stream",
     "text": [
      "택배 정보를 입력해주세요.\n"
     ]
    },
    {
     "name": "stdin",
     "output_type": "stream",
     "text": [
      "이름: 임산별\n",
      "주소: 이문동\n"
     ]
    },
    {
     "name": "stdout",
     "output_type": "stream",
     "text": [
      "배송비 : 3000원\n"
     ]
    },
    {
     "name": "stdin",
     "output_type": "stream",
     "text": [
      "무게: 45\n"
     ]
    },
    {
     "name": "stdout",
     "output_type": "stream",
     "text": [
      "총 합계는 3225원 입니다.\n"
     ]
    }
   ],
   "source": [
    "print('택배 정보를 입력해주세요.')\n",
    "\n",
    "name = input('이름:')\n",
    "address = input('주소:')\n",
    "print('배송비 : 3000원')\n",
    "weight_g = input('무게:')\n",
    "\n",
    "fee = float(weight_g) * 5\n",
    "total_fee = int(3000 + fee)\n",
    "\n",
    "print(f\"총 합계는 {total_fee}원 입니다.\")"
   ]
  },
  {
   "cell_type": "markdown",
   "id": "0966d3fa-4033-46c5-a2a4-508847d782ba",
   "metadata": {},
   "source": [
    "## 3. 홀수 짝수 확인"
   ]
  },
  {
   "cell_type": "code",
   "execution_count": null,
   "id": "fc05d815-9840-490c-aa75-78f76b6120d7",
   "metadata": {},
   "outputs": [],
   "source": [
    "- 정수를 입력받고, 3의 배수인지 확인하세요\n",
    "- = 홀수인지 확인하세요"
   ]
  },
  {
   "cell_type": "code",
   "execution_count": null,
   "id": "de6f9d1b-cce4-4ff9-ba83-5a7022d9f764",
   "metadata": {},
   "outputs": [],
   "source": [
    "num1 = int(input('정수를 입력해주세요:'))\n",
    "if num1 % 3 == 0 :\n",
    "    print('3의 배수입니다.')\n",
    "else :\n",
    "    print('3의 배수가 아닙니다.')\n",
    "    \n",
    "if num1 % 2 != 0 :\n",
    "    print('홀수입니다.')\n",
    "else :\n",
    "    print('짝수입니다.')"
   ]
  },
  {
   "cell_type": "markdown",
   "id": "8b1ba97c-53af-47e4-827b-e1d7141cc7f0",
   "metadata": {},
   "source": [
    "## 4. 학점 부여"
   ]
  },
  {
   "cell_type": "code",
   "execution_count": null,
   "id": "5a64d6b7-2d5c-462a-898c-f547870bd895",
   "metadata": {},
   "outputs": [],
   "source": [
    "- 학점 부여하기\n",
    "- 학점을 입력 받아서\n",
    " - 90점 이상이면 A\n",
    " - 80, B\n",
    " -70, C\n",
    " - 그외, D\n",
    "- 변수 설정 유의"
   ]
  },
  {
   "cell_type": "code",
   "execution_count": null,
   "id": "69cd6cea-48ed-4e4c-8877-e10b82cc3170",
   "metadata": {},
   "outputs": [],
   "source": [
    "score = float(input('점수를 입력해주세요:'))\n",
    "absent = int(input('결석횟수를 입력하세요:'))\n",
    "\n",
    "if score >= 90:\n",
    "    print('A입니다.')\n",
    "elif 80 <= score :\n",
    "    print('B입니다.')\n",
    "     if \n",
    "elif 70 <= score:\n",
    "    print('C입니다.')\n",
    "else :\n",
    "    print('D입니다.')"
   ]
  },
  {
   "cell_type": "markdown",
   "id": "3a6a1db7-300b-4a71-a715-1cfc30212412",
   "metadata": {},
   "source": [
    "## 5. 아이디 비번 일치"
   ]
  },
  {
   "cell_type": "code",
   "execution_count": null,
   "id": "f146fdd9-9d47-4c61-b4b7-cc02dcca3d9a",
   "metadata": {},
   "outputs": [],
   "source": [
    "- 아이디와 비번 입력받아서 일치하면 로그인\n",
    "- 아이디, 비번 각자 정해놓기\n",
    "- 일치하지 않을 때에는 창의적으로 어떤걸로 반환하기"
   ]
  },
  {
   "cell_type": "code",
   "execution_count": 8,
   "id": "b497aac3-7e63-47e2-9d73-7bacf8404464",
   "metadata": {},
   "outputs": [
    {
     "name": "stdin",
     "output_type": "stream",
     "text": [
      "ID: mountainstar\n",
      "passward: 1234\n"
     ]
    },
    {
     "name": "stdout",
     "output_type": "stream",
     "text": [
      "로그인이 되었습니다.\n"
     ]
    }
   ],
   "source": [
    "my_id = 'mountainstar'\n",
    "my_passward = '1234'\n",
    "\n",
    "pers_id = input('ID:')\n",
    "pers_passward = input('passward:')\n",
    "\n",
    "if pers_id == my_id :\n",
    "    if pers_passward == my_passward :\n",
    "        print('로그인이 되었습니다.')\n",
    "    else :\n",
    "        print('잘못된 비밀번호 입니다.')\n",
    "else :\n",
    "    print('잘못된 아이디와 비밀번호 입니다.')"
   ]
  },
  {
   "cell_type": "markdown",
   "id": "b9bed271-76cb-459f-846a-b677e9e5bea8",
   "metadata": {},
   "source": [
    "## 6. 학점 부여 확장"
   ]
  },
  {
   "cell_type": "code",
   "execution_count": null,
   "id": "f8714010-34f9-47c3-93d4-2c0ba48998c9",
   "metadata": {},
   "outputs": [],
   "source": [
    "- 결석횟수를 받아서, 점수가 80점이상인데 , 결석이 2번이상이면 F, 나머지는 점수대로\n",
    "- 논리연산자 사용 or if 코드 크게 두번 사용"
   ]
  },
  {
   "cell_type": "code",
   "execution_count": 3,
   "id": "68960f33-163c-400f-9ba8-1352cb93c21d",
   "metadata": {},
   "outputs": [
    {
     "name": "stdin",
     "output_type": "stream",
     "text": [
      "성적을 입력하세요: 90\n",
      "결석횟수를 입력학세요: 2\n"
     ]
    },
    {
     "name": "stdout",
     "output_type": "stream",
     "text": [
      "학점은 F입니다.\n"
     ]
    }
   ],
   "source": [
    "score = float(input('성적을 입력하세요:'))\n",
    "absent = int(input('결석횟수를 입력학세요:'))\n",
    "\n",
    "if absent >= 2 :\n",
    "    grade = 'F'\n",
    "else :\n",
    "    if score >= 90:\n",
    "        grade = 'A'\n",
    "    elif 80 <= score :\n",
    "        grade = 'B'  \n",
    "    elif 70 <= score:\n",
    "        grade = 'c'\n",
    "    else :\n",
    "        grade = 'D'\n",
    "        \n",
    "print(f'학점은 {grade}입니다.')"
   ]
  },
  {
   "cell_type": "code",
   "execution_count": null,
   "id": "ad997bc1-f6c2-458a-a755-d363d7bb40d9",
   "metadata": {},
   "outputs": [],
   "source": []
  }
 ],
 "metadata": {
  "kernelspec": {
   "display_name": "Python 3 (ipykernel)",
   "language": "python",
   "name": "python3"
  },
  "language_info": {
   "codemirror_mode": {
    "name": "ipython",
    "version": 3
   },
   "file_extension": ".py",
   "mimetype": "text/x-python",
   "name": "python",
   "nbconvert_exporter": "python",
   "pygments_lexer": "ipython3",
   "version": "3.9.7"
  }
 },
 "nbformat": 4,
 "nbformat_minor": 5
}
